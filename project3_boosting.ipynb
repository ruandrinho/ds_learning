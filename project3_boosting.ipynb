{
 "cells": [
  {
   "cell_type": "markdown",
   "metadata": {},
   "source": [
    "# Градиентный бустинг\n",
    "\n",
    "## Исследование датасета по географическому происхождению музыкальных отрывков\n",
    "\n",
    "Данные взяты из https://archive.ics.uci.edu/ml/datasets/Geographical+Original+of+Music"
   ]
  },
  {
   "cell_type": "markdown",
   "metadata": {},
   "source": [
    "## Загрузка данных"
   ]
  },
  {
   "cell_type": "code",
   "execution_count": 1,
   "metadata": {},
   "outputs": [],
   "source": [
    "import pandas as pd\n",
    "import numpy as np\n",
    "import matplotlib.pyplot as plt\n",
    "import seaborn as sns\n",
    "\n",
    "%matplotlib inline\n",
    "\n",
    "import warnings\n",
    "warnings.filterwarnings(\"ignore\")\n",
    "\n",
    "np.random.seed(100)"
   ]
  },
  {
   "cell_type": "code",
   "execution_count": 2,
   "metadata": {},
   "outputs": [],
   "source": [
    "data = pd.read_csv(\"default_features_1059_tracks.txt\", header = None, prefix = 'x')"
   ]
  },
  {
   "cell_type": "markdown",
   "metadata": {},
   "source": [
    "## EDA"
   ]
  },
  {
   "cell_type": "code",
   "execution_count": 3,
   "metadata": {},
   "outputs": [
    {
     "data": {
      "text/html": [
       "<div>\n",
       "<style scoped>\n",
       "    .dataframe tbody tr th:only-of-type {\n",
       "        vertical-align: middle;\n",
       "    }\n",
       "\n",
       "    .dataframe tbody tr th {\n",
       "        vertical-align: top;\n",
       "    }\n",
       "\n",
       "    .dataframe thead th {\n",
       "        text-align: right;\n",
       "    }\n",
       "</style>\n",
       "<table border=\"1\" class=\"dataframe\">\n",
       "  <thead>\n",
       "    <tr style=\"text-align: right;\">\n",
       "      <th></th>\n",
       "      <th>x0</th>\n",
       "      <th>x1</th>\n",
       "      <th>x2</th>\n",
       "      <th>x3</th>\n",
       "      <th>x4</th>\n",
       "      <th>x5</th>\n",
       "      <th>x6</th>\n",
       "      <th>x7</th>\n",
       "      <th>x8</th>\n",
       "      <th>x9</th>\n",
       "      <th>...</th>\n",
       "      <th>x60</th>\n",
       "      <th>x61</th>\n",
       "      <th>x62</th>\n",
       "      <th>x63</th>\n",
       "      <th>x64</th>\n",
       "      <th>x65</th>\n",
       "      <th>x66</th>\n",
       "      <th>x67</th>\n",
       "      <th>x68</th>\n",
       "      <th>x69</th>\n",
       "    </tr>\n",
       "  </thead>\n",
       "  <tbody>\n",
       "    <tr>\n",
       "      <th>0</th>\n",
       "      <td>7.161286</td>\n",
       "      <td>7.835325</td>\n",
       "      <td>2.911583</td>\n",
       "      <td>0.984049</td>\n",
       "      <td>-1.499546</td>\n",
       "      <td>-2.094097</td>\n",
       "      <td>0.576000</td>\n",
       "      <td>-1.205671</td>\n",
       "      <td>1.849122</td>\n",
       "      <td>-0.425598</td>\n",
       "      <td>...</td>\n",
       "      <td>-1.504263</td>\n",
       "      <td>0.351267</td>\n",
       "      <td>-1.018726</td>\n",
       "      <td>-0.174878</td>\n",
       "      <td>-1.089543</td>\n",
       "      <td>-0.668840</td>\n",
       "      <td>-0.914772</td>\n",
       "      <td>-0.836250</td>\n",
       "      <td>-15.75</td>\n",
       "      <td>-47.95</td>\n",
       "    </tr>\n",
       "    <tr>\n",
       "      <th>1</th>\n",
       "      <td>0.225763</td>\n",
       "      <td>-0.094169</td>\n",
       "      <td>-0.603646</td>\n",
       "      <td>0.497745</td>\n",
       "      <td>0.874036</td>\n",
       "      <td>0.290280</td>\n",
       "      <td>-0.077659</td>\n",
       "      <td>-0.887385</td>\n",
       "      <td>0.432062</td>\n",
       "      <td>-0.093963</td>\n",
       "      <td>...</td>\n",
       "      <td>-0.495712</td>\n",
       "      <td>-0.465077</td>\n",
       "      <td>-0.157861</td>\n",
       "      <td>-0.157189</td>\n",
       "      <td>0.380951</td>\n",
       "      <td>1.088478</td>\n",
       "      <td>-0.123595</td>\n",
       "      <td>1.391141</td>\n",
       "      <td>14.91</td>\n",
       "      <td>-23.51</td>\n",
       "    </tr>\n",
       "    <tr>\n",
       "      <th>2</th>\n",
       "      <td>-0.692525</td>\n",
       "      <td>-0.517801</td>\n",
       "      <td>-0.788035</td>\n",
       "      <td>1.214351</td>\n",
       "      <td>-0.907214</td>\n",
       "      <td>0.880213</td>\n",
       "      <td>0.406899</td>\n",
       "      <td>-0.694895</td>\n",
       "      <td>-0.901869</td>\n",
       "      <td>-1.701574</td>\n",
       "      <td>...</td>\n",
       "      <td>-0.637167</td>\n",
       "      <td>0.147260</td>\n",
       "      <td>0.217914</td>\n",
       "      <td>2.718442</td>\n",
       "      <td>0.972919</td>\n",
       "      <td>2.081069</td>\n",
       "      <td>1.375763</td>\n",
       "      <td>1.063847</td>\n",
       "      <td>12.65</td>\n",
       "      <td>-8.00</td>\n",
       "    </tr>\n",
       "    <tr>\n",
       "      <th>3</th>\n",
       "      <td>-0.735562</td>\n",
       "      <td>-0.684055</td>\n",
       "      <td>2.058215</td>\n",
       "      <td>0.716328</td>\n",
       "      <td>-0.011393</td>\n",
       "      <td>0.805396</td>\n",
       "      <td>1.497982</td>\n",
       "      <td>0.114752</td>\n",
       "      <td>0.692847</td>\n",
       "      <td>0.052377</td>\n",
       "      <td>...</td>\n",
       "      <td>-0.178325</td>\n",
       "      <td>-0.065059</td>\n",
       "      <td>-0.724247</td>\n",
       "      <td>-1.020687</td>\n",
       "      <td>-0.751380</td>\n",
       "      <td>-0.385005</td>\n",
       "      <td>-0.012326</td>\n",
       "      <td>-0.392197</td>\n",
       "      <td>9.03</td>\n",
       "      <td>38.74</td>\n",
       "    </tr>\n",
       "    <tr>\n",
       "      <th>4</th>\n",
       "      <td>0.570272</td>\n",
       "      <td>0.273157</td>\n",
       "      <td>-0.279214</td>\n",
       "      <td>0.083456</td>\n",
       "      <td>1.049331</td>\n",
       "      <td>-0.869295</td>\n",
       "      <td>-0.265858</td>\n",
       "      <td>-0.401676</td>\n",
       "      <td>-0.872639</td>\n",
       "      <td>1.147483</td>\n",
       "      <td>...</td>\n",
       "      <td>-0.919463</td>\n",
       "      <td>-0.667912</td>\n",
       "      <td>-0.820172</td>\n",
       "      <td>-0.190488</td>\n",
       "      <td>0.306974</td>\n",
       "      <td>0.119658</td>\n",
       "      <td>0.271838</td>\n",
       "      <td>1.289783</td>\n",
       "      <td>34.03</td>\n",
       "      <td>-6.85</td>\n",
       "    </tr>\n",
       "  </tbody>\n",
       "</table>\n",
       "<p>5 rows × 70 columns</p>\n",
       "</div>"
      ],
      "text/plain": [
       "         x0        x1        x2        x3        x4        x5        x6  \\\n",
       "0  7.161286  7.835325  2.911583  0.984049 -1.499546 -2.094097  0.576000   \n",
       "1  0.225763 -0.094169 -0.603646  0.497745  0.874036  0.290280 -0.077659   \n",
       "2 -0.692525 -0.517801 -0.788035  1.214351 -0.907214  0.880213  0.406899   \n",
       "3 -0.735562 -0.684055  2.058215  0.716328 -0.011393  0.805396  1.497982   \n",
       "4  0.570272  0.273157 -0.279214  0.083456  1.049331 -0.869295 -0.265858   \n",
       "\n",
       "         x7        x8        x9  ...       x60       x61       x62       x63  \\\n",
       "0 -1.205671  1.849122 -0.425598  ... -1.504263  0.351267 -1.018726 -0.174878   \n",
       "1 -0.887385  0.432062 -0.093963  ... -0.495712 -0.465077 -0.157861 -0.157189   \n",
       "2 -0.694895 -0.901869 -1.701574  ... -0.637167  0.147260  0.217914  2.718442   \n",
       "3  0.114752  0.692847  0.052377  ... -0.178325 -0.065059 -0.724247 -1.020687   \n",
       "4 -0.401676 -0.872639  1.147483  ... -0.919463 -0.667912 -0.820172 -0.190488   \n",
       "\n",
       "        x64       x65       x66       x67    x68    x69  \n",
       "0 -1.089543 -0.668840 -0.914772 -0.836250 -15.75 -47.95  \n",
       "1  0.380951  1.088478 -0.123595  1.391141  14.91 -23.51  \n",
       "2  0.972919  2.081069  1.375763  1.063847  12.65  -8.00  \n",
       "3 -0.751380 -0.385005 -0.012326 -0.392197   9.03  38.74  \n",
       "4  0.306974  0.119658  0.271838  1.289783  34.03  -6.85  \n",
       "\n",
       "[5 rows x 70 columns]"
      ]
     },
     "execution_count": 3,
     "metadata": {},
     "output_type": "execute_result"
    }
   ],
   "source": [
    "data.head()"
   ]
  },
  {
   "cell_type": "markdown",
   "metadata": {},
   "source": [
    "В датасете 70 столбцов. 68 — это разные характеристики музыкальных отрывков, вычисленные в специальном ПО. 2 последних — это широта и долгота. Переименуем столбцы"
   ]
  },
  {
   "cell_type": "code",
   "execution_count": 4,
   "metadata": {},
   "outputs": [],
   "source": [
    "data.rename(columns = {'x68': 'latitude', 'x69': 'longitude'}, inplace = True)"
   ]
  },
  {
   "cell_type": "code",
   "execution_count": 5,
   "metadata": {},
   "outputs": [
    {
     "name": "stdout",
     "output_type": "stream",
     "text": [
      "<class 'pandas.core.frame.DataFrame'>\n",
      "RangeIndex: 1059 entries, 0 to 1058\n",
      "Data columns (total 70 columns):\n",
      " #   Column     Non-Null Count  Dtype  \n",
      "---  ------     --------------  -----  \n",
      " 0   x0         1059 non-null   float64\n",
      " 1   x1         1059 non-null   float64\n",
      " 2   x2         1059 non-null   float64\n",
      " 3   x3         1059 non-null   float64\n",
      " 4   x4         1059 non-null   float64\n",
      " 5   x5         1059 non-null   float64\n",
      " 6   x6         1059 non-null   float64\n",
      " 7   x7         1059 non-null   float64\n",
      " 8   x8         1059 non-null   float64\n",
      " 9   x9         1059 non-null   float64\n",
      " 10  x10        1059 non-null   float64\n",
      " 11  x11        1059 non-null   float64\n",
      " 12  x12        1059 non-null   float64\n",
      " 13  x13        1059 non-null   float64\n",
      " 14  x14        1059 non-null   float64\n",
      " 15  x15        1059 non-null   float64\n",
      " 16  x16        1059 non-null   float64\n",
      " 17  x17        1059 non-null   float64\n",
      " 18  x18        1059 non-null   float64\n",
      " 19  x19        1059 non-null   float64\n",
      " 20  x20        1059 non-null   float64\n",
      " 21  x21        1059 non-null   float64\n",
      " 22  x22        1059 non-null   float64\n",
      " 23  x23        1059 non-null   float64\n",
      " 24  x24        1059 non-null   float64\n",
      " 25  x25        1059 non-null   float64\n",
      " 26  x26        1059 non-null   float64\n",
      " 27  x27        1059 non-null   float64\n",
      " 28  x28        1059 non-null   float64\n",
      " 29  x29        1059 non-null   float64\n",
      " 30  x30        1059 non-null   float64\n",
      " 31  x31        1059 non-null   float64\n",
      " 32  x32        1059 non-null   float64\n",
      " 33  x33        1059 non-null   float64\n",
      " 34  x34        1059 non-null   float64\n",
      " 35  x35        1059 non-null   float64\n",
      " 36  x36        1059 non-null   float64\n",
      " 37  x37        1059 non-null   float64\n",
      " 38  x38        1059 non-null   float64\n",
      " 39  x39        1059 non-null   float64\n",
      " 40  x40        1059 non-null   float64\n",
      " 41  x41        1059 non-null   float64\n",
      " 42  x42        1059 non-null   float64\n",
      " 43  x43        1059 non-null   float64\n",
      " 44  x44        1059 non-null   float64\n",
      " 45  x45        1059 non-null   float64\n",
      " 46  x46        1059 non-null   float64\n",
      " 47  x47        1059 non-null   float64\n",
      " 48  x48        1059 non-null   float64\n",
      " 49  x49        1059 non-null   float64\n",
      " 50  x50        1059 non-null   float64\n",
      " 51  x51        1059 non-null   float64\n",
      " 52  x52        1059 non-null   float64\n",
      " 53  x53        1059 non-null   float64\n",
      " 54  x54        1059 non-null   float64\n",
      " 55  x55        1059 non-null   float64\n",
      " 56  x56        1059 non-null   float64\n",
      " 57  x57        1059 non-null   float64\n",
      " 58  x58        1059 non-null   float64\n",
      " 59  x59        1059 non-null   float64\n",
      " 60  x60        1059 non-null   float64\n",
      " 61  x61        1059 non-null   float64\n",
      " 62  x62        1059 non-null   float64\n",
      " 63  x63        1059 non-null   float64\n",
      " 64  x64        1059 non-null   float64\n",
      " 65  x65        1059 non-null   float64\n",
      " 66  x66        1059 non-null   float64\n",
      " 67  x67        1059 non-null   float64\n",
      " 68  latitude   1059 non-null   float64\n",
      " 69  longitude  1059 non-null   float64\n",
      "dtypes: float64(70)\n",
      "memory usage: 579.3 KB\n"
     ]
    }
   ],
   "source": [
    "data.info()"
   ]
  },
  {
   "cell_type": "code",
   "execution_count": 6,
   "metadata": {},
   "outputs": [
    {
     "data": {
      "text/html": [
       "<div>\n",
       "<style scoped>\n",
       "    .dataframe tbody tr th:only-of-type {\n",
       "        vertical-align: middle;\n",
       "    }\n",
       "\n",
       "    .dataframe tbody tr th {\n",
       "        vertical-align: top;\n",
       "    }\n",
       "\n",
       "    .dataframe thead th {\n",
       "        text-align: right;\n",
       "    }\n",
       "</style>\n",
       "<table border=\"1\" class=\"dataframe\">\n",
       "  <thead>\n",
       "    <tr style=\"text-align: right;\">\n",
       "      <th></th>\n",
       "      <th>x0</th>\n",
       "      <th>x1</th>\n",
       "      <th>x2</th>\n",
       "      <th>x3</th>\n",
       "      <th>x4</th>\n",
       "      <th>x5</th>\n",
       "      <th>x6</th>\n",
       "      <th>x7</th>\n",
       "      <th>x8</th>\n",
       "      <th>x9</th>\n",
       "      <th>...</th>\n",
       "      <th>x60</th>\n",
       "      <th>x61</th>\n",
       "      <th>x62</th>\n",
       "      <th>x63</th>\n",
       "      <th>x64</th>\n",
       "      <th>x65</th>\n",
       "      <th>x66</th>\n",
       "      <th>x67</th>\n",
       "      <th>latitude</th>\n",
       "      <th>longitude</th>\n",
       "    </tr>\n",
       "  </thead>\n",
       "  <tbody>\n",
       "    <tr>\n",
       "      <th>count</th>\n",
       "      <td>1059.000000</td>\n",
       "      <td>1059.000000</td>\n",
       "      <td>1059.000000</td>\n",
       "      <td>1059.000000</td>\n",
       "      <td>1059.000000</td>\n",
       "      <td>1059.000000</td>\n",
       "      <td>1059.000000</td>\n",
       "      <td>1059.000000</td>\n",
       "      <td>1059.000000</td>\n",
       "      <td>1059.000000</td>\n",
       "      <td>...</td>\n",
       "      <td>1059.000000</td>\n",
       "      <td>1059.000000</td>\n",
       "      <td>1059.000000</td>\n",
       "      <td>1059.000000</td>\n",
       "      <td>1059.000000</td>\n",
       "      <td>1059.000000</td>\n",
       "      <td>1059.000000</td>\n",
       "      <td>1059.000000</td>\n",
       "      <td>1059.000000</td>\n",
       "      <td>1059.000000</td>\n",
       "    </tr>\n",
       "    <tr>\n",
       "      <th>mean</th>\n",
       "      <td>-0.019312</td>\n",
       "      <td>-0.021095</td>\n",
       "      <td>-0.029824</td>\n",
       "      <td>-0.041360</td>\n",
       "      <td>0.025364</td>\n",
       "      <td>0.003521</td>\n",
       "      <td>-0.021183</td>\n",
       "      <td>0.010021</td>\n",
       "      <td>-0.030965</td>\n",
       "      <td>-0.017495</td>\n",
       "      <td>...</td>\n",
       "      <td>0.025828</td>\n",
       "      <td>0.019925</td>\n",
       "      <td>0.025629</td>\n",
       "      <td>0.021065</td>\n",
       "      <td>0.027439</td>\n",
       "      <td>0.019795</td>\n",
       "      <td>0.023401</td>\n",
       "      <td>0.022533</td>\n",
       "      <td>26.651294</td>\n",
       "      <td>38.405656</td>\n",
       "    </tr>\n",
       "    <tr>\n",
       "      <th>std</th>\n",
       "      <td>0.987911</td>\n",
       "      <td>0.986098</td>\n",
       "      <td>0.972813</td>\n",
       "      <td>0.984577</td>\n",
       "      <td>0.999363</td>\n",
       "      <td>1.000305</td>\n",
       "      <td>0.989127</td>\n",
       "      <td>1.007714</td>\n",
       "      <td>1.007447</td>\n",
       "      <td>1.017138</td>\n",
       "      <td>...</td>\n",
       "      <td>1.012146</td>\n",
       "      <td>1.009817</td>\n",
       "      <td>1.008802</td>\n",
       "      <td>1.000416</td>\n",
       "      <td>1.000374</td>\n",
       "      <td>1.003078</td>\n",
       "      <td>1.011060</td>\n",
       "      <td>1.007017</td>\n",
       "      <td>18.459432</td>\n",
       "      <td>50.419790</td>\n",
       "    </tr>\n",
       "    <tr>\n",
       "      <th>min</th>\n",
       "      <td>-1.529463</td>\n",
       "      <td>-1.476560</td>\n",
       "      <td>-1.133667</td>\n",
       "      <td>-3.222673</td>\n",
       "      <td>-3.386389</td>\n",
       "      <td>-4.366687</td>\n",
       "      <td>-4.291933</td>\n",
       "      <td>-5.287408</td>\n",
       "      <td>-5.281537</td>\n",
       "      <td>-6.856486</td>\n",
       "      <td>...</td>\n",
       "      <td>-1.597512</td>\n",
       "      <td>-1.579654</td>\n",
       "      <td>-1.614369</td>\n",
       "      <td>-1.505952</td>\n",
       "      <td>-1.404766</td>\n",
       "      <td>-1.248702</td>\n",
       "      <td>-1.221595</td>\n",
       "      <td>-1.329595</td>\n",
       "      <td>-35.300000</td>\n",
       "      <td>-88.760000</td>\n",
       "    </tr>\n",
       "    <tr>\n",
       "      <th>25%</th>\n",
       "      <td>-0.607617</td>\n",
       "      <td>-0.621808</td>\n",
       "      <td>-0.599230</td>\n",
       "      <td>-0.640634</td>\n",
       "      <td>-0.599677</td>\n",
       "      <td>-0.633760</td>\n",
       "      <td>-0.608229</td>\n",
       "      <td>-0.556419</td>\n",
       "      <td>-0.513522</td>\n",
       "      <td>-0.464189</td>\n",
       "      <td>...</td>\n",
       "      <td>-0.668874</td>\n",
       "      <td>-0.680484</td>\n",
       "      <td>-0.692833</td>\n",
       "      <td>-0.660134</td>\n",
       "      <td>-0.693410</td>\n",
       "      <td>-0.652468</td>\n",
       "      <td>-0.641316</td>\n",
       "      <td>-0.658826</td>\n",
       "      <td>14.660000</td>\n",
       "      <td>3.210000</td>\n",
       "    </tr>\n",
       "    <tr>\n",
       "      <th>50%</th>\n",
       "      <td>-0.184135</td>\n",
       "      <td>-0.211257</td>\n",
       "      <td>-0.301310</td>\n",
       "      <td>-0.134986</td>\n",
       "      <td>0.157396</td>\n",
       "      <td>0.011760</td>\n",
       "      <td>0.037887</td>\n",
       "      <td>0.042447</td>\n",
       "      <td>0.074414</td>\n",
       "      <td>0.091507</td>\n",
       "      <td>...</td>\n",
       "      <td>-0.207786</td>\n",
       "      <td>-0.203502</td>\n",
       "      <td>-0.182283</td>\n",
       "      <td>-0.191193</td>\n",
       "      <td>-0.237980</td>\n",
       "      <td>-0.252907</td>\n",
       "      <td>-0.315654</td>\n",
       "      <td>-0.304111</td>\n",
       "      <td>33.660000</td>\n",
       "      <td>32.830000</td>\n",
       "    </tr>\n",
       "    <tr>\n",
       "      <th>75%</th>\n",
       "      <td>0.312155</td>\n",
       "      <td>0.310377</td>\n",
       "      <td>0.158689</td>\n",
       "      <td>0.459267</td>\n",
       "      <td>0.735870</td>\n",
       "      <td>0.662538</td>\n",
       "      <td>0.643826</td>\n",
       "      <td>0.574328</td>\n",
       "      <td>0.583657</td>\n",
       "      <td>0.569681</td>\n",
       "      <td>...</td>\n",
       "      <td>0.466648</td>\n",
       "      <td>0.485808</td>\n",
       "      <td>0.488015</td>\n",
       "      <td>0.476027</td>\n",
       "      <td>0.486942</td>\n",
       "      <td>0.326699</td>\n",
       "      <td>0.415290</td>\n",
       "      <td>0.352652</td>\n",
       "      <td>39.910000</td>\n",
       "      <td>74.600000</td>\n",
       "    </tr>\n",
       "    <tr>\n",
       "      <th>max</th>\n",
       "      <td>9.439499</td>\n",
       "      <td>10.719304</td>\n",
       "      <td>6.157847</td>\n",
       "      <td>5.926862</td>\n",
       "      <td>2.280230</td>\n",
       "      <td>2.897006</td>\n",
       "      <td>2.720127</td>\n",
       "      <td>3.127494</td>\n",
       "      <td>3.948652</td>\n",
       "      <td>3.492393</td>\n",
       "      <td>...</td>\n",
       "      <td>7.397255</td>\n",
       "      <td>5.336838</td>\n",
       "      <td>8.329566</td>\n",
       "      <td>5.854703</td>\n",
       "      <td>5.442332</td>\n",
       "      <td>6.437855</td>\n",
       "      <td>5.387364</td>\n",
       "      <td>5.977184</td>\n",
       "      <td>54.680000</td>\n",
       "      <td>149.120000</td>\n",
       "    </tr>\n",
       "  </tbody>\n",
       "</table>\n",
       "<p>8 rows × 70 columns</p>\n",
       "</div>"
      ],
      "text/plain": [
       "                x0           x1           x2           x3           x4  \\\n",
       "count  1059.000000  1059.000000  1059.000000  1059.000000  1059.000000   \n",
       "mean     -0.019312    -0.021095    -0.029824    -0.041360     0.025364   \n",
       "std       0.987911     0.986098     0.972813     0.984577     0.999363   \n",
       "min      -1.529463    -1.476560    -1.133667    -3.222673    -3.386389   \n",
       "25%      -0.607617    -0.621808    -0.599230    -0.640634    -0.599677   \n",
       "50%      -0.184135    -0.211257    -0.301310    -0.134986     0.157396   \n",
       "75%       0.312155     0.310377     0.158689     0.459267     0.735870   \n",
       "max       9.439499    10.719304     6.157847     5.926862     2.280230   \n",
       "\n",
       "                x5           x6           x7           x8           x9  ...  \\\n",
       "count  1059.000000  1059.000000  1059.000000  1059.000000  1059.000000  ...   \n",
       "mean      0.003521    -0.021183     0.010021    -0.030965    -0.017495  ...   \n",
       "std       1.000305     0.989127     1.007714     1.007447     1.017138  ...   \n",
       "min      -4.366687    -4.291933    -5.287408    -5.281537    -6.856486  ...   \n",
       "25%      -0.633760    -0.608229    -0.556419    -0.513522    -0.464189  ...   \n",
       "50%       0.011760     0.037887     0.042447     0.074414     0.091507  ...   \n",
       "75%       0.662538     0.643826     0.574328     0.583657     0.569681  ...   \n",
       "max       2.897006     2.720127     3.127494     3.948652     3.492393  ...   \n",
       "\n",
       "               x60          x61          x62          x63          x64  \\\n",
       "count  1059.000000  1059.000000  1059.000000  1059.000000  1059.000000   \n",
       "mean      0.025828     0.019925     0.025629     0.021065     0.027439   \n",
       "std       1.012146     1.009817     1.008802     1.000416     1.000374   \n",
       "min      -1.597512    -1.579654    -1.614369    -1.505952    -1.404766   \n",
       "25%      -0.668874    -0.680484    -0.692833    -0.660134    -0.693410   \n",
       "50%      -0.207786    -0.203502    -0.182283    -0.191193    -0.237980   \n",
       "75%       0.466648     0.485808     0.488015     0.476027     0.486942   \n",
       "max       7.397255     5.336838     8.329566     5.854703     5.442332   \n",
       "\n",
       "               x65          x66          x67     latitude    longitude  \n",
       "count  1059.000000  1059.000000  1059.000000  1059.000000  1059.000000  \n",
       "mean      0.019795     0.023401     0.022533    26.651294    38.405656  \n",
       "std       1.003078     1.011060     1.007017    18.459432    50.419790  \n",
       "min      -1.248702    -1.221595    -1.329595   -35.300000   -88.760000  \n",
       "25%      -0.652468    -0.641316    -0.658826    14.660000     3.210000  \n",
       "50%      -0.252907    -0.315654    -0.304111    33.660000    32.830000  \n",
       "75%       0.326699     0.415290     0.352652    39.910000    74.600000  \n",
       "max       6.437855     5.387364     5.977184    54.680000   149.120000  \n",
       "\n",
       "[8 rows x 70 columns]"
      ]
     },
     "execution_count": 6,
     "metadata": {},
     "output_type": "execute_result"
    }
   ],
   "source": [
    "data.describe()"
   ]
  },
  {
   "cell_type": "markdown",
   "metadata": {},
   "source": [
    "Признаки уже отцентрованы, пустых значений нет"
   ]
  },
  {
   "cell_type": "code",
   "execution_count": 7,
   "metadata": {},
   "outputs": [
    {
     "data": {
      "text/plain": [
       "<AxesSubplot:>"
      ]
     },
     "execution_count": 7,
     "metadata": {},
     "output_type": "execute_result"
    },
    {
     "data": {
      "image/png": "[encoded data removed]",
      "text/plain": [
       "<Figure size 1800x1800 with 2 Axes>"
      ]
     },
     "metadata": {
      "needs_background": "light"
     },
     "output_type": "display_data"
    }
   ],
   "source": [
    "plt.figure(figsize = (25,25))\n",
    "sns.heatmap(data.corr())"
   ]
  },
  {
   "cell_type": "markdown",
   "metadata": {},
   "source": [
    "Есть кластеры скореллированных признаков, но так как все они безымянны, оставляем как есть"
   ]
  },
  {
   "cell_type": "markdown",
   "metadata": {},
   "source": [
    "## Train-test split"
   ]
  },
  {
   "cell_type": "code",
   "execution_count": 8,
   "metadata": {},
   "outputs": [],
   "source": [
    "from sklearn.model_selection import train_test_split\n",
    "\n",
    "X_train, X_test, y_train, y_test = train_test_split(\n",
    "    data.drop(['latitude','longitude'], axis=1), \n",
    "    data[['latitude','longitude']], \n",
    "    test_size=0.3\n",
    ")"
   ]
  },
  {
   "cell_type": "code",
   "execution_count": 9,
   "metadata": {},
   "outputs": [
    {
     "data": {
      "text/plain": [
       "((741, 68), (318, 68), (741, 2), (318, 2))"
      ]
     },
     "execution_count": 9,
     "metadata": {},
     "output_type": "execute_result"
    }
   ],
   "source": [
    "X_train.shape, X_test.shape, y_train.shape, y_test.shape"
   ]
  },
  {
   "cell_type": "markdown",
   "metadata": {},
   "source": [
    "## Scaling"
   ]
  },
  {
   "cell_type": "code",
   "execution_count": 10,
   "metadata": {},
   "outputs": [],
   "source": [
    "from sklearn.preprocessing import StandardScaler\n",
    "scaler = StandardScaler()\n",
    "\n",
    "X_train_scaled = scaler.fit_transform(X_train)\n",
    "X_test_scaled = scaler.transform(X_test)"
   ]
  },
  {
   "cell_type": "markdown",
   "metadata": {},
   "source": [
    "## Metrics"
   ]
  },
  {
   "cell_type": "code",
   "execution_count": 11,
   "metadata": {},
   "outputs": [
    {
     "data": {
      "text/html": [
       "<div>\n",
       "<style scoped>\n",
       "    .dataframe tbody tr th:only-of-type {\n",
       "        vertical-align: middle;\n",
       "    }\n",
       "\n",
       "    .dataframe tbody tr th {\n",
       "        vertical-align: top;\n",
       "    }\n",
       "\n",
       "    .dataframe thead th {\n",
       "        text-align: right;\n",
       "    }\n",
       "</style>\n",
       "<table border=\"1\" class=\"dataframe\">\n",
       "  <thead>\n",
       "    <tr style=\"text-align: right;\">\n",
       "      <th></th>\n",
       "    </tr>\n",
       "    <tr>\n",
       "      <th>error_type</th>\n",
       "    </tr>\n",
       "  </thead>\n",
       "  <tbody>\n",
       "    <tr>\n",
       "      <th>MAE</th>\n",
       "    </tr>\n",
       "    <tr>\n",
       "      <th>RMSE</th>\n",
       "    </tr>\n",
       "    <tr>\n",
       "      <th>R2</th>\n",
       "    </tr>\n",
       "  </tbody>\n",
       "</table>\n",
       "</div>"
      ],
      "text/plain": [
       "Empty DataFrame\n",
       "Columns: []\n",
       "Index: [MAE, RMSE, R2]"
      ]
     },
     "execution_count": 11,
     "metadata": {},
     "output_type": "execute_result"
    }
   ],
   "source": [
    "from sklearn import metrics\n",
    "\n",
    "def dataframe_metrics(y_test,y_pred):\n",
    "    stats = [\n",
    "       metrics.mean_absolute_error(y_test, y_pred),\n",
    "       np.sqrt(metrics.mean_squared_error(y_test, y_pred)),\n",
    "       metrics.r2_score(y_test, y_pred)\n",
    "    ]\n",
    "    return stats\n",
    "\n",
    "measured_metrics = pd.DataFrame({\"error_type\":[\"MAE\", \"RMSE\", \"R2\"]})\n",
    "measured_metrics.set_index(\"error_type\")"
   ]
  },
  {
   "cell_type": "markdown",
   "metadata": {},
   "source": [
    "## Machine Learning\n",
    "\n",
    "### Random Forest"
   ]
  },
  {
   "cell_type": "code",
   "execution_count": 12,
   "metadata": {},
   "outputs": [
    {
     "data": {
      "text/plain": [
       "RandomForestRegressor()"
      ]
     },
     "execution_count": 12,
     "metadata": {},
     "output_type": "execute_result"
    }
   ],
   "source": [
    "from sklearn.ensemble import RandomForestRegressor\n",
    "rf_regr = RandomForestRegressor()\n",
    "\n",
    "rf_regr.fit(X_train_scaled,y_train)"
   ]
  },
  {
   "cell_type": "code",
   "execution_count": 13,
   "metadata": {},
   "outputs": [],
   "source": [
    "y_pred = rf_regr.predict(X_test_scaled)"
   ]
  },
  {
   "cell_type": "code",
   "execution_count": 14,
   "metadata": {},
   "outputs": [
    {
     "data": {
      "image/png": "[encoded data removed]",
      "text/plain": [
       "<Figure size 1440x432 with 1 Axes>"
      ]
     },
     "metadata": {
      "needs_background": "light"
     },
     "output_type": "display_data"
    }
   ],
   "source": [
    "featureImportance = pd.DataFrame({\"feature\": X_train.columns, \n",
    "                                  \"importance\": rf_regr.feature_importances_})\n",
    "\n",
    "featureImportance.set_index('feature', inplace=True)\n",
    "featureImportance.sort_values([\"importance\"], ascending=False, inplace=True)\n",
    "featureImportance[\"importance\"].plot.bar(figsize=(20, 6));"
   ]
  },
  {
   "cell_type": "markdown",
   "metadata": {},
   "source": [
    "Так как все фичи безымянные, особого смысла исследование важности фичей не несёт\n",
    "\n",
    "Рассчитаем метрики"
   ]
  },
  {
   "cell_type": "code",
   "execution_count": 15,
   "metadata": {},
   "outputs": [
    {
     "data": {
      "text/html": [
       "<div>\n",
       "<style scoped>\n",
       "    .dataframe tbody tr th:only-of-type {\n",
       "        vertical-align: middle;\n",
       "    }\n",
       "\n",
       "    .dataframe tbody tr th {\n",
       "        vertical-align: top;\n",
       "    }\n",
       "\n",
       "    .dataframe thead th {\n",
       "        text-align: right;\n",
       "    }\n",
       "</style>\n",
       "<table border=\"1\" class=\"dataframe\">\n",
       "  <thead>\n",
       "    <tr style=\"text-align: right;\">\n",
       "      <th></th>\n",
       "      <th>error_type</th>\n",
       "      <th>Random Forest</th>\n",
       "    </tr>\n",
       "  </thead>\n",
       "  <tbody>\n",
       "    <tr>\n",
       "      <th>0</th>\n",
       "      <td>MAE</td>\n",
       "      <td>23.447897</td>\n",
       "    </tr>\n",
       "    <tr>\n",
       "      <th>1</th>\n",
       "      <td>RMSE</td>\n",
       "      <td>32.907878</td>\n",
       "    </tr>\n",
       "    <tr>\n",
       "      <th>2</th>\n",
       "      <td>R2</td>\n",
       "      <td>0.243992</td>\n",
       "    </tr>\n",
       "  </tbody>\n",
       "</table>\n",
       "</div>"
      ],
      "text/plain": [
       "  error_type  Random Forest\n",
       "0        MAE      23.447897\n",
       "1       RMSE      32.907878\n",
       "2         R2       0.243992"
      ]
     },
     "execution_count": 15,
     "metadata": {},
     "output_type": "execute_result"
    }
   ],
   "source": [
    "measured_metrics[\"Random Forest\"] = dataframe_metrics(y_test, y_pred)\n",
    "measured_metrics"
   ]
  },
  {
   "cell_type": "markdown",
   "metadata": {},
   "source": [
    "Отобразим значения нескольких широт в тестовом наборе и предсказанном с помощью Random Forest"
   ]
  },
  {
   "cell_type": "code",
   "execution_count": 16,
   "metadata": {},
   "outputs": [
    {
     "data": {
      "text/html": [
       "<div>\n",
       "<style scoped>\n",
       "    .dataframe tbody tr th:only-of-type {\n",
       "        vertical-align: middle;\n",
       "    }\n",
       "\n",
       "    .dataframe tbody tr th {\n",
       "        vertical-align: top;\n",
       "    }\n",
       "\n",
       "    .dataframe thead th {\n",
       "        text-align: right;\n",
       "    }\n",
       "</style>\n",
       "<table border=\"1\" class=\"dataframe\">\n",
       "  <thead>\n",
       "    <tr style=\"text-align: right;\">\n",
       "      <th></th>\n",
       "      <th>test</th>\n",
       "      <th>Random Forest</th>\n",
       "    </tr>\n",
       "  </thead>\n",
       "  <tbody>\n",
       "    <tr>\n",
       "      <th>384</th>\n",
       "      <td>36.70</td>\n",
       "      <td>25.76</td>\n",
       "    </tr>\n",
       "    <tr>\n",
       "      <th>288</th>\n",
       "      <td>19.75</td>\n",
       "      <td>16.74</td>\n",
       "    </tr>\n",
       "    <tr>\n",
       "      <th>221</th>\n",
       "      <td>28.61</td>\n",
       "      <td>23.85</td>\n",
       "    </tr>\n",
       "    <tr>\n",
       "      <th>769</th>\n",
       "      <td>-35.30</td>\n",
       "      <td>19.41</td>\n",
       "    </tr>\n",
       "    <tr>\n",
       "      <th>205</th>\n",
       "      <td>17.98</td>\n",
       "      <td>22.24</td>\n",
       "    </tr>\n",
       "  </tbody>\n",
       "</table>\n",
       "</div>"
      ],
      "text/plain": [
       "      test  Random Forest\n",
       "384  36.70          25.76\n",
       "288  19.75          16.74\n",
       "221  28.61          23.85\n",
       "769 -35.30          19.41\n",
       "205  17.98          22.24"
      ]
     },
     "execution_count": 16,
     "metadata": {},
     "output_type": "execute_result"
    }
   ],
   "source": [
    "latitudes = pd.DataFrame(y_test['latitude'][:5])\n",
    "latitudes.rename(columns = {'latitude':'test'}, inplace = True)\n",
    "latitudes['Random Forest'] = y_pred[:5,0].round(2)\n",
    "latitudes"
   ]
  },
  {
   "cell_type": "markdown",
   "metadata": {},
   "source": [
    "То же самое для значений долготы"
   ]
  },
  {
   "cell_type": "code",
   "execution_count": 17,
   "metadata": {},
   "outputs": [
    {
     "data": {
      "text/html": [
       "<div>\n",
       "<style scoped>\n",
       "    .dataframe tbody tr th:only-of-type {\n",
       "        vertical-align: middle;\n",
       "    }\n",
       "\n",
       "    .dataframe tbody tr th {\n",
       "        vertical-align: top;\n",
       "    }\n",
       "\n",
       "    .dataframe thead th {\n",
       "        text-align: right;\n",
       "    }\n",
       "</style>\n",
       "<table border=\"1\" class=\"dataframe\">\n",
       "  <thead>\n",
       "    <tr style=\"text-align: right;\">\n",
       "      <th></th>\n",
       "      <th>test</th>\n",
       "      <th>Random Forest</th>\n",
       "    </tr>\n",
       "  </thead>\n",
       "  <tbody>\n",
       "    <tr>\n",
       "      <th>384</th>\n",
       "      <td>3.21</td>\n",
       "      <td>69.52</td>\n",
       "    </tr>\n",
       "    <tr>\n",
       "      <th>288</th>\n",
       "      <td>96.10</td>\n",
       "      <td>78.60</td>\n",
       "    </tr>\n",
       "    <tr>\n",
       "      <th>221</th>\n",
       "      <td>77.20</td>\n",
       "      <td>27.84</td>\n",
       "    </tr>\n",
       "    <tr>\n",
       "      <th>769</th>\n",
       "      <td>149.12</td>\n",
       "      <td>31.59</td>\n",
       "    </tr>\n",
       "    <tr>\n",
       "      <th>205</th>\n",
       "      <td>-76.80</td>\n",
       "      <td>3.97</td>\n",
       "    </tr>\n",
       "  </tbody>\n",
       "</table>\n",
       "</div>"
      ],
      "text/plain": [
       "       test  Random Forest\n",
       "384    3.21          69.52\n",
       "288   96.10          78.60\n",
       "221   77.20          27.84\n",
       "769  149.12          31.59\n",
       "205  -76.80           3.97"
      ]
     },
     "execution_count": 17,
     "metadata": {},
     "output_type": "execute_result"
    }
   ],
   "source": [
    "longitudes = pd.DataFrame(y_test['longitude'][:5])\n",
    "longitudes.rename(columns = {'longitude':'test'}, inplace = True)\n",
    "longitudes['Random Forest'] = y_pred[:5,1].round(2)\n",
    "longitudes"
   ]
  },
  {
   "cell_type": "markdown",
   "metadata": {},
   "source": [
    "### XGBoost\n",
    "\n",
    "В нашей модели 2 целевых переменных, но XGBoost, CatBoost, LightGBM настраиваются только для одной. Чтобы исправить это, пользуемся обёрткой MultiOutputRegressor"
   ]
  },
  {
   "cell_type": "code",
   "execution_count": 18,
   "metadata": {},
   "outputs": [],
   "source": [
    "from xgboost.sklearn import XGBRegressor\n",
    "from sklearn.multioutput import MultiOutputRegressor\n",
    "\n",
    "xgb_regr = XGBRegressor()\n",
    "multi_xgb_regr = MultiOutputRegressor(xgb_regr)\n",
    "\n",
    "multi_xgb_regr.fit(X_train_scaled,y_train);"
   ]
  },
  {
   "cell_type": "code",
   "execution_count": 19,
   "metadata": {},
   "outputs": [],
   "source": [
    "y_pred = multi_xgb_regr.predict(X_test_scaled)"
   ]
  },
  {
   "cell_type": "code",
   "execution_count": 20,
   "metadata": {},
   "outputs": [
    {
     "data": {
      "text/html": [
       "<div>\n",
       "<style scoped>\n",
       "    .dataframe tbody tr th:only-of-type {\n",
       "        vertical-align: middle;\n",
       "    }\n",
       "\n",
       "    .dataframe tbody tr th {\n",
       "        vertical-align: top;\n",
       "    }\n",
       "\n",
       "    .dataframe thead th {\n",
       "        text-align: right;\n",
       "    }\n",
       "</style>\n",
       "<table border=\"1\" class=\"dataframe\">\n",
       "  <thead>\n",
       "    <tr style=\"text-align: right;\">\n",
       "      <th></th>\n",
       "      <th>error_type</th>\n",
       "      <th>Random Forest</th>\n",
       "      <th>XGBoost</th>\n",
       "    </tr>\n",
       "  </thead>\n",
       "  <tbody>\n",
       "    <tr>\n",
       "      <th>0</th>\n",
       "      <td>MAE</td>\n",
       "      <td>23.447897</td>\n",
       "      <td>22.942573</td>\n",
       "    </tr>\n",
       "    <tr>\n",
       "      <th>1</th>\n",
       "      <td>RMSE</td>\n",
       "      <td>32.907878</td>\n",
       "      <td>33.362687</td>\n",
       "    </tr>\n",
       "    <tr>\n",
       "      <th>2</th>\n",
       "      <td>R2</td>\n",
       "      <td>0.243992</td>\n",
       "      <td>0.228572</td>\n",
       "    </tr>\n",
       "  </tbody>\n",
       "</table>\n",
       "</div>"
      ],
      "text/plain": [
       "  error_type  Random Forest    XGBoost\n",
       "0        MAE      23.447897  22.942573\n",
       "1       RMSE      32.907878  33.362687\n",
       "2         R2       0.243992   0.228572"
      ]
     },
     "execution_count": 20,
     "metadata": {},
     "output_type": "execute_result"
    }
   ],
   "source": [
    "measured_metrics[\"XGBoost\"] = dataframe_metrics(y_test, y_pred)\n",
    "measured_metrics"
   ]
  },
  {
   "cell_type": "code",
   "execution_count": 21,
   "metadata": {},
   "outputs": [
    {
     "data": {
      "text/html": [
       "<div>\n",
       "<style scoped>\n",
       "    .dataframe tbody tr th:only-of-type {\n",
       "        vertical-align: middle;\n",
       "    }\n",
       "\n",
       "    .dataframe tbody tr th {\n",
       "        vertical-align: top;\n",
       "    }\n",
       "\n",
       "    .dataframe thead th {\n",
       "        text-align: right;\n",
       "    }\n",
       "</style>\n",
       "<table border=\"1\" class=\"dataframe\">\n",
       "  <thead>\n",
       "    <tr style=\"text-align: right;\">\n",
       "      <th></th>\n",
       "      <th>test</th>\n",
       "      <th>Random Forest</th>\n",
       "      <th>XGBoost</th>\n",
       "    </tr>\n",
       "  </thead>\n",
       "  <tbody>\n",
       "    <tr>\n",
       "      <th>384</th>\n",
       "      <td>36.70</td>\n",
       "      <td>25.76</td>\n",
       "      <td>9.26</td>\n",
       "    </tr>\n",
       "    <tr>\n",
       "      <th>288</th>\n",
       "      <td>19.75</td>\n",
       "      <td>16.74</td>\n",
       "      <td>22.12</td>\n",
       "    </tr>\n",
       "    <tr>\n",
       "      <th>221</th>\n",
       "      <td>28.61</td>\n",
       "      <td>23.85</td>\n",
       "      <td>25.55</td>\n",
       "    </tr>\n",
       "    <tr>\n",
       "      <th>769</th>\n",
       "      <td>-35.30</td>\n",
       "      <td>19.41</td>\n",
       "      <td>14.60</td>\n",
       "    </tr>\n",
       "    <tr>\n",
       "      <th>205</th>\n",
       "      <td>17.98</td>\n",
       "      <td>22.24</td>\n",
       "      <td>29.63</td>\n",
       "    </tr>\n",
       "  </tbody>\n",
       "</table>\n",
       "</div>"
      ],
      "text/plain": [
       "      test  Random Forest  XGBoost\n",
       "384  36.70          25.76     9.26\n",
       "288  19.75          16.74    22.12\n",
       "221  28.61          23.85    25.55\n",
       "769 -35.30          19.41    14.60\n",
       "205  17.98          22.24    29.63"
      ]
     },
     "execution_count": 21,
     "metadata": {},
     "output_type": "execute_result"
    }
   ],
   "source": [
    "latitudes['XGBoost'] = y_pred[:5,0].astype('float64').round(2)\n",
    "latitudes"
   ]
  },
  {
   "cell_type": "code",
   "execution_count": 22,
   "metadata": {},
   "outputs": [
    {
     "data": {
      "text/html": [
       "<div>\n",
       "<style scoped>\n",
       "    .dataframe tbody tr th:only-of-type {\n",
       "        vertical-align: middle;\n",
       "    }\n",
       "\n",
       "    .dataframe tbody tr th {\n",
       "        vertical-align: top;\n",
       "    }\n",
       "\n",
       "    .dataframe thead th {\n",
       "        text-align: right;\n",
       "    }\n",
       "</style>\n",
       "<table border=\"1\" class=\"dataframe\">\n",
       "  <thead>\n",
       "    <tr style=\"text-align: right;\">\n",
       "      <th></th>\n",
       "      <th>test</th>\n",
       "      <th>Random Forest</th>\n",
       "      <th>XGBoost</th>\n",
       "    </tr>\n",
       "  </thead>\n",
       "  <tbody>\n",
       "    <tr>\n",
       "      <th>384</th>\n",
       "      <td>3.21</td>\n",
       "      <td>69.52</td>\n",
       "      <td>89.40</td>\n",
       "    </tr>\n",
       "    <tr>\n",
       "      <th>288</th>\n",
       "      <td>96.10</td>\n",
       "      <td>78.60</td>\n",
       "      <td>86.10</td>\n",
       "    </tr>\n",
       "    <tr>\n",
       "      <th>221</th>\n",
       "      <td>77.20</td>\n",
       "      <td>27.84</td>\n",
       "      <td>70.23</td>\n",
       "    </tr>\n",
       "    <tr>\n",
       "      <th>769</th>\n",
       "      <td>149.12</td>\n",
       "      <td>31.59</td>\n",
       "      <td>37.59</td>\n",
       "    </tr>\n",
       "    <tr>\n",
       "      <th>205</th>\n",
       "      <td>-76.80</td>\n",
       "      <td>3.97</td>\n",
       "      <td>9.17</td>\n",
       "    </tr>\n",
       "  </tbody>\n",
       "</table>\n",
       "</div>"
      ],
      "text/plain": [
       "       test  Random Forest  XGBoost\n",
       "384    3.21          69.52    89.40\n",
       "288   96.10          78.60    86.10\n",
       "221   77.20          27.84    70.23\n",
       "769  149.12          31.59    37.59\n",
       "205  -76.80           3.97     9.17"
      ]
     },
     "execution_count": 22,
     "metadata": {},
     "output_type": "execute_result"
    }
   ],
   "source": [
    "longitudes['XGBoost'] = y_pred[:5,1].astype('float64').round(2)\n",
    "longitudes"
   ]
  },
  {
   "cell_type": "markdown",
   "metadata": {},
   "source": [
    "### CatBoost"
   ]
  },
  {
   "cell_type": "code",
   "execution_count": 23,
   "metadata": {},
   "outputs": [
    {
     "name": "stdout",
     "output_type": "stream",
     "text": [
      "Wall time: 29.5 s\n"
     ]
    },
    {
     "data": {
      "text/plain": [
       "MultiOutputRegressor(estimator=<catboost.core.CatBoostRegressor object at 0x000001EC8DC9E4C0>)"
      ]
     },
     "execution_count": 23,
     "metadata": {},
     "output_type": "execute_result"
    }
   ],
   "source": [
    "%%time\n",
    "from catboost import CatBoostRegressor\n",
    "cat_regr = CatBoostRegressor(logging_level = 'Silent')\n",
    "multi_cat_regr = MultiOutputRegressor(cat_regr)\n",
    "\n",
    "multi_cat_regr.fit(X_train_scaled,y_train)"
   ]
  },
  {
   "cell_type": "code",
   "execution_count": 24,
   "metadata": {},
   "outputs": [],
   "source": [
    "y_pred = multi_cat_regr.predict(X_test_scaled)"
   ]
  },
  {
   "cell_type": "code",
   "execution_count": 25,
   "metadata": {},
   "outputs": [
    {
     "data": {
      "text/html": [
       "<div>\n",
       "<style scoped>\n",
       "    .dataframe tbody tr th:only-of-type {\n",
       "        vertical-align: middle;\n",
       "    }\n",
       "\n",
       "    .dataframe tbody tr th {\n",
       "        vertical-align: top;\n",
       "    }\n",
       "\n",
       "    .dataframe thead th {\n",
       "        text-align: right;\n",
       "    }\n",
       "</style>\n",
       "<table border=\"1\" class=\"dataframe\">\n",
       "  <thead>\n",
       "    <tr style=\"text-align: right;\">\n",
       "      <th></th>\n",
       "      <th>error_type</th>\n",
       "      <th>Random Forest</th>\n",
       "      <th>XGBoost</th>\n",
       "      <th>CatBoost</th>\n",
       "    </tr>\n",
       "  </thead>\n",
       "  <tbody>\n",
       "    <tr>\n",
       "      <th>0</th>\n",
       "      <td>MAE</td>\n",
       "      <td>23.447897</td>\n",
       "      <td>22.942573</td>\n",
       "      <td>22.281936</td>\n",
       "    </tr>\n",
       "    <tr>\n",
       "      <th>1</th>\n",
       "      <td>RMSE</td>\n",
       "      <td>32.907878</td>\n",
       "      <td>33.362687</td>\n",
       "      <td>32.257198</td>\n",
       "    </tr>\n",
       "    <tr>\n",
       "      <th>2</th>\n",
       "      <td>R2</td>\n",
       "      <td>0.243992</td>\n",
       "      <td>0.228572</td>\n",
       "      <td>0.286893</td>\n",
       "    </tr>\n",
       "  </tbody>\n",
       "</table>\n",
       "</div>"
      ],
      "text/plain": [
       "  error_type  Random Forest    XGBoost   CatBoost\n",
       "0        MAE      23.447897  22.942573  22.281936\n",
       "1       RMSE      32.907878  33.362687  32.257198\n",
       "2         R2       0.243992   0.228572   0.286893"
      ]
     },
     "execution_count": 25,
     "metadata": {},
     "output_type": "execute_result"
    }
   ],
   "source": [
    "measured_metrics[\"CatBoost\"] = dataframe_metrics(y_test, y_pred)\n",
    "measured_metrics"
   ]
  },
  {
   "cell_type": "code",
   "execution_count": 26,
   "metadata": {},
   "outputs": [
    {
     "data": {
      "text/html": [
       "<div>\n",
       "<style scoped>\n",
       "    .dataframe tbody tr th:only-of-type {\n",
       "        vertical-align: middle;\n",
       "    }\n",
       "\n",
       "    .dataframe tbody tr th {\n",
       "        vertical-align: top;\n",
       "    }\n",
       "\n",
       "    .dataframe thead th {\n",
       "        text-align: right;\n",
       "    }\n",
       "</style>\n",
       "<table border=\"1\" class=\"dataframe\">\n",
       "  <thead>\n",
       "    <tr style=\"text-align: right;\">\n",
       "      <th></th>\n",
       "      <th>test</th>\n",
       "      <th>Random Forest</th>\n",
       "      <th>XGBoost</th>\n",
       "      <th>CatBoost</th>\n",
       "    </tr>\n",
       "  </thead>\n",
       "  <tbody>\n",
       "    <tr>\n",
       "      <th>384</th>\n",
       "      <td>36.70</td>\n",
       "      <td>25.76</td>\n",
       "      <td>9.26</td>\n",
       "      <td>34.25</td>\n",
       "    </tr>\n",
       "    <tr>\n",
       "      <th>288</th>\n",
       "      <td>19.75</td>\n",
       "      <td>16.74</td>\n",
       "      <td>22.12</td>\n",
       "      <td>15.49</td>\n",
       "    </tr>\n",
       "    <tr>\n",
       "      <th>221</th>\n",
       "      <td>28.61</td>\n",
       "      <td>23.85</td>\n",
       "      <td>25.55</td>\n",
       "      <td>20.70</td>\n",
       "    </tr>\n",
       "    <tr>\n",
       "      <th>769</th>\n",
       "      <td>-35.30</td>\n",
       "      <td>19.41</td>\n",
       "      <td>14.60</td>\n",
       "      <td>22.77</td>\n",
       "    </tr>\n",
       "    <tr>\n",
       "      <th>205</th>\n",
       "      <td>17.98</td>\n",
       "      <td>22.24</td>\n",
       "      <td>29.63</td>\n",
       "      <td>26.00</td>\n",
       "    </tr>\n",
       "  </tbody>\n",
       "</table>\n",
       "</div>"
      ],
      "text/plain": [
       "      test  Random Forest  XGBoost  CatBoost\n",
       "384  36.70          25.76     9.26     34.25\n",
       "288  19.75          16.74    22.12     15.49\n",
       "221  28.61          23.85    25.55     20.70\n",
       "769 -35.30          19.41    14.60     22.77\n",
       "205  17.98          22.24    29.63     26.00"
      ]
     },
     "execution_count": 26,
     "metadata": {},
     "output_type": "execute_result"
    }
   ],
   "source": [
    "latitudes['CatBoost'] = y_pred[:5,0].round(2)\n",
    "latitudes"
   ]
  },
  {
   "cell_type": "code",
   "execution_count": 27,
   "metadata": {},
   "outputs": [
    {
     "data": {
      "text/html": [
       "<div>\n",
       "<style scoped>\n",
       "    .dataframe tbody tr th:only-of-type {\n",
       "        vertical-align: middle;\n",
       "    }\n",
       "\n",
       "    .dataframe tbody tr th {\n",
       "        vertical-align: top;\n",
       "    }\n",
       "\n",
       "    .dataframe thead th {\n",
       "        text-align: right;\n",
       "    }\n",
       "</style>\n",
       "<table border=\"1\" class=\"dataframe\">\n",
       "  <thead>\n",
       "    <tr style=\"text-align: right;\">\n",
       "      <th></th>\n",
       "      <th>test</th>\n",
       "      <th>Random Forest</th>\n",
       "      <th>XGBoost</th>\n",
       "      <th>CatBoost</th>\n",
       "    </tr>\n",
       "  </thead>\n",
       "  <tbody>\n",
       "    <tr>\n",
       "      <th>384</th>\n",
       "      <td>3.21</td>\n",
       "      <td>69.52</td>\n",
       "      <td>89.40</td>\n",
       "      <td>83.47</td>\n",
       "    </tr>\n",
       "    <tr>\n",
       "      <th>288</th>\n",
       "      <td>96.10</td>\n",
       "      <td>78.60</td>\n",
       "      <td>86.10</td>\n",
       "      <td>97.04</td>\n",
       "    </tr>\n",
       "    <tr>\n",
       "      <th>221</th>\n",
       "      <td>77.20</td>\n",
       "      <td>27.84</td>\n",
       "      <td>70.23</td>\n",
       "      <td>49.45</td>\n",
       "    </tr>\n",
       "    <tr>\n",
       "      <th>769</th>\n",
       "      <td>149.12</td>\n",
       "      <td>31.59</td>\n",
       "      <td>37.59</td>\n",
       "      <td>56.79</td>\n",
       "    </tr>\n",
       "    <tr>\n",
       "      <th>205</th>\n",
       "      <td>-76.80</td>\n",
       "      <td>3.97</td>\n",
       "      <td>9.17</td>\n",
       "      <td>-28.72</td>\n",
       "    </tr>\n",
       "  </tbody>\n",
       "</table>\n",
       "</div>"
      ],
      "text/plain": [
       "       test  Random Forest  XGBoost  CatBoost\n",
       "384    3.21          69.52    89.40     83.47\n",
       "288   96.10          78.60    86.10     97.04\n",
       "221   77.20          27.84    70.23     49.45\n",
       "769  149.12          31.59    37.59     56.79\n",
       "205  -76.80           3.97     9.17    -28.72"
      ]
     },
     "execution_count": 27,
     "metadata": {},
     "output_type": "execute_result"
    }
   ],
   "source": [
    "longitudes['CatBoost'] = y_pred[:5,1].round(2)\n",
    "longitudes"
   ]
  },
  {
   "cell_type": "markdown",
   "metadata": {},
   "source": [
    "### LightGBM"
   ]
  },
  {
   "cell_type": "code",
   "execution_count": 28,
   "metadata": {},
   "outputs": [
    {
     "data": {
      "text/plain": [
       "MultiOutputRegressor(estimator=LGBMRegressor())"
      ]
     },
     "execution_count": 28,
     "metadata": {},
     "output_type": "execute_result"
    }
   ],
   "source": [
    "from lightgbm import LGBMRegressor\n",
    "lgbm_regr = LGBMRegressor()\n",
    "multi_lgfm_regr = MultiOutputRegressor(lgbm_regr);\n",
    "\n",
    "multi_lgfm_regr.fit(X_train_scaled,y_train)"
   ]
  },
  {
   "cell_type": "code",
   "execution_count": 29,
   "metadata": {},
   "outputs": [],
   "source": [
    "y_pred = multi_lgfm_regr.predict(X_test_scaled)"
   ]
  },
  {
   "cell_type": "code",
   "execution_count": 30,
   "metadata": {},
   "outputs": [
    {
     "data": {
      "text/html": [
       "<div>\n",
       "<style scoped>\n",
       "    .dataframe tbody tr th:only-of-type {\n",
       "        vertical-align: middle;\n",
       "    }\n",
       "\n",
       "    .dataframe tbody tr th {\n",
       "        vertical-align: top;\n",
       "    }\n",
       "\n",
       "    .dataframe thead th {\n",
       "        text-align: right;\n",
       "    }\n",
       "</style>\n",
       "<table border=\"1\" class=\"dataframe\">\n",
       "  <thead>\n",
       "    <tr style=\"text-align: right;\">\n",
       "      <th></th>\n",
       "      <th>error_type</th>\n",
       "      <th>Random Forest</th>\n",
       "      <th>XGBoost</th>\n",
       "      <th>CatBoost</th>\n",
       "      <th>LightGBM</th>\n",
       "    </tr>\n",
       "  </thead>\n",
       "  <tbody>\n",
       "    <tr>\n",
       "      <th>0</th>\n",
       "      <td>MAE</td>\n",
       "      <td>23.447897</td>\n",
       "      <td>22.942573</td>\n",
       "      <td>22.281936</td>\n",
       "      <td>23.141568</td>\n",
       "    </tr>\n",
       "    <tr>\n",
       "      <th>1</th>\n",
       "      <td>RMSE</td>\n",
       "      <td>32.907878</td>\n",
       "      <td>33.362687</td>\n",
       "      <td>32.257198</td>\n",
       "      <td>33.547872</td>\n",
       "    </tr>\n",
       "    <tr>\n",
       "      <th>2</th>\n",
       "      <td>R2</td>\n",
       "      <td>0.243992</td>\n",
       "      <td>0.228572</td>\n",
       "      <td>0.286893</td>\n",
       "      <td>0.242824</td>\n",
       "    </tr>\n",
       "  </tbody>\n",
       "</table>\n",
       "</div>"
      ],
      "text/plain": [
       "  error_type  Random Forest    XGBoost   CatBoost   LightGBM\n",
       "0        MAE      23.447897  22.942573  22.281936  23.141568\n",
       "1       RMSE      32.907878  33.362687  32.257198  33.547872\n",
       "2         R2       0.243992   0.228572   0.286893   0.242824"
      ]
     },
     "execution_count": 30,
     "metadata": {},
     "output_type": "execute_result"
    }
   ],
   "source": [
    "measured_metrics[\"LightGBM\"] = dataframe_metrics(y_test, y_pred)\n",
    "measured_metrics"
   ]
  },
  {
   "cell_type": "code",
   "execution_count": 31,
   "metadata": {},
   "outputs": [
    {
     "data": {
      "text/html": [
       "<div>\n",
       "<style scoped>\n",
       "    .dataframe tbody tr th:only-of-type {\n",
       "        vertical-align: middle;\n",
       "    }\n",
       "\n",
       "    .dataframe tbody tr th {\n",
       "        vertical-align: top;\n",
       "    }\n",
       "\n",
       "    .dataframe thead th {\n",
       "        text-align: right;\n",
       "    }\n",
       "</style>\n",
       "<table border=\"1\" class=\"dataframe\">\n",
       "  <thead>\n",
       "    <tr style=\"text-align: right;\">\n",
       "      <th></th>\n",
       "      <th>test</th>\n",
       "      <th>Random Forest</th>\n",
       "      <th>XGBoost</th>\n",
       "      <th>CatBoost</th>\n",
       "      <th>LightGBM</th>\n",
       "    </tr>\n",
       "  </thead>\n",
       "  <tbody>\n",
       "    <tr>\n",
       "      <th>384</th>\n",
       "      <td>36.70</td>\n",
       "      <td>25.76</td>\n",
       "      <td>9.26</td>\n",
       "      <td>34.25</td>\n",
       "      <td>6.18</td>\n",
       "    </tr>\n",
       "    <tr>\n",
       "      <th>288</th>\n",
       "      <td>19.75</td>\n",
       "      <td>16.74</td>\n",
       "      <td>22.12</td>\n",
       "      <td>15.49</td>\n",
       "      <td>18.69</td>\n",
       "    </tr>\n",
       "    <tr>\n",
       "      <th>221</th>\n",
       "      <td>28.61</td>\n",
       "      <td>23.85</td>\n",
       "      <td>25.55</td>\n",
       "      <td>20.70</td>\n",
       "      <td>25.36</td>\n",
       "    </tr>\n",
       "    <tr>\n",
       "      <th>769</th>\n",
       "      <td>-35.30</td>\n",
       "      <td>19.41</td>\n",
       "      <td>14.60</td>\n",
       "      <td>22.77</td>\n",
       "      <td>19.37</td>\n",
       "    </tr>\n",
       "    <tr>\n",
       "      <th>205</th>\n",
       "      <td>17.98</td>\n",
       "      <td>22.24</td>\n",
       "      <td>29.63</td>\n",
       "      <td>26.00</td>\n",
       "      <td>23.68</td>\n",
       "    </tr>\n",
       "  </tbody>\n",
       "</table>\n",
       "</div>"
      ],
      "text/plain": [
       "      test  Random Forest  XGBoost  CatBoost  LightGBM\n",
       "384  36.70          25.76     9.26     34.25      6.18\n",
       "288  19.75          16.74    22.12     15.49     18.69\n",
       "221  28.61          23.85    25.55     20.70     25.36\n",
       "769 -35.30          19.41    14.60     22.77     19.37\n",
       "205  17.98          22.24    29.63     26.00     23.68"
      ]
     },
     "execution_count": 31,
     "metadata": {},
     "output_type": "execute_result"
    }
   ],
   "source": [
    "latitudes['LightGBM'] = y_pred[:5,0].round(2)\n",
    "latitudes"
   ]
  },
  {
   "cell_type": "code",
   "execution_count": 32,
   "metadata": {},
   "outputs": [
    {
     "data": {
      "text/html": [
       "<div>\n",
       "<style scoped>\n",
       "    .dataframe tbody tr th:only-of-type {\n",
       "        vertical-align: middle;\n",
       "    }\n",
       "\n",
       "    .dataframe tbody tr th {\n",
       "        vertical-align: top;\n",
       "    }\n",
       "\n",
       "    .dataframe thead th {\n",
       "        text-align: right;\n",
       "    }\n",
       "</style>\n",
       "<table border=\"1\" class=\"dataframe\">\n",
       "  <thead>\n",
       "    <tr style=\"text-align: right;\">\n",
       "      <th></th>\n",
       "      <th>test</th>\n",
       "      <th>Random Forest</th>\n",
       "      <th>XGBoost</th>\n",
       "      <th>CatBoost</th>\n",
       "      <th>LightGBM</th>\n",
       "    </tr>\n",
       "  </thead>\n",
       "  <tbody>\n",
       "    <tr>\n",
       "      <th>384</th>\n",
       "      <td>3.21</td>\n",
       "      <td>69.52</td>\n",
       "      <td>89.40</td>\n",
       "      <td>83.47</td>\n",
       "      <td>91.63</td>\n",
       "    </tr>\n",
       "    <tr>\n",
       "      <th>288</th>\n",
       "      <td>96.10</td>\n",
       "      <td>78.60</td>\n",
       "      <td>86.10</td>\n",
       "      <td>97.04</td>\n",
       "      <td>95.36</td>\n",
       "    </tr>\n",
       "    <tr>\n",
       "      <th>221</th>\n",
       "      <td>77.20</td>\n",
       "      <td>27.84</td>\n",
       "      <td>70.23</td>\n",
       "      <td>49.45</td>\n",
       "      <td>55.49</td>\n",
       "    </tr>\n",
       "    <tr>\n",
       "      <th>769</th>\n",
       "      <td>149.12</td>\n",
       "      <td>31.59</td>\n",
       "      <td>37.59</td>\n",
       "      <td>56.79</td>\n",
       "      <td>23.56</td>\n",
       "    </tr>\n",
       "    <tr>\n",
       "      <th>205</th>\n",
       "      <td>-76.80</td>\n",
       "      <td>3.97</td>\n",
       "      <td>9.17</td>\n",
       "      <td>-28.72</td>\n",
       "      <td>-27.59</td>\n",
       "    </tr>\n",
       "  </tbody>\n",
       "</table>\n",
       "</div>"
      ],
      "text/plain": [
       "       test  Random Forest  XGBoost  CatBoost  LightGBM\n",
       "384    3.21          69.52    89.40     83.47     91.63\n",
       "288   96.10          78.60    86.10     97.04     95.36\n",
       "221   77.20          27.84    70.23     49.45     55.49\n",
       "769  149.12          31.59    37.59     56.79     23.56\n",
       "205  -76.80           3.97     9.17    -28.72    -27.59"
      ]
     },
     "execution_count": 32,
     "metadata": {},
     "output_type": "execute_result"
    }
   ],
   "source": [
    "longitudes['LightGBM'] = y_pred[:5,1].round(2)\n",
    "longitudes"
   ]
  },
  {
   "cell_type": "markdown",
   "metadata": {},
   "source": [
    "Некоторые широты и долготы модели предсказывают неплохо, некоторые совсем мимо."
   ]
  },
  {
   "cell_type": "markdown",
   "metadata": {},
   "source": [
    "### GradientBoostingRegressor\n",
    "\n",
    "Добавим по совету проверяющего вот такой регрессор «из коробки»."
   ]
  },
  {
   "cell_type": "code",
   "execution_count": 33,
   "metadata": {},
   "outputs": [
    {
     "data": {
      "text/plain": [
       "MultiOutputRegressor(estimator=GradientBoostingRegressor())"
      ]
     },
     "execution_count": 33,
     "metadata": {},
     "output_type": "execute_result"
    }
   ],
   "source": [
    "from sklearn.ensemble import GradientBoostingRegressor\n",
    "gb_regr = GradientBoostingRegressor()\n",
    "multi_gb_regr = MultiOutputRegressor(gb_regr);\n",
    "\n",
    "multi_gb_regr.fit(X_train_scaled,y_train)"
   ]
  },
  {
   "cell_type": "code",
   "execution_count": 34,
   "metadata": {},
   "outputs": [],
   "source": [
    "y_pred = multi_gb_regr.predict(X_test_scaled)"
   ]
  },
  {
   "cell_type": "code",
   "execution_count": 35,
   "metadata": {},
   "outputs": [
    {
     "data": {
      "text/html": [
       "<div>\n",
       "<style scoped>\n",
       "    .dataframe tbody tr th:only-of-type {\n",
       "        vertical-align: middle;\n",
       "    }\n",
       "\n",
       "    .dataframe tbody tr th {\n",
       "        vertical-align: top;\n",
       "    }\n",
       "\n",
       "    .dataframe thead th {\n",
       "        text-align: right;\n",
       "    }\n",
       "</style>\n",
       "<table border=\"1\" class=\"dataframe\">\n",
       "  <thead>\n",
       "    <tr style=\"text-align: right;\">\n",
       "      <th></th>\n",
       "      <th>error_type</th>\n",
       "      <th>Random Forest</th>\n",
       "      <th>XGBoost</th>\n",
       "      <th>CatBoost</th>\n",
       "      <th>LightGBM</th>\n",
       "      <th>Gradient Boosting</th>\n",
       "    </tr>\n",
       "  </thead>\n",
       "  <tbody>\n",
       "    <tr>\n",
       "      <th>0</th>\n",
       "      <td>MAE</td>\n",
       "      <td>23.447897</td>\n",
       "      <td>22.942573</td>\n",
       "      <td>22.281936</td>\n",
       "      <td>23.141568</td>\n",
       "      <td>23.160997</td>\n",
       "    </tr>\n",
       "    <tr>\n",
       "      <th>1</th>\n",
       "      <td>RMSE</td>\n",
       "      <td>32.907878</td>\n",
       "      <td>33.362687</td>\n",
       "      <td>32.257198</td>\n",
       "      <td>33.547872</td>\n",
       "      <td>33.241104</td>\n",
       "    </tr>\n",
       "    <tr>\n",
       "      <th>2</th>\n",
       "      <td>R2</td>\n",
       "      <td>0.243992</td>\n",
       "      <td>0.228572</td>\n",
       "      <td>0.286893</td>\n",
       "      <td>0.242824</td>\n",
       "      <td>0.249069</td>\n",
       "    </tr>\n",
       "  </tbody>\n",
       "</table>\n",
       "</div>"
      ],
      "text/plain": [
       "  error_type  Random Forest    XGBoost   CatBoost   LightGBM  \\\n",
       "0        MAE      23.447897  22.942573  22.281936  23.141568   \n",
       "1       RMSE      32.907878  33.362687  32.257198  33.547872   \n",
       "2         R2       0.243992   0.228572   0.286893   0.242824   \n",
       "\n",
       "   Gradient Boosting  \n",
       "0          23.160997  \n",
       "1          33.241104  \n",
       "2           0.249069  "
      ]
     },
     "execution_count": 35,
     "metadata": {},
     "output_type": "execute_result"
    }
   ],
   "source": [
    "measured_metrics[\"Gradient Boosting\"] = dataframe_metrics(y_test, y_pred)\n",
    "measured_metrics"
   ]
  },
  {
   "cell_type": "code",
   "execution_count": 36,
   "metadata": {},
   "outputs": [
    {
     "data": {
      "text/html": [
       "<div>\n",
       "<style scoped>\n",
       "    .dataframe tbody tr th:only-of-type {\n",
       "        vertical-align: middle;\n",
       "    }\n",
       "\n",
       "    .dataframe tbody tr th {\n",
       "        vertical-align: top;\n",
       "    }\n",
       "\n",
       "    .dataframe thead th {\n",
       "        text-align: right;\n",
       "    }\n",
       "</style>\n",
       "<table border=\"1\" class=\"dataframe\">\n",
       "  <thead>\n",
       "    <tr style=\"text-align: right;\">\n",
       "      <th></th>\n",
       "      <th>test</th>\n",
       "      <th>Random Forest</th>\n",
       "      <th>XGBoost</th>\n",
       "      <th>CatBoost</th>\n",
       "      <th>LightGBM</th>\n",
       "      <th>Gradient Boosting</th>\n",
       "    </tr>\n",
       "  </thead>\n",
       "  <tbody>\n",
       "    <tr>\n",
       "      <th>384</th>\n",
       "      <td>36.70</td>\n",
       "      <td>25.76</td>\n",
       "      <td>9.26</td>\n",
       "      <td>34.25</td>\n",
       "      <td>6.18</td>\n",
       "      <td>2.48</td>\n",
       "    </tr>\n",
       "    <tr>\n",
       "      <th>288</th>\n",
       "      <td>19.75</td>\n",
       "      <td>16.74</td>\n",
       "      <td>22.12</td>\n",
       "      <td>15.49</td>\n",
       "      <td>18.69</td>\n",
       "      <td>20.08</td>\n",
       "    </tr>\n",
       "    <tr>\n",
       "      <th>221</th>\n",
       "      <td>28.61</td>\n",
       "      <td>23.85</td>\n",
       "      <td>25.55</td>\n",
       "      <td>20.70</td>\n",
       "      <td>25.36</td>\n",
       "      <td>21.90</td>\n",
       "    </tr>\n",
       "    <tr>\n",
       "      <th>769</th>\n",
       "      <td>-35.30</td>\n",
       "      <td>19.41</td>\n",
       "      <td>14.60</td>\n",
       "      <td>22.77</td>\n",
       "      <td>19.37</td>\n",
       "      <td>17.57</td>\n",
       "    </tr>\n",
       "    <tr>\n",
       "      <th>205</th>\n",
       "      <td>17.98</td>\n",
       "      <td>22.24</td>\n",
       "      <td>29.63</td>\n",
       "      <td>26.00</td>\n",
       "      <td>23.68</td>\n",
       "      <td>28.25</td>\n",
       "    </tr>\n",
       "  </tbody>\n",
       "</table>\n",
       "</div>"
      ],
      "text/plain": [
       "      test  Random Forest  XGBoost  CatBoost  LightGBM  Gradient Boosting\n",
       "384  36.70          25.76     9.26     34.25      6.18               2.48\n",
       "288  19.75          16.74    22.12     15.49     18.69              20.08\n",
       "221  28.61          23.85    25.55     20.70     25.36              21.90\n",
       "769 -35.30          19.41    14.60     22.77     19.37              17.57\n",
       "205  17.98          22.24    29.63     26.00     23.68              28.25"
      ]
     },
     "execution_count": 36,
     "metadata": {},
     "output_type": "execute_result"
    }
   ],
   "source": [
    "latitudes['Gradient Boosting'] = y_pred[:5,0].round(2)\n",
    "latitudes"
   ]
  },
  {
   "cell_type": "code",
   "execution_count": 37,
   "metadata": {},
   "outputs": [
    {
     "data": {
      "text/html": [
       "<div>\n",
       "<style scoped>\n",
       "    .dataframe tbody tr th:only-of-type {\n",
       "        vertical-align: middle;\n",
       "    }\n",
       "\n",
       "    .dataframe tbody tr th {\n",
       "        vertical-align: top;\n",
       "    }\n",
       "\n",
       "    .dataframe thead th {\n",
       "        text-align: right;\n",
       "    }\n",
       "</style>\n",
       "<table border=\"1\" class=\"dataframe\">\n",
       "  <thead>\n",
       "    <tr style=\"text-align: right;\">\n",
       "      <th></th>\n",
       "      <th>test</th>\n",
       "      <th>Random Forest</th>\n",
       "      <th>XGBoost</th>\n",
       "      <th>CatBoost</th>\n",
       "      <th>LightGBM</th>\n",
       "      <th>Gradient Boosting</th>\n",
       "    </tr>\n",
       "  </thead>\n",
       "  <tbody>\n",
       "    <tr>\n",
       "      <th>384</th>\n",
       "      <td>3.21</td>\n",
       "      <td>69.52</td>\n",
       "      <td>89.40</td>\n",
       "      <td>83.47</td>\n",
       "      <td>91.63</td>\n",
       "      <td>85.58</td>\n",
       "    </tr>\n",
       "    <tr>\n",
       "      <th>288</th>\n",
       "      <td>96.10</td>\n",
       "      <td>78.60</td>\n",
       "      <td>86.10</td>\n",
       "      <td>97.04</td>\n",
       "      <td>95.36</td>\n",
       "      <td>74.78</td>\n",
       "    </tr>\n",
       "    <tr>\n",
       "      <th>221</th>\n",
       "      <td>77.20</td>\n",
       "      <td>27.84</td>\n",
       "      <td>70.23</td>\n",
       "      <td>49.45</td>\n",
       "      <td>55.49</td>\n",
       "      <td>56.17</td>\n",
       "    </tr>\n",
       "    <tr>\n",
       "      <th>769</th>\n",
       "      <td>149.12</td>\n",
       "      <td>31.59</td>\n",
       "      <td>37.59</td>\n",
       "      <td>56.79</td>\n",
       "      <td>23.56</td>\n",
       "      <td>26.91</td>\n",
       "    </tr>\n",
       "    <tr>\n",
       "      <th>205</th>\n",
       "      <td>-76.80</td>\n",
       "      <td>3.97</td>\n",
       "      <td>9.17</td>\n",
       "      <td>-28.72</td>\n",
       "      <td>-27.59</td>\n",
       "      <td>-20.77</td>\n",
       "    </tr>\n",
       "  </tbody>\n",
       "</table>\n",
       "</div>"
      ],
      "text/plain": [
       "       test  Random Forest  XGBoost  CatBoost  LightGBM  Gradient Boosting\n",
       "384    3.21          69.52    89.40     83.47     91.63              85.58\n",
       "288   96.10          78.60    86.10     97.04     95.36              74.78\n",
       "221   77.20          27.84    70.23     49.45     55.49              56.17\n",
       "769  149.12          31.59    37.59     56.79     23.56              26.91\n",
       "205  -76.80           3.97     9.17    -28.72    -27.59             -20.77"
      ]
     },
     "execution_count": 37,
     "metadata": {},
     "output_type": "execute_result"
    }
   ],
   "source": [
    "longitudes['Gradient Boosting'] = y_pred[:5,1].round(2)\n",
    "longitudes"
   ]
  },
  {
   "cell_type": "markdown",
   "metadata": {},
   "source": [
    "**Для моделей из коробки лучший результат показала CatBoost, хотя и не сильно отличается от обычного Random Forest**"
   ]
  },
  {
   "cell_type": "markdown",
   "metadata": {},
   "source": [
    "## Cross-Validation\n",
    "\n",
    "### Random Forest\n",
    "\n",
    "Используем RandomizedSearchCV и создадим диапазоны изменяемых параметров: число деревьев, число фич для расщепления, глубину деревьев."
   ]
  },
  {
   "cell_type": "code",
   "execution_count": 39,
   "metadata": {},
   "outputs": [
    {
     "name": "stdout",
     "output_type": "stream",
     "text": [
      "Fitting 3 folds for each of 100 candidates, totalling 300 fits\n"
     ]
    },
    {
     "name": "stderr",
     "output_type": "stream",
     "text": [
      "[Parallel(n_jobs=-1)]: Using backend LokyBackend with 4 concurrent workers.\n",
      "[Parallel(n_jobs=-1)]: Done  10 tasks      | elapsed:   38.6s\n",
      "[Parallel(n_jobs=-1)]: Done  64 tasks      | elapsed:  3.1min\n",
      "[Parallel(n_jobs=-1)]: Done 154 tasks      | elapsed:  7.8min\n",
      "[Parallel(n_jobs=-1)]: Done 280 tasks      | elapsed: 13.3min\n",
      "[Parallel(n_jobs=-1)]: Done 300 out of 300 | elapsed: 13.9min finished\n"
     ]
    },
    {
     "name": "stdout",
     "output_type": "stream",
     "text": [
      "Wall time: 14min 5s\n"
     ]
    },
    {
     "data": {
      "text/plain": [
       "RandomizedSearchCV(cv=3, estimator=RandomForestRegressor(), n_iter=100,\n",
       "                   n_jobs=-1,\n",
       "                   param_distributions={'max_depth': array([10, 20, 30, 40, 50, 60, 70, 80, 90, 100, None], dtype=object),\n",
       "                                        'max_features': ['auto', 'sqrt',\n",
       "                                                         'log2'],\n",
       "                                        'n_estimators': array([ 100,  200,  300,  400,  500,  600,  700,  800,  900, 1000])},\n",
       "                   verbose=5)"
      ]
     },
     "execution_count": 39,
     "metadata": {},
     "output_type": "execute_result"
    }
   ],
   "source": [
    "%%time\n",
    "from sklearn.model_selection import RandomizedSearchCV\n",
    "\n",
    "random_grid = {'n_estimators': np.arange(100,1100,100),\n",
    "               'max_features': ['auto','sqrt','log2'],\n",
    "               'max_depth': np.append(np.arange(10,110,10),None)}\n",
    "\n",
    "rf_random = RandomizedSearchCV(estimator = rf_regr, param_distributions = random_grid, n_iter = 100, cv = 3, n_jobs = -1, verbose = 5)\n",
    "\n",
    "rf_random.fit(X_train_scaled,y_train)"
   ]
  },
  {
   "cell_type": "code",
   "execution_count": 40,
   "metadata": {},
   "outputs": [
    {
     "data": {
      "text/plain": [
       "{'n_estimators': 200, 'max_features': 'auto', 'max_depth': 60}"
      ]
     },
     "execution_count": 40,
     "metadata": {},
     "output_type": "execute_result"
    }
   ],
   "source": [
    "rf_random.best_params_"
   ]
  },
  {
   "cell_type": "markdown",
   "metadata": {},
   "source": [
    "Для полученных оптимальных гиперпараметров сделаем новое предсказание"
   ]
  },
  {
   "cell_type": "code",
   "execution_count": 41,
   "metadata": {},
   "outputs": [],
   "source": [
    "y_pred = rf_random.best_estimator_.predict(X_test_scaled)"
   ]
  },
  {
   "cell_type": "code",
   "execution_count": 42,
   "metadata": {},
   "outputs": [
    {
     "data": {
      "text/html": [
       "<div>\n",
       "<style scoped>\n",
       "    .dataframe tbody tr th:only-of-type {\n",
       "        vertical-align: middle;\n",
       "    }\n",
       "\n",
       "    .dataframe tbody tr th {\n",
       "        vertical-align: top;\n",
       "    }\n",
       "\n",
       "    .dataframe thead th {\n",
       "        text-align: right;\n",
       "    }\n",
       "</style>\n",
       "<table border=\"1\" class=\"dataframe\">\n",
       "  <thead>\n",
       "    <tr style=\"text-align: right;\">\n",
       "      <th></th>\n",
       "      <th>error_type</th>\n",
       "      <th>Random Forest</th>\n",
       "      <th>XGBoost</th>\n",
       "      <th>CatBoost</th>\n",
       "      <th>LightGBM</th>\n",
       "      <th>Gradient Boosting</th>\n",
       "      <th>Random Forest CV</th>\n",
       "    </tr>\n",
       "  </thead>\n",
       "  <tbody>\n",
       "    <tr>\n",
       "      <th>0</th>\n",
       "      <td>MAE</td>\n",
       "      <td>23.447897</td>\n",
       "      <td>22.942573</td>\n",
       "      <td>22.281936</td>\n",
       "      <td>23.141568</td>\n",
       "      <td>23.160997</td>\n",
       "      <td>22.968033</td>\n",
       "    </tr>\n",
       "    <tr>\n",
       "      <th>1</th>\n",
       "      <td>RMSE</td>\n",
       "      <td>32.907878</td>\n",
       "      <td>33.362687</td>\n",
       "      <td>32.257198</td>\n",
       "      <td>33.547872</td>\n",
       "      <td>33.241104</td>\n",
       "      <td>32.220540</td>\n",
       "    </tr>\n",
       "    <tr>\n",
       "      <th>2</th>\n",
       "      <td>R2</td>\n",
       "      <td>0.243992</td>\n",
       "      <td>0.228572</td>\n",
       "      <td>0.286893</td>\n",
       "      <td>0.242824</td>\n",
       "      <td>0.249069</td>\n",
       "      <td>0.275815</td>\n",
       "    </tr>\n",
       "  </tbody>\n",
       "</table>\n",
       "</div>"
      ],
      "text/plain": [
       "  error_type  Random Forest    XGBoost   CatBoost   LightGBM  \\\n",
       "0        MAE      23.447897  22.942573  22.281936  23.141568   \n",
       "1       RMSE      32.907878  33.362687  32.257198  33.547872   \n",
       "2         R2       0.243992   0.228572   0.286893   0.242824   \n",
       "\n",
       "   Gradient Boosting  Random Forest CV  \n",
       "0          23.160997         22.968033  \n",
       "1          33.241104         32.220540  \n",
       "2           0.249069          0.275815  "
      ]
     },
     "execution_count": 42,
     "metadata": {},
     "output_type": "execute_result"
    }
   ],
   "source": [
    "measured_metrics[\"Random Forest CV\"] = dataframe_metrics(y_test, y_pred)\n",
    "measured_metrics"
   ]
  },
  {
   "cell_type": "markdown",
   "metadata": {},
   "source": [
    "Метрики выглядят немного лучше"
   ]
  },
  {
   "cell_type": "markdown",
   "metadata": {},
   "source": [
    "### XGBoost"
   ]
  },
  {
   "cell_type": "code",
   "execution_count": 43,
   "metadata": {},
   "outputs": [
    {
     "name": "stdout",
     "output_type": "stream",
     "text": [
      "Fitting 3 folds for each of 100 candidates, totalling 300 fits\n"
     ]
    },
    {
     "name": "stderr",
     "output_type": "stream",
     "text": [
      "[Parallel(n_jobs=-1)]: Using backend LokyBackend with 4 concurrent workers.\n",
      "[Parallel(n_jobs=-1)]: Done  10 tasks      | elapsed:   42.9s\n",
      "[Parallel(n_jobs=-1)]: Done  64 tasks      | elapsed:  4.2min\n",
      "[Parallel(n_jobs=-1)]: Done 154 tasks      | elapsed:  9.6min\n",
      "[Parallel(n_jobs=-1)]: Done 280 tasks      | elapsed: 18.1min\n",
      "[Parallel(n_jobs=-1)]: Done 300 out of 300 | elapsed: 19.0min finished\n"
     ]
    },
    {
     "name": "stdout",
     "output_type": "stream",
     "text": [
      "Wall time: 19min 9s\n"
     ]
    },
    {
     "data": {
      "text/plain": [
       "RandomizedSearchCV(cv=3,\n",
       "                   estimator=MultiOutputRegressor(estimator=XGBRegressor(base_score=None,\n",
       "                                                                         booster=None,\n",
       "                                                                         colsample_bylevel=None,\n",
       "                                                                         colsample_bynode=None,\n",
       "                                                                         colsample_bytree=None,\n",
       "                                                                         gamma=None,\n",
       "                                                                         gpu_id=None,\n",
       "                                                                         importance_type='gain',\n",
       "                                                                         interaction_constraints=None,\n",
       "                                                                         learning_rate=None,\n",
       "                                                                         max_delta_step=None,\n",
       "                                                                         max_depth=None,\n",
       "                                                                         min_child_weight=None,\n",
       "                                                                         missing=nan,\n",
       "                                                                         monotone_cons...\n",
       "                                                                         scale_pos_weight=None,\n",
       "                                                                         subsample=None,\n",
       "                                                                         tree_method=None,\n",
       "                                                                         validate_parameters=None,\n",
       "                                                                         verbosity=None)),\n",
       "                   n_iter=100, n_jobs=-1,\n",
       "                   param_distributions={'estimator__max_depth': array([10, 20, 30, 40, 50, 60, 70, 80, 90, 100, None], dtype=object),\n",
       "                                        'estimator__n_estimators': array([ 100,  200,  300,  400,  500,  600,  700,  800,  900, 1000]),\n",
       "                                        'estimator__subsample': array([0.5, 0.6, 0.7, 0.8, 0.9, 1. , 1.1])},\n",
       "                   verbose=5)"
      ]
     },
     "execution_count": 43,
     "metadata": {},
     "output_type": "execute_result"
    }
   ],
   "source": [
    "%%time\n",
    "\n",
    "random_grid = {'estimator__n_estimators': np.arange(100,1100,100),\n",
    "               'estimator__subsample': np.arange(0.5,1.1,0.1),\n",
    "               'estimator__max_depth': np.append(np.arange(10,110,10),None)}\n",
    "\n",
    "xgb_random = RandomizedSearchCV(estimator = multi_xgb_regr, param_distributions = random_grid, n_iter = 100, cv = 3, n_jobs = -1, verbose = 5)\n",
    "\n",
    "xgb_random.fit(X_train_scaled,y_train)"
   ]
  },
  {
   "cell_type": "code",
   "execution_count": 44,
   "metadata": {},
   "outputs": [
    {
     "data": {
      "text/plain": [
       "{'estimator__subsample': 0.8999999999999999,\n",
       " 'estimator__n_estimators': 1000,\n",
       " 'estimator__max_depth': None}"
      ]
     },
     "execution_count": 44,
     "metadata": {},
     "output_type": "execute_result"
    }
   ],
   "source": [
    "xgb_random.best_params_"
   ]
  },
  {
   "cell_type": "code",
   "execution_count": 45,
   "metadata": {},
   "outputs": [],
   "source": [
    "y_pred = xgb_random.best_estimator_.predict(X_test_scaled)"
   ]
  },
  {
   "cell_type": "code",
   "execution_count": 46,
   "metadata": {},
   "outputs": [
    {
     "data": {
      "text/html": [
       "<div>\n",
       "<style scoped>\n",
       "    .dataframe tbody tr th:only-of-type {\n",
       "        vertical-align: middle;\n",
       "    }\n",
       "\n",
       "    .dataframe tbody tr th {\n",
       "        vertical-align: top;\n",
       "    }\n",
       "\n",
       "    .dataframe thead th {\n",
       "        text-align: right;\n",
       "    }\n",
       "</style>\n",
       "<table border=\"1\" class=\"dataframe\">\n",
       "  <thead>\n",
       "    <tr style=\"text-align: right;\">\n",
       "      <th></th>\n",
       "      <th>error_type</th>\n",
       "      <th>Random Forest</th>\n",
       "      <th>XGBoost</th>\n",
       "      <th>CatBoost</th>\n",
       "      <th>LightGBM</th>\n",
       "      <th>Gradient Boosting</th>\n",
       "      <th>Random Forest CV</th>\n",
       "      <th>XGBoost CV</th>\n",
       "    </tr>\n",
       "  </thead>\n",
       "  <tbody>\n",
       "    <tr>\n",
       "      <th>0</th>\n",
       "      <td>MAE</td>\n",
       "      <td>23.447897</td>\n",
       "      <td>22.942573</td>\n",
       "      <td>22.281936</td>\n",
       "      <td>23.141568</td>\n",
       "      <td>23.160997</td>\n",
       "      <td>22.968033</td>\n",
       "      <td>23.245179</td>\n",
       "    </tr>\n",
       "    <tr>\n",
       "      <th>1</th>\n",
       "      <td>RMSE</td>\n",
       "      <td>32.907878</td>\n",
       "      <td>33.362687</td>\n",
       "      <td>32.257198</td>\n",
       "      <td>33.547872</td>\n",
       "      <td>33.241104</td>\n",
       "      <td>32.220540</td>\n",
       "      <td>33.802153</td>\n",
       "    </tr>\n",
       "    <tr>\n",
       "      <th>2</th>\n",
       "      <td>R2</td>\n",
       "      <td>0.243992</td>\n",
       "      <td>0.228572</td>\n",
       "      <td>0.286893</td>\n",
       "      <td>0.242824</td>\n",
       "      <td>0.249069</td>\n",
       "      <td>0.275815</td>\n",
       "      <td>0.219409</td>\n",
       "    </tr>\n",
       "  </tbody>\n",
       "</table>\n",
       "</div>"
      ],
      "text/plain": [
       "  error_type  Random Forest    XGBoost   CatBoost   LightGBM  \\\n",
       "0        MAE      23.447897  22.942573  22.281936  23.141568   \n",
       "1       RMSE      32.907878  33.362687  32.257198  33.547872   \n",
       "2         R2       0.243992   0.228572   0.286893   0.242824   \n",
       "\n",
       "   Gradient Boosting  Random Forest CV  XGBoost CV  \n",
       "0          23.160997         22.968033   23.245179  \n",
       "1          33.241104         32.220540   33.802153  \n",
       "2           0.249069          0.275815    0.219409  "
      ]
     },
     "execution_count": 46,
     "metadata": {},
     "output_type": "execute_result"
    }
   ],
   "source": [
    "measured_metrics[\"XGBoost CV\"] = dataframe_metrics(y_test, y_pred)\n",
    "measured_metrics"
   ]
  },
  {
   "cell_type": "markdown",
   "metadata": {},
   "source": [
    "В случае XGBoost метрики с настроенными гиперпараметрами стали чуть хуже"
   ]
  },
  {
   "cell_type": "markdown",
   "metadata": {},
   "source": [
    "### LightGBM"
   ]
  },
  {
   "cell_type": "code",
   "execution_count": 47,
   "metadata": {},
   "outputs": [
    {
     "name": "stdout",
     "output_type": "stream",
     "text": [
      "Fitting 3 folds for each of 100 candidates, totalling 300 fits\n"
     ]
    },
    {
     "name": "stderr",
     "output_type": "stream",
     "text": [
      "[Parallel(n_jobs=-1)]: Using backend LokyBackend with 4 concurrent workers.\n",
      "[Parallel(n_jobs=-1)]: Done  10 tasks      | elapsed:   12.1s\n",
      "[Parallel(n_jobs=-1)]: Done  64 tasks      | elapsed:  1.4min\n",
      "[Parallel(n_jobs=-1)]: Done 154 tasks      | elapsed:  3.2min\n",
      "[Parallel(n_jobs=-1)]: Done 280 tasks      | elapsed:  6.0min\n",
      "[Parallel(n_jobs=-1)]: Done 300 out of 300 | elapsed:  6.4min finished\n"
     ]
    },
    {
     "name": "stdout",
     "output_type": "stream",
     "text": [
      "[LightGBM] [Warning] Accuracy may be bad since you didn't explicitly set num_leaves OR 2^max_depth > num_leaves. (num_leaves=31).\n",
      "Wall time: 6min 26s\n"
     ]
    },
    {
     "data": {
      "text/plain": [
       "RandomizedSearchCV(cv=3,\n",
       "                   estimator=MultiOutputRegressor(estimator=LGBMRegressor()),\n",
       "                   n_iter=100, n_jobs=-1,\n",
       "                   param_distributions={'estimator__max_depth': array([10, 20, 30, 40, 50, 60, 70, 80, 90, 100, None], dtype=object),\n",
       "                                        'estimator__n_estimators': array([ 100,  200,  300,  400,  500,  600,  700,  800,  900, 1000]),\n",
       "                                        'estimator__subsample': array([0.5, 0.6, 0.7, 0.8, 0.9, 1. , 1.1])},\n",
       "                   verbose=5)"
      ]
     },
     "execution_count": 47,
     "metadata": {},
     "output_type": "execute_result"
    }
   ],
   "source": [
    "%%time\n",
    "from sklearn.model_selection import RandomizedSearchCV\n",
    "\n",
    "random_grid = {'estimator__n_estimators': np.arange(100,1100,100),\n",
    "               'estimator__subsample': np.arange(0.5,1.1,0.1),\n",
    "               'estimator__max_depth': np.append(np.arange(10,110,10),None)}\n",
    "\n",
    "lgbm_random = RandomizedSearchCV(estimator = multi_lgfm_regr, param_distributions = random_grid, n_iter = 100, cv = 3, n_jobs = -1, verbose = 5)\n",
    "\n",
    "lgbm_random.fit(X_train_scaled,y_train)"
   ]
  },
  {
   "cell_type": "code",
   "execution_count": 48,
   "metadata": {},
   "outputs": [
    {
     "data": {
      "text/plain": [
       "{'estimator__subsample': 0.8999999999999999,\n",
       " 'estimator__n_estimators': 100,\n",
       " 'estimator__max_depth': 100}"
      ]
     },
     "execution_count": 48,
     "metadata": {},
     "output_type": "execute_result"
    }
   ],
   "source": [
    "lgbm_random.best_params_"
   ]
  },
  {
   "cell_type": "code",
   "execution_count": 49,
   "metadata": {},
   "outputs": [],
   "source": [
    "y_pred = lgbm_random.best_estimator_.predict(X_test_scaled)"
   ]
  },
  {
   "cell_type": "code",
   "execution_count": 50,
   "metadata": {},
   "outputs": [
    {
     "data": {
      "text/html": [
       "<div>\n",
       "<style scoped>\n",
       "    .dataframe tbody tr th:only-of-type {\n",
       "        vertical-align: middle;\n",
       "    }\n",
       "\n",
       "    .dataframe tbody tr th {\n",
       "        vertical-align: top;\n",
       "    }\n",
       "\n",
       "    .dataframe thead th {\n",
       "        text-align: right;\n",
       "    }\n",
       "</style>\n",
       "<table border=\"1\" class=\"dataframe\">\n",
       "  <thead>\n",
       "    <tr style=\"text-align: right;\">\n",
       "      <th></th>\n",
       "      <th>error_type</th>\n",
       "      <th>Random Forest</th>\n",
       "      <th>XGBoost</th>\n",
       "      <th>CatBoost</th>\n",
       "      <th>LightGBM</th>\n",
       "      <th>Gradient Boosting</th>\n",
       "      <th>CatBoost CV</th>\n",
       "      <th>Gradient Boosting CV</th>\n",
       "      <th>LightGBM CV</th>\n",
       "    </tr>\n",
       "  </thead>\n",
       "  <tbody>\n",
       "    <tr>\n",
       "      <th>0</th>\n",
       "      <td>MAE</td>\n",
       "      <td>23.447897</td>\n",
       "      <td>22.942573</td>\n",
       "      <td>22.281936</td>\n",
       "      <td>23.141568</td>\n",
       "      <td>23.160997</td>\n",
       "      <td>22.352194</td>\n",
       "      <td>22.881757</td>\n",
       "      <td>23.141568</td>\n",
       "    </tr>\n",
       "    <tr>\n",
       "      <th>1</th>\n",
       "      <td>RMSE</td>\n",
       "      <td>32.907878</td>\n",
       "      <td>33.362687</td>\n",
       "      <td>32.257198</td>\n",
       "      <td>33.547872</td>\n",
       "      <td>33.241104</td>\n",
       "      <td>32.293749</td>\n",
       "      <td>32.674778</td>\n",
       "      <td>33.547872</td>\n",
       "    </tr>\n",
       "    <tr>\n",
       "      <th>2</th>\n",
       "      <td>R2</td>\n",
       "      <td>0.243992</td>\n",
       "      <td>0.228572</td>\n",
       "      <td>0.286893</td>\n",
       "      <td>0.242824</td>\n",
       "      <td>0.249069</td>\n",
       "      <td>0.292038</td>\n",
       "      <td>0.270540</td>\n",
       "      <td>0.242824</td>\n",
       "    </tr>\n",
       "  </tbody>\n",
       "</table>\n",
       "</div>"
      ],
      "text/plain": [
       "  error_type  Random Forest    XGBoost   CatBoost   LightGBM  \\\n",
       "0        MAE      23.447897  22.942573  22.281936  23.141568   \n",
       "1       RMSE      32.907878  33.362687  32.257198  33.547872   \n",
       "2         R2       0.243992   0.228572   0.286893   0.242824   \n",
       "\n",
       "   Gradient Boosting  CatBoost CV  Gradient Boosting CV  LightGBM CV  \n",
       "0          23.160997    22.352194             22.881757    23.141568  \n",
       "1          33.241104    32.293749             32.674778    33.547872  \n",
       "2           0.249069     0.292038              0.270540     0.242824  "
      ]
     },
     "execution_count": 50,
     "metadata": {},
     "output_type": "execute_result"
    }
   ],
   "source": [
    "measured_metrics[\"LightGBM CV\"] = dataframe_metrics(y_test, y_pred)\n",
    "measured_metrics"
   ]
  },
  {
   "cell_type": "markdown",
   "metadata": {},
   "source": [
    "В случае LightGBM метрики с настроенными гиперпараметрами почти не изменились"
   ]
  },
  {
   "cell_type": "markdown",
   "metadata": {},
   "source": [
    "### CatBoost\n",
    "\n",
    "Этот алгоритм самый ресурсозатратный, поэтому для примера сделаем 27 комбинаций"
   ]
  },
  {
   "cell_type": "code",
   "execution_count": 38,
   "metadata": {},
   "outputs": [
    {
     "name": "stdout",
     "output_type": "stream",
     "text": [
      "Fitting 3 folds for each of 27 candidates, totalling 81 fits\n"
     ]
    },
    {
     "name": "stderr",
     "output_type": "stream",
     "text": [
      "[Parallel(n_jobs=-1)]: Using backend LokyBackend with 4 concurrent workers.\n",
      "[Parallel(n_jobs=-1)]: Done  10 tasks      | elapsed:   12.2s\n",
      "[Parallel(n_jobs=-1)]: Done  64 tasks      | elapsed:  3.2min\n",
      "[Parallel(n_jobs=-1)]: Done  81 out of  81 | elapsed:  6.5min finished\n"
     ]
    },
    {
     "name": "stdout",
     "output_type": "stream",
     "text": [
      "Wall time: 6min 44s\n"
     ]
    },
    {
     "data": {
      "text/plain": [
       "GridSearchCV(cv=3,\n",
       "             estimator=MultiOutputRegressor(estimator=<catboost.core.CatBoostRegressor object at 0x000001EC8DC9E4C0>),\n",
       "             n_jobs=-1,\n",
       "             param_grid={'estimator__max_depth': [2, 4, 6],\n",
       "                         'estimator__n_estimators': [100, 300, 500],\n",
       "                         'estimator__subsample': [0.66, 0.8, 1]},\n",
       "             verbose=5)"
      ]
     },
     "execution_count": 38,
     "metadata": {},
     "output_type": "execute_result"
    }
   ],
   "source": [
    "%%time\n",
    "\n",
    "from sklearn.model_selection import GridSearchCV\n",
    "\n",
    "grid = {'estimator__n_estimators': [100,300,500],\n",
    "        'estimator__subsample': [0.66,0.8,1],\n",
    "        'estimator__max_depth': [2,4,6]}\n",
    "\n",
    "cat_random = GridSearchCV(estimator = multi_cat_regr, param_grid = grid, cv = 3, n_jobs = -1, verbose = 5)\n",
    "\n",
    "cat_random.fit(X_train_scaled,y_train)"
   ]
  },
  {
   "cell_type": "code",
   "execution_count": 39,
   "metadata": {},
   "outputs": [
    {
     "data": {
      "text/plain": [
       "{'estimator__max_depth': 6,\n",
       " 'estimator__n_estimators': 500,\n",
       " 'estimator__subsample': 0.8}"
      ]
     },
     "execution_count": 39,
     "metadata": {},
     "output_type": "execute_result"
    }
   ],
   "source": [
    "cat_random.best_params_"
   ]
  },
  {
   "cell_type": "code",
   "execution_count": 40,
   "metadata": {},
   "outputs": [],
   "source": [
    "y_pred = cat_random.best_estimator_.predict(X_test_scaled)"
   ]
  },
  {
   "cell_type": "code",
   "execution_count": 41,
   "metadata": {},
   "outputs": [
    {
     "data": {
      "text/html": [
       "<div>\n",
       "<style scoped>\n",
       "    .dataframe tbody tr th:only-of-type {\n",
       "        vertical-align: middle;\n",
       "    }\n",
       "\n",
       "    .dataframe tbody tr th {\n",
       "        vertical-align: top;\n",
       "    }\n",
       "\n",
       "    .dataframe thead th {\n",
       "        text-align: right;\n",
       "    }\n",
       "</style>\n",
       "<table border=\"1\" class=\"dataframe\">\n",
       "  <thead>\n",
       "    <tr style=\"text-align: right;\">\n",
       "      <th></th>\n",
       "      <th>error_type</th>\n",
       "      <th>Random Forest</th>\n",
       "      <th>XGBoost</th>\n",
       "      <th>CatBoost</th>\n",
       "      <th>LightGBM</th>\n",
       "      <th>Gradient Boosting</th>\n",
       "      <th>CatBoost CV</th>\n",
       "    </tr>\n",
       "  </thead>\n",
       "  <tbody>\n",
       "    <tr>\n",
       "      <th>0</th>\n",
       "      <td>MAE</td>\n",
       "      <td>23.447897</td>\n",
       "      <td>22.942573</td>\n",
       "      <td>22.281936</td>\n",
       "      <td>23.141568</td>\n",
       "      <td>23.160997</td>\n",
       "      <td>22.352194</td>\n",
       "    </tr>\n",
       "    <tr>\n",
       "      <th>1</th>\n",
       "      <td>RMSE</td>\n",
       "      <td>32.907878</td>\n",
       "      <td>33.362687</td>\n",
       "      <td>32.257198</td>\n",
       "      <td>33.547872</td>\n",
       "      <td>33.241104</td>\n",
       "      <td>32.293749</td>\n",
       "    </tr>\n",
       "    <tr>\n",
       "      <th>2</th>\n",
       "      <td>R2</td>\n",
       "      <td>0.243992</td>\n",
       "      <td>0.228572</td>\n",
       "      <td>0.286893</td>\n",
       "      <td>0.242824</td>\n",
       "      <td>0.249069</td>\n",
       "      <td>0.292038</td>\n",
       "    </tr>\n",
       "  </tbody>\n",
       "</table>\n",
       "</div>"
      ],
      "text/plain": [
       "  error_type  Random Forest    XGBoost   CatBoost   LightGBM  \\\n",
       "0        MAE      23.447897  22.942573  22.281936  23.141568   \n",
       "1       RMSE      32.907878  33.362687  32.257198  33.547872   \n",
       "2         R2       0.243992   0.228572   0.286893   0.242824   \n",
       "\n",
       "   Gradient Boosting  CatBoost CV  \n",
       "0          23.160997    22.352194  \n",
       "1          33.241104    32.293749  \n",
       "2           0.249069     0.292038  "
      ]
     },
     "execution_count": 41,
     "metadata": {},
     "output_type": "execute_result"
    }
   ],
   "source": [
    "measured_metrics[\"CatBoost CV\"] = dataframe_metrics(y_test, y_pred)\n",
    "measured_metrics"
   ]
  },
  {
   "cell_type": "markdown",
   "metadata": {},
   "source": [
    "В случае CatBoost метрики с настроенными гиперпараметрами почти не изменились"
   ]
  },
  {
   "cell_type": "markdown",
   "metadata": {},
   "source": [
    "### GradientBoosting"
   ]
  },
  {
   "cell_type": "code",
   "execution_count": 51,
   "metadata": {},
   "outputs": [
    {
     "name": "stdout",
     "output_type": "stream",
     "text": [
      "Fitting 3 folds for each of 75 candidates, totalling 225 fits\n"
     ]
    },
    {
     "name": "stderr",
     "output_type": "stream",
     "text": [
      "[Parallel(n_jobs=-1)]: Using backend LokyBackend with 4 concurrent workers.\n",
      "[Parallel(n_jobs=-1)]: Done  10 tasks      | elapsed:    6.5s\n",
      "[Parallel(n_jobs=-1)]: Done  64 tasks      | elapsed:  2.0min\n",
      "[Parallel(n_jobs=-1)]: Done 154 tasks      | elapsed:  9.0min\n",
      "[Parallel(n_jobs=-1)]: Done 225 out of 225 | elapsed: 18.3min finished\n"
     ]
    },
    {
     "name": "stdout",
     "output_type": "stream",
     "text": [
      "Wall time: 18min 39s\n"
     ]
    },
    {
     "data": {
      "text/plain": [
       "GridSearchCV(cv=3,\n",
       "             estimator=MultiOutputRegressor(estimator=GradientBoostingRegressor()),\n",
       "             n_jobs=-1,\n",
       "             param_grid={'estimator__max_depth': [2, 4, 6, 8, 10],\n",
       "                         'estimator__n_estimators': [100, 300, 500, 700, 900],\n",
       "                         'estimator__subsample': [0.66, 0.8, 1]},\n",
       "             verbose=5)"
      ]
     },
     "execution_count": 51,
     "metadata": {},
     "output_type": "execute_result"
    }
   ],
   "source": [
    "%%time\n",
    "\n",
    "grid = {'estimator__n_estimators': [100,300,500,700,900],\n",
    "        'estimator__subsample': [0.66,0.8,1],\n",
    "        'estimator__max_depth': [2,4,6,8,10]}\n",
    "\n",
    "gb_random = GridSearchCV(estimator = multi_gb_regr, param_grid = grid, cv = 3, n_jobs = -1, verbose = 5)\n",
    "\n",
    "gb_random.fit(X_train_scaled,y_train)"
   ]
  },
  {
   "cell_type": "code",
   "execution_count": 52,
   "metadata": {},
   "outputs": [
    {
     "data": {
      "text/plain": [
       "{'estimator__max_depth': 4,\n",
       " 'estimator__n_estimators': 900,\n",
       " 'estimator__subsample': 0.8}"
      ]
     },
     "execution_count": 52,
     "metadata": {},
     "output_type": "execute_result"
    }
   ],
   "source": [
    "gb_random.best_params_"
   ]
  },
  {
   "cell_type": "code",
   "execution_count": 53,
   "metadata": {},
   "outputs": [],
   "source": [
    "y_pred = gb_random.best_estimator_.predict(X_test_scaled)"
   ]
  },
  {
   "cell_type": "code",
   "execution_count": 54,
   "metadata": {},
   "outputs": [
    {
     "data": {
      "text/html": [
       "<div>\n",
       "<style scoped>\n",
       "    .dataframe tbody tr th:only-of-type {\n",
       "        vertical-align: middle;\n",
       "    }\n",
       "\n",
       "    .dataframe tbody tr th {\n",
       "        vertical-align: top;\n",
       "    }\n",
       "\n",
       "    .dataframe thead th {\n",
       "        text-align: right;\n",
       "    }\n",
       "</style>\n",
       "<table border=\"1\" class=\"dataframe\">\n",
       "  <thead>\n",
       "    <tr style=\"text-align: right;\">\n",
       "      <th></th>\n",
       "      <th>error_type</th>\n",
       "      <th>Random Forest</th>\n",
       "      <th>XGBoost</th>\n",
       "      <th>CatBoost</th>\n",
       "      <th>LightGBM</th>\n",
       "      <th>Gradient Boosting</th>\n",
       "      <th>CatBoost CV</th>\n",
       "      <th>Gradient Boosting CV</th>\n",
       "      <th>LightGBM CV</th>\n",
       "    </tr>\n",
       "  </thead>\n",
       "  <tbody>\n",
       "    <tr>\n",
       "      <th>0</th>\n",
       "      <td>MAE</td>\n",
       "      <td>23.447897</td>\n",
       "      <td>22.942573</td>\n",
       "      <td>22.281936</td>\n",
       "      <td>23.141568</td>\n",
       "      <td>23.160997</td>\n",
       "      <td>22.352194</td>\n",
       "      <td>23.246674</td>\n",
       "      <td>23.141568</td>\n",
       "    </tr>\n",
       "    <tr>\n",
       "      <th>1</th>\n",
       "      <td>RMSE</td>\n",
       "      <td>32.907878</td>\n",
       "      <td>33.362687</td>\n",
       "      <td>32.257198</td>\n",
       "      <td>33.547872</td>\n",
       "      <td>33.241104</td>\n",
       "      <td>32.293749</td>\n",
       "      <td>33.458532</td>\n",
       "      <td>33.547872</td>\n",
       "    </tr>\n",
       "    <tr>\n",
       "      <th>2</th>\n",
       "      <td>R2</td>\n",
       "      <td>0.243992</td>\n",
       "      <td>0.228572</td>\n",
       "      <td>0.286893</td>\n",
       "      <td>0.242824</td>\n",
       "      <td>0.249069</td>\n",
       "      <td>0.292038</td>\n",
       "      <td>0.230178</td>\n",
       "      <td>0.242824</td>\n",
       "    </tr>\n",
       "  </tbody>\n",
       "</table>\n",
       "</div>"
      ],
      "text/plain": [
       "  error_type  Random Forest    XGBoost   CatBoost   LightGBM  \\\n",
       "0        MAE      23.447897  22.942573  22.281936  23.141568   \n",
       "1       RMSE      32.907878  33.362687  32.257198  33.547872   \n",
       "2         R2       0.243992   0.228572   0.286893   0.242824   \n",
       "\n",
       "   Gradient Boosting  CatBoost CV  Gradient Boosting CV  LightGBM CV  \n",
       "0          23.160997    22.352194             23.246674    23.141568  \n",
       "1          33.241104    32.293749             33.458532    33.547872  \n",
       "2           0.249069     0.292038              0.230178     0.242824  "
      ]
     },
     "execution_count": 54,
     "metadata": {},
     "output_type": "execute_result"
    }
   ],
   "source": [
    "measured_metrics[\"Gradient Boosting CV\"] = dataframe_metrics(y_test, y_pred)\n",
    "measured_metrics"
   ]
  },
  {
   "cell_type": "markdown",
   "metadata": {},
   "source": [
    "В случае стандартного GradientBoosting метрики с настроенными гиперпараметрами почти не изменились"
   ]
  },
  {
   "cell_type": "markdown",
   "metadata": {},
   "source": [
    "### Выводы\n",
    "\n",
    "Лучше всех показал себя алгоритм CatBoost из коробки. Все другие модели не дали лучшего качества даже с настроенными гиперпараметрами. Сам CatBoost, к сожалению, не удалось должным образом настроить из-за слишком долгого времени выполнения."
   ]
  }
 ],
 "metadata": {
  "kernelspec": {
   "display_name": "Python 3",
   "language": "python",
   "name": "python3"
  },
  "language_info": {
   "codemirror_mode": {
    "name": "ipython",
    "version": 3
   },
   "file_extension": ".py",
   "mimetype": "text/x-python",
   "name": "python",
   "nbconvert_exporter": "python",
   "pygments_lexer": "ipython3",
   "version": "3.8.5"
  }
 },
 "nbformat": 4,
 "nbformat_minor": 4
}
