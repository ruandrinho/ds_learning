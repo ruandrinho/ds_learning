{
 "cells": [
  {
   "cell_type": "markdown",
   "metadata": {},
   "source": [
    "## NLP"
   ]
  },
  {
   "cell_type": "code",
   "execution_count": 1,
   "metadata": {},
   "outputs": [],
   "source": [
    "import pandas as pd\n",
    "import numpy as np\n",
    "import seaborn as sns\n",
    "import matplotlib\n",
    "import matplotlib.pyplot as plt\n",
    "\n",
    "%matplotlib inline"
   ]
  },
  {
   "cell_type": "markdown",
   "metadata": {},
   "source": [
    "**Считываем ранее сохранённые данные.**"
   ]
  },
  {
   "cell_type": "code",
   "execution_count": 2,
   "metadata": {},
   "outputs": [
    {
     "data": {
      "text/html": [
       "<div>\n",
       "<style scoped>\n",
       "    .dataframe tbody tr th:only-of-type {\n",
       "        vertical-align: middle;\n",
       "    }\n",
       "\n",
       "    .dataframe tbody tr th {\n",
       "        vertical-align: top;\n",
       "    }\n",
       "\n",
       "    .dataframe thead th {\n",
       "        text-align: right;\n",
       "    }\n",
       "</style>\n",
       "<table border=\"1\" class=\"dataframe\">\n",
       "  <thead>\n",
       "    <tr style=\"text-align: right;\">\n",
       "      <th></th>\n",
       "      <th>Unnamed: 0</th>\n",
       "      <th>content</th>\n",
       "      <th>comments</th>\n",
       "    </tr>\n",
       "  </thead>\n",
       "  <tbody>\n",
       "    <tr>\n",
       "      <th>0</th>\n",
       "      <td>0</td>\n",
       "      <td>30-й тур Ла Лиги открылся матчем между «Уэской...</td>\n",
       "      <td>1286</td>\n",
       "    </tr>\n",
       "    <tr>\n",
       "      <th>1</th>\n",
       "      <td>1</td>\n",
       "      <td>Полузащитник Джесси Лингард показывает результ...</td>\n",
       "      <td>72</td>\n",
       "    </tr>\n",
       "    <tr>\n",
       "      <th>2</th>\n",
       "      <td>2</td>\n",
       "      <td>В 25-м туре РПЛ «Зенит» играет на выезде с «Со...</td>\n",
       "      <td>74</td>\n",
       "    </tr>\n",
       "    <tr>\n",
       "      <th>3</th>\n",
       "      <td>3</td>\n",
       "      <td>Главный тренер «Краснодара» Виктор Гончаренко ...</td>\n",
       "      <td>42</td>\n",
       "    </tr>\n",
       "    <tr>\n",
       "      <th>4</th>\n",
       "      <td>4</td>\n",
       "      <td>В 25-м туре РПЛ «Ростов» проиграл «Рубину» (0:...</td>\n",
       "      <td>1664</td>\n",
       "    </tr>\n",
       "    <tr>\n",
       "      <th>5</th>\n",
       "      <td>5</td>\n",
       "      <td>31-й тур АПЛ открылся матчем между «Фулхэмом» ...</td>\n",
       "      <td>1171</td>\n",
       "    </tr>\n",
       "    <tr>\n",
       "      <th>6</th>\n",
       "      <td>6</td>\n",
       "      <td>В 30-м туре Серии А «Милан» победил «Парму» (3...</td>\n",
       "      <td>155</td>\n",
       "    </tr>\n",
       "    <tr>\n",
       "      <th>7</th>\n",
       "      <td>7</td>\n",
       "      <td>В 25-м туре РПЛ «Краснодар» потерпел поражение...</td>\n",
       "      <td>196</td>\n",
       "    </tr>\n",
       "    <tr>\n",
       "      <th>8</th>\n",
       "      <td>8</td>\n",
       "      <td>Стал известен характер травмы хавбека «Реала» ...</td>\n",
       "      <td>79</td>\n",
       "    </tr>\n",
       "    <tr>\n",
       "      <th>9</th>\n",
       "      <td>9</td>\n",
       "      <td>В 30-м туре Серии А «Интер» победил «Кальяри» ...</td>\n",
       "      <td>44</td>\n",
       "    </tr>\n",
       "  </tbody>\n",
       "</table>\n",
       "</div>"
      ],
      "text/plain": [
       "   Unnamed: 0                                            content  comments\n",
       "0           0  30-й тур Ла Лиги открылся матчем между «Уэской...      1286\n",
       "1           1  Полузащитник Джесси Лингард показывает результ...        72\n",
       "2           2  В 25-м туре РПЛ «Зенит» играет на выезде с «Со...        74\n",
       "3           3  Главный тренер «Краснодара» Виктор Гончаренко ...        42\n",
       "4           4  В 25-м туре РПЛ «Ростов» проиграл «Рубину» (0:...      1664\n",
       "5           5  31-й тур АПЛ открылся матчем между «Фулхэмом» ...      1171\n",
       "6           6  В 30-м туре Серии А «Милан» победил «Парму» (3...       155\n",
       "7           7  В 25-м туре РПЛ «Краснодар» потерпел поражение...       196\n",
       "8           8  Стал известен характер травмы хавбека «Реала» ...        79\n",
       "9           9  В 30-м туре Серии А «Интер» победил «Кальяри» ...        44"
      ]
     },
     "execution_count": 2,
     "metadata": {},
     "output_type": "execute_result"
    }
   ],
   "source": [
    "data = pd.read_csv('sports.csv')\n",
    "data.head(10)"
   ]
  },
  {
   "cell_type": "markdown",
   "metadata": {},
   "source": [
    "**Пример новости.**"
   ]
  },
  {
   "cell_type": "code",
   "execution_count": 3,
   "metadata": {},
   "outputs": [
    {
     "data": {
      "text/plain": [
       "'В 30-м туре Ла Лиги «Реал»\\xa0обыграл\\xa0«Барселону»\\xa0(2:1).\\nSports.ru провел\\xa0текстовую онлайн-трансляцию этого матча.\\nВ турнирной таблице «Мадрид» обошел каталонцев и опережает теперь на одно очко.\\nКоманда Зинедина Зидана догнала по очкам лидера Ла Лиги «Атлетико» (по 66), у которого имеется игра в запасе. В 30-м туре «Атлетико» 11 апреля встретится с «Бетисом».\\n«Барселона» с 65 очками занимает третью позицию.\\n\\n\\n\\n\\nРеал Мадрид – Барселона\\n\\n\\n2:1\\xa0(2:0, 0:1)\\n\\n\\n\\nДата проведения\\n\\n10 апреля, 22.00,\\xa0«Эстадио Альфредо Ди Стефано» \\n\\n\\nпревью матча\\nтекстовый онлайн\\nстатистика\\n\\n \\n\\nГолы: \\n\\n\\n1:0 –\\n13\\xa0Бензема, \\n\\n2:0 –\\n28\\xa0Кроос, \\n\\n2:1 –\\n60\\xa0Мингеса.\\n\\n\\n\\nРеал Мадрид –\\nКуртуа, Менди, Милитао, Начо, Васкес (Одриосола, 43), Модрич, Кроос (Иско, 72), Вальверде (Асенсио, 61), Каземиро, Винисиус Жуниор (Марсело, 72), Бензема (Мариано Диас, 72).\\t\\t\\t\\n\\n\\nБарселона –\\t\\t\\t\\nтер Стеген, Дест (Гризманн, 46), Мингеса, Араухо (Мориба, 72), Альба, Дембеле (Брэйтуэйт, 81), Бускетс (Серджи Роберто, 64), Педри (Тринкау, 81), де Йонг, Лангле, Месси.\\t\\t\\t\\n\\n\\nПредупреждения: \\n\\nПедри\\n(23), Араухо\\n(26), Начо\\n(69), Альба\\n(84), Каземиро\\n(89), Пике\\n(90).\\n\\n\\nУдаление: \\n\\nКаземиро\\n(90).\\n\\n\\nТаблица Ла Лиги\\nСтатистика Ла Лиги'"
      ]
     },
     "execution_count": 3,
     "metadata": {},
     "output_type": "execute_result"
    }
   ],
   "source": [
    "data['content'][38]"
   ]
  },
  {
   "cell_type": "markdown",
   "metadata": {},
   "source": [
    "**Удалим лишний столбец.**"
   ]
  },
  {
   "cell_type": "code",
   "execution_count": 4,
   "metadata": {},
   "outputs": [],
   "source": [
    "data.rename(columns={'Unnamed: 0':'id'}, inplace=True)"
   ]
  },
  {
   "cell_type": "code",
   "execution_count": 5,
   "metadata": {},
   "outputs": [
    {
     "name": "stdout",
     "output_type": "stream",
     "text": [
      "<class 'pandas.core.frame.DataFrame'>\n",
      "RangeIndex: 2014 entries, 0 to 2013\n",
      "Data columns (total 3 columns):\n",
      " #   Column    Non-Null Count  Dtype \n",
      "---  ------    --------------  ----- \n",
      " 0   id        2014 non-null   int64 \n",
      " 1   content   2014 non-null   object\n",
      " 2   comments  2014 non-null   int64 \n",
      "dtypes: int64(2), object(1)\n",
      "memory usage: 47.3+ KB\n"
     ]
    }
   ],
   "source": [
    "data.info()"
   ]
  },
  {
   "cell_type": "markdown",
   "metadata": {},
   "source": [
    "**Проведём небольшую очистку.** Избавимся от дубликатов, а также от специфических новостей с большим числом комментов. Это «долгоиграющие» новости — например, идёт очередной тур в лиге, и новость обновляется в течение нескольких дней по мере прохождения матчей. Такие новости собирают гораздо больше комментов, чем рядовые, но ценности не несут."
   ]
  },
  {
   "cell_type": "code",
   "execution_count": 6,
   "metadata": {},
   "outputs": [
    {
     "data": {
      "text/html": [
       "<div>\n",
       "<style scoped>\n",
       "    .dataframe tbody tr th:only-of-type {\n",
       "        vertical-align: middle;\n",
       "    }\n",
       "\n",
       "    .dataframe tbody tr th {\n",
       "        vertical-align: top;\n",
       "    }\n",
       "\n",
       "    .dataframe thead th {\n",
       "        text-align: right;\n",
       "    }\n",
       "</style>\n",
       "<table border=\"1\" class=\"dataframe\">\n",
       "  <thead>\n",
       "    <tr style=\"text-align: right;\">\n",
       "      <th></th>\n",
       "      <th>id</th>\n",
       "      <th>content</th>\n",
       "      <th>comments</th>\n",
       "    </tr>\n",
       "  </thead>\n",
       "  <tbody>\n",
       "    <tr>\n",
       "      <th>0</th>\n",
       "      <td>1</td>\n",
       "      <td>Полузащитник Джесси Лингард показывает результ...</td>\n",
       "      <td>72</td>\n",
       "    </tr>\n",
       "    <tr>\n",
       "      <th>1</th>\n",
       "      <td>2</td>\n",
       "      <td>В 25-м туре РПЛ «Зенит» играет на выезде с «Со...</td>\n",
       "      <td>74</td>\n",
       "    </tr>\n",
       "    <tr>\n",
       "      <th>2</th>\n",
       "      <td>3</td>\n",
       "      <td>Главный тренер «Краснодара» Виктор Гончаренко ...</td>\n",
       "      <td>42</td>\n",
       "    </tr>\n",
       "    <tr>\n",
       "      <th>3</th>\n",
       "      <td>6</td>\n",
       "      <td>В 30-м туре Серии А «Милан» победил «Парму» (3...</td>\n",
       "      <td>155</td>\n",
       "    </tr>\n",
       "    <tr>\n",
       "      <th>4</th>\n",
       "      <td>7</td>\n",
       "      <td>В 25-м туре РПЛ «Краснодар» потерпел поражение...</td>\n",
       "      <td>196</td>\n",
       "    </tr>\n",
       "    <tr>\n",
       "      <th>...</th>\n",
       "      <td>...</td>\n",
       "      <td>...</td>\n",
       "      <td>...</td>\n",
       "    </tr>\n",
       "    <tr>\n",
       "      <th>1945</th>\n",
       "      <td>2006</td>\n",
       "      <td>Центральный защитник «Вильярреала» Пау Торрес ...</td>\n",
       "      <td>35</td>\n",
       "    </tr>\n",
       "    <tr>\n",
       "      <th>1946</th>\n",
       "      <td>2007</td>\n",
       "      <td>Форвард «Аталанты» Луис Муриэль забил победный...</td>\n",
       "      <td>35</td>\n",
       "    </tr>\n",
       "    <tr>\n",
       "      <th>1947</th>\n",
       "      <td>2008</td>\n",
       "      <td>Бывший нападающий «Сочи» и «Тамбова» Александр...</td>\n",
       "      <td>290</td>\n",
       "    </tr>\n",
       "    <tr>\n",
       "      <th>1948</th>\n",
       "      <td>2009</td>\n",
       "      <td>«Боруссия» Менхенгладбах уступила «Аугсбургу» ...</td>\n",
       "      <td>70</td>\n",
       "    </tr>\n",
       "    <tr>\n",
       "      <th>1949</th>\n",
       "      <td>2010</td>\n",
       "      <td>Сара Карбонеро, жена бывшего вратаря «Реала» И...</td>\n",
       "      <td>86</td>\n",
       "    </tr>\n",
       "  </tbody>\n",
       "</table>\n",
       "<p>1950 rows × 3 columns</p>\n",
       "</div>"
      ],
      "text/plain": [
       "        id                                            content  comments\n",
       "0        1  Полузащитник Джесси Лингард показывает результ...        72\n",
       "1        2  В 25-м туре РПЛ «Зенит» играет на выезде с «Со...        74\n",
       "2        3  Главный тренер «Краснодара» Виктор Гончаренко ...        42\n",
       "3        6  В 30-м туре Серии А «Милан» победил «Парму» (3...       155\n",
       "4        7  В 25-м туре РПЛ «Краснодар» потерпел поражение...       196\n",
       "...    ...                                                ...       ...\n",
       "1945  2006  Центральный защитник «Вильярреала» Пау Торрес ...        35\n",
       "1946  2007  Форвард «Аталанты» Луис Муриэль забил победный...        35\n",
       "1947  2008  Бывший нападающий «Сочи» и «Тамбова» Александр...       290\n",
       "1948  2009  «Боруссия» Менхенгладбах уступила «Аугсбургу» ...        70\n",
       "1949  2010  Сара Карбонеро, жена бывшего вратаря «Реала» И...        86\n",
       "\n",
       "[1950 rows x 3 columns]"
      ]
     },
     "execution_count": 6,
     "metadata": {},
     "output_type": "execute_result"
    }
   ],
   "source": [
    "data = data[(data['id'] > 5) | (data['comments'] < 1000)]\n",
    "data.drop_duplicates(subset='content', inplace=True)\n",
    "data.reset_index(drop=True, inplace=True)\n",
    "data"
   ]
  },
  {
   "cell_type": "markdown",
   "metadata": {},
   "source": [
    "**Сохраним столбцы для будущего использования.**"
   ]
  },
  {
   "cell_type": "code",
   "execution_count": 7,
   "metadata": {},
   "outputs": [],
   "source": [
    "content = data['content']\n",
    "comments = data['comments']"
   ]
  },
  {
   "cell_type": "markdown",
   "metadata": {},
   "source": [
    "**Подключаем библиотеки.**"
   ]
  },
  {
   "cell_type": "code",
   "execution_count": 8,
   "metadata": {},
   "outputs": [],
   "source": [
    "from natasha import MorphVocab, Doc, Segmenter, NewsEmbedding, NewsMorphTagger\n",
    "morph_vocab = MorphVocab()\n",
    "segmenter = Segmenter()\n",
    "emb = NewsEmbedding()\n",
    "morph_tagger = NewsMorphTagger(emb)"
   ]
  },
  {
   "cell_type": "code",
   "execution_count": 9,
   "metadata": {},
   "outputs": [],
   "source": [
    "from nltk.corpus import stopwords"
   ]
  },
  {
   "cell_type": "markdown",
   "metadata": {},
   "source": [
    "**Функция для лемматиации с использованием библиотеки natasha.** Здесь же очищаем от символов пунктуации, убираем числа (в спортивных новостях это, как правило, обозначение голов, минут), убираем стоп-слова."
   ]
  },
  {
   "cell_type": "code",
   "execution_count": 10,
   "metadata": {},
   "outputs": [],
   "source": [
    "def lemmatize(doc):\n",
    "#     lemmas = mystem.lemmatize(doc)\n",
    "#     return ''.join(lemmas)\n",
    "    lemmas = []\n",
    "    doc1 = Doc(doc)\n",
    "    doc1.segment(segmenter)\n",
    "    doc1.tag_morph(morph_tagger)\n",
    "    for token in doc1.tokens:\n",
    "        if token.text in '!\"#$%&\\'()*+,-./:;<=>?@[\\\\]^_`{|}~«»—–':\n",
    "            continue\n",
    "        if token.text.isdigit():\n",
    "            continue\n",
    "        if token.text in stopwords.words('russian'):\n",
    "            continue\n",
    "        token.lemmatize(morph_vocab)\n",
    "        lemmas.append(token.lemma)\n",
    "    return ' '.join(lemmas)"
   ]
  },
  {
   "cell_type": "code",
   "execution_count": 11,
   "metadata": {},
   "outputs": [],
   "source": [
    "content = content.apply(lemmatize)"
   ]
  },
  {
   "cell_type": "code",
   "execution_count": 12,
   "metadata": {},
   "outputs": [],
   "source": [
    "content.to_csv('sports_lemmatized.csv')"
   ]
  },
  {
   "cell_type": "markdown",
   "metadata": {},
   "source": [
    "**Создадим новый датафрейм из лемматизированных документов и числа комментов.**\n",
    "\n",
    "Для обучения модели у нас получилось 1950 текстов."
   ]
  },
  {
   "cell_type": "code",
   "execution_count": 13,
   "metadata": {},
   "outputs": [
    {
     "data": {
      "text/html": [
       "<div>\n",
       "<style scoped>\n",
       "    .dataframe tbody tr th:only-of-type {\n",
       "        vertical-align: middle;\n",
       "    }\n",
       "\n",
       "    .dataframe tbody tr th {\n",
       "        vertical-align: top;\n",
       "    }\n",
       "\n",
       "    .dataframe thead th {\n",
       "        text-align: right;\n",
       "    }\n",
       "</style>\n",
       "<table border=\"1\" class=\"dataframe\">\n",
       "  <thead>\n",
       "    <tr style=\"text-align: right;\">\n",
       "      <th></th>\n",
       "      <th>content</th>\n",
       "      <th>comments</th>\n",
       "    </tr>\n",
       "  </thead>\n",
       "  <tbody>\n",
       "    <tr>\n",
       "      <th>0</th>\n",
       "      <td>полузащитник джесси лингард показывать результ...</td>\n",
       "      <td>72</td>\n",
       "    </tr>\n",
       "    <tr>\n",
       "      <th>1</th>\n",
       "      <td>в 25-м тур рпл зенит играть выезд сочи sports ...</td>\n",
       "      <td>74</td>\n",
       "    </tr>\n",
       "    <tr>\n",
       "      <th>2</th>\n",
       "      <td>главный тренер краснодар виктор гончаренко про...</td>\n",
       "      <td>42</td>\n",
       "    </tr>\n",
       "    <tr>\n",
       "      <th>3</th>\n",
       "      <td>в 30-й тур серия а милан победить парма в воск...</td>\n",
       "      <td>155</td>\n",
       "    </tr>\n",
       "    <tr>\n",
       "      <th>4</th>\n",
       "      <td>в 25-м тур рпл краснодар потерпеть поражение а...</td>\n",
       "      <td>196</td>\n",
       "    </tr>\n",
       "    <tr>\n",
       "      <th>...</th>\n",
       "      <td>...</td>\n",
       "      <td>...</td>\n",
       "    </tr>\n",
       "    <tr>\n",
       "      <th>1945</th>\n",
       "      <td>центральный защитник вильярреал пау торрес око...</td>\n",
       "      <td>35</td>\n",
       "    </tr>\n",
       "    <tr>\n",
       "      <th>1946</th>\n",
       "      <td>форвард аталант луис муриэль забить победный г...</td>\n",
       "      <td>35</td>\n",
       "    </tr>\n",
       "    <tr>\n",
       "      <th>1947</th>\n",
       "      <td>бывший нападающий сочи тамбов александр карапе...</td>\n",
       "      <td>290</td>\n",
       "    </tr>\n",
       "    <tr>\n",
       "      <th>1948</th>\n",
       "      <td>боруссия менхенгладб уступить аугсбург 25-м ту...</td>\n",
       "      <td>70</td>\n",
       "    </tr>\n",
       "    <tr>\n",
       "      <th>1949</th>\n",
       "      <td>сара карбонеро жена бывший вратарь реал икер к...</td>\n",
       "      <td>86</td>\n",
       "    </tr>\n",
       "  </tbody>\n",
       "</table>\n",
       "<p>1950 rows × 2 columns</p>\n",
       "</div>"
      ],
      "text/plain": [
       "                                                content  comments\n",
       "0     полузащитник джесси лингард показывать результ...        72\n",
       "1     в 25-м тур рпл зенит играть выезд сочи sports ...        74\n",
       "2     главный тренер краснодар виктор гончаренко про...        42\n",
       "3     в 30-й тур серия а милан победить парма в воск...       155\n",
       "4     в 25-м тур рпл краснодар потерпеть поражение а...       196\n",
       "...                                                 ...       ...\n",
       "1945  центральный защитник вильярреал пау торрес око...        35\n",
       "1946  форвард аталант луис муриэль забить победный г...        35\n",
       "1947  бывший нападающий сочи тамбов александр карапе...       290\n",
       "1948  боруссия менхенгладб уступить аугсбург 25-м ту...        70\n",
       "1949  сара карбонеро жена бывший вратарь реал икер к...        86\n",
       "\n",
       "[1950 rows x 2 columns]"
      ]
     },
     "execution_count": 13,
     "metadata": {},
     "output_type": "execute_result"
    }
   ],
   "source": [
    "data1 = pd.DataFrame({'content': content, 'comments': comments})\n",
    "data1"
   ]
  },
  {
   "cell_type": "markdown",
   "metadata": {},
   "source": [
    "**Train-test split.**"
   ]
  },
  {
   "cell_type": "code",
   "execution_count": 14,
   "metadata": {},
   "outputs": [],
   "source": [
    "from sklearn.model_selection import train_test_split\n",
    "X_train, X_test, y_train, y_test = train_test_split(\n",
    "    data1.drop(['comments'], axis=1), data1['comments'], test_size=0.25, random_state=100\n",
    ")"
   ]
  },
  {
   "cell_type": "markdown",
   "metadata": {},
   "source": [
    "**TF-IDF векторизация.** Используем отдельные слова и биграммы. Параметры max_df и min_df подобраны экспериментально для обеспечения наилучших показателей качества."
   ]
  },
  {
   "cell_type": "code",
   "execution_count": 56,
   "metadata": {},
   "outputs": [],
   "source": [
    "from sklearn.feature_extraction.text import TfidfVectorizer\n",
    "vectorizer = TfidfVectorizer(norm=None, ngram_range=(1,2), max_df=0.99, min_df=0.001)"
   ]
  },
  {
   "cell_type": "code",
   "execution_count": 57,
   "metadata": {},
   "outputs": [],
   "source": [
    "X_train_vect = pd.DataFrame(\n",
    "    vectorizer.fit_transform(X_train['content']).todense(), \n",
    "    columns=vectorizer.get_feature_names()\n",
    ")"
   ]
  },
  {
   "cell_type": "code",
   "execution_count": 58,
   "metadata": {},
   "outputs": [
    {
     "data": {
      "text/plain": [
       "(1462, 26055)"
      ]
     },
     "execution_count": 58,
     "metadata": {},
     "output_type": "execute_result"
    }
   ],
   "source": [
    "X_train_vect.shape"
   ]
  },
  {
   "cell_type": "markdown",
   "metadata": {},
   "source": [
    "После векторизации на тренировочном датасете получилось 26055 признаков. Для тестового датасета используем те же признаки."
   ]
  },
  {
   "cell_type": "code",
   "execution_count": 59,
   "metadata": {},
   "outputs": [],
   "source": [
    "X_test_vect = pd.DataFrame(\n",
    "    vectorizer.transform(X_test['content']).todense(), \n",
    "    columns=vectorizer.get_feature_names()\n",
    ")"
   ]
  },
  {
   "cell_type": "code",
   "execution_count": 60,
   "metadata": {},
   "outputs": [
    {
     "data": {
      "text/plain": [
       "(488, 26055)"
      ]
     },
     "execution_count": 60,
     "metadata": {},
     "output_type": "execute_result"
    }
   ],
   "source": [
    "X_test_vect.shape"
   ]
  },
  {
   "cell_type": "markdown",
   "metadata": {},
   "source": [
    "**Создадим заготовку для сравнения метрик по разным моделям.**"
   ]
  },
  {
   "cell_type": "code",
   "execution_count": 61,
   "metadata": {},
   "outputs": [
    {
     "data": {
      "text/html": [
       "<div>\n",
       "<style scoped>\n",
       "    .dataframe tbody tr th:only-of-type {\n",
       "        vertical-align: middle;\n",
       "    }\n",
       "\n",
       "    .dataframe tbody tr th {\n",
       "        vertical-align: top;\n",
       "    }\n",
       "\n",
       "    .dataframe thead th {\n",
       "        text-align: right;\n",
       "    }\n",
       "</style>\n",
       "<table border=\"1\" class=\"dataframe\">\n",
       "  <thead>\n",
       "    <tr style=\"text-align: right;\">\n",
       "      <th></th>\n",
       "    </tr>\n",
       "    <tr>\n",
       "      <th>error_type</th>\n",
       "    </tr>\n",
       "  </thead>\n",
       "  <tbody>\n",
       "    <tr>\n",
       "      <th>MAE</th>\n",
       "    </tr>\n",
       "    <tr>\n",
       "      <th>RMSE</th>\n",
       "    </tr>\n",
       "    <tr>\n",
       "      <th>R2</th>\n",
       "    </tr>\n",
       "  </tbody>\n",
       "</table>\n",
       "</div>"
      ],
      "text/plain": [
       "Empty DataFrame\n",
       "Columns: []\n",
       "Index: [MAE, RMSE, R2]"
      ]
     },
     "execution_count": 61,
     "metadata": {},
     "output_type": "execute_result"
    }
   ],
   "source": [
    "from sklearn import metrics\n",
    "\n",
    "def dataframe_metrics(y_test,y_pred):\n",
    "    stats = [\n",
    "       metrics.mean_absolute_error(y_test, y_pred),\n",
    "       np.sqrt(metrics.mean_squared_error(y_test, y_pred)),\n",
    "       metrics.r2_score(y_test, y_pred)\n",
    "    ]\n",
    "    return stats\n",
    "\n",
    "measured_metrics = pd.DataFrame({\"error_type\":[\"MAE\", \"RMSE\", \"R2\"]})\n",
    "measured_metrics.set_index(\"error_type\")"
   ]
  },
  {
   "cell_type": "markdown",
   "metadata": {},
   "source": [
    "**Baseline: медианное число комментов.**"
   ]
  },
  {
   "cell_type": "code",
   "execution_count": 62,
   "metadata": {},
   "outputs": [],
   "source": [
    "median_train = y_train.median()\n",
    "y_test_baseline = np.array([median_train]*len(y_test))"
   ]
  },
  {
   "cell_type": "code",
   "execution_count": 63,
   "metadata": {},
   "outputs": [
    {
     "data": {
      "text/html": [
       "<div>\n",
       "<style scoped>\n",
       "    .dataframe tbody tr th:only-of-type {\n",
       "        vertical-align: middle;\n",
       "    }\n",
       "\n",
       "    .dataframe tbody tr th {\n",
       "        vertical-align: top;\n",
       "    }\n",
       "\n",
       "    .dataframe thead th {\n",
       "        text-align: right;\n",
       "    }\n",
       "</style>\n",
       "<table border=\"1\" class=\"dataframe\">\n",
       "  <thead>\n",
       "    <tr style=\"text-align: right;\">\n",
       "      <th></th>\n",
       "      <th>error_type</th>\n",
       "      <th>baseline</th>\n",
       "    </tr>\n",
       "  </thead>\n",
       "  <tbody>\n",
       "    <tr>\n",
       "      <th>0</th>\n",
       "      <td>MAE</td>\n",
       "      <td>68.637295</td>\n",
       "    </tr>\n",
       "    <tr>\n",
       "      <th>1</th>\n",
       "      <td>RMSE</td>\n",
       "      <td>127.353484</td>\n",
       "    </tr>\n",
       "    <tr>\n",
       "      <th>2</th>\n",
       "      <td>R2</td>\n",
       "      <td>-0.106683</td>\n",
       "    </tr>\n",
       "  </tbody>\n",
       "</table>\n",
       "</div>"
      ],
      "text/plain": [
       "  error_type    baseline\n",
       "0        MAE   68.637295\n",
       "1       RMSE  127.353484\n",
       "2         R2   -0.106683"
      ]
     },
     "execution_count": 63,
     "metadata": {},
     "output_type": "execute_result"
    }
   ],
   "source": [
    "measured_metrics[\"baseline\"] = dataframe_metrics(y_test, y_test_baseline)\n",
    "measured_metrics"
   ]
  },
  {
   "cell_type": "markdown",
   "metadata": {},
   "source": [
    "### Линейная регрессия"
   ]
  },
  {
   "cell_type": "code",
   "execution_count": 64,
   "metadata": {},
   "outputs": [],
   "source": [
    "from sklearn.linear_model import LinearRegression, RidgeCV, LassoCV, ElasticNetCV"
   ]
  },
  {
   "cell_type": "code",
   "execution_count": 65,
   "metadata": {},
   "outputs": [
    {
     "data": {
      "text/plain": [
       "LinearRegression()"
      ]
     },
     "execution_count": 65,
     "metadata": {},
     "output_type": "execute_result"
    }
   ],
   "source": [
    "lin_reg = LinearRegression()\n",
    "\n",
    "lin_reg.fit(X_train_vect, y_train)"
   ]
  },
  {
   "cell_type": "code",
   "execution_count": 66,
   "metadata": {},
   "outputs": [
    {
     "data": {
      "text/html": [
       "<div>\n",
       "<style scoped>\n",
       "    .dataframe tbody tr th:only-of-type {\n",
       "        vertical-align: middle;\n",
       "    }\n",
       "\n",
       "    .dataframe tbody tr th {\n",
       "        vertical-align: top;\n",
       "    }\n",
       "\n",
       "    .dataframe thead th {\n",
       "        text-align: right;\n",
       "    }\n",
       "</style>\n",
       "<table border=\"1\" class=\"dataframe\">\n",
       "  <thead>\n",
       "    <tr style=\"text-align: right;\">\n",
       "      <th></th>\n",
       "      <th>error_type</th>\n",
       "      <th>baseline</th>\n",
       "      <th>lin_reg</th>\n",
       "    </tr>\n",
       "  </thead>\n",
       "  <tbody>\n",
       "    <tr>\n",
       "      <th>0</th>\n",
       "      <td>MAE</td>\n",
       "      <td>68.637295</td>\n",
       "      <td>73.624338</td>\n",
       "    </tr>\n",
       "    <tr>\n",
       "      <th>1</th>\n",
       "      <td>RMSE</td>\n",
       "      <td>127.353484</td>\n",
       "      <td>113.573407</td>\n",
       "    </tr>\n",
       "    <tr>\n",
       "      <th>2</th>\n",
       "      <td>R2</td>\n",
       "      <td>-0.106683</td>\n",
       "      <td>0.119853</td>\n",
       "    </tr>\n",
       "  </tbody>\n",
       "</table>\n",
       "</div>"
      ],
      "text/plain": [
       "  error_type    baseline     lin_reg\n",
       "0        MAE   68.637295   73.624338\n",
       "1       RMSE  127.353484  113.573407\n",
       "2         R2   -0.106683    0.119853"
      ]
     },
     "execution_count": 66,
     "metadata": {},
     "output_type": "execute_result"
    }
   ],
   "source": [
    "measured_metrics[\"lin_reg\"] = dataframe_metrics(y_test, lin_reg.predict(X_test_vect))\n",
    "measured_metrics"
   ]
  },
  {
   "cell_type": "markdown",
   "metadata": {},
   "source": [
    "MAE чуть хуже, чем в baseline, RMSE и R2 чуть лучше.\n",
    "\n",
    "Посмотрим на важность признаков."
   ]
  },
  {
   "cell_type": "code",
   "execution_count": 67,
   "metadata": {},
   "outputs": [
    {
     "data": {
      "image/png": "[encoded data removed]",
      "text/plain": [
       "<Figure size 1440x432 with 1 Axes>"
      ]
     },
     "metadata": {
      "needs_background": "light"
     },
     "output_type": "display_data"
    }
   ],
   "source": [
    "featureImportance = pd.DataFrame({'feature': X_train_vect.columns, \n",
    "                                  'importance': lin_reg.coef_})\n",
    "\n",
    "featureImportance.set_index('feature', inplace=True)\n",
    "featureImportance.sort_values(['importance'], ascending=False, inplace=True)\n",
    "featureImportance['importance'][:50].plot.bar(figsize=(20, 6));"
   ]
  },
  {
   "cell_type": "markdown",
   "metadata": {},
   "source": [
    "На вершине *чемпион финал* — скорее всего, это биграмма от «Лига чемпионов. Финал».\n",
    "\n",
    "*матч текстовый* — наверное, из новостей, в которых объявляется о каком-то матче и текстовой трансляции. Близко к этому биграмма *арена превью*.\n",
    "\n",
    "В топе видны биграммы конкретных матчей с высоким интересом: *порту челси*, *бавария псж*, *ливерпуль порту*, *сити боруссия*.\n",
    "\n",
    "В топе много фамилий российских футболистов-сборников: *жемалетдин*, *кудряшов*, *мевля*, *россия шунин*, *семенов*.\n",
    "\n",
    "Также в топе биграммы из новостей, сообщающих результаты или превью матчей: *пройти первый*, *примечание время*, *время начало*, *следующий игра*."
   ]
  },
  {
   "cell_type": "markdown",
   "metadata": {},
   "source": [
    "### RidgeCV"
   ]
  },
  {
   "cell_type": "code",
   "execution_count": 68,
   "metadata": {},
   "outputs": [
    {
     "data": {
      "text/plain": [
       "RidgeCV(alphas=array([ 0.1,  1. , 10. ]))"
      ]
     },
     "execution_count": 68,
     "metadata": {},
     "output_type": "execute_result"
    }
   ],
   "source": [
    "ridge_cv = RidgeCV()\n",
    "\n",
    "ridge_cv.fit(X_train_vect, y_train)"
   ]
  },
  {
   "cell_type": "code",
   "execution_count": 69,
   "metadata": {},
   "outputs": [
    {
     "data": {
      "text/html": [
       "<div>\n",
       "<style scoped>\n",
       "    .dataframe tbody tr th:only-of-type {\n",
       "        vertical-align: middle;\n",
       "    }\n",
       "\n",
       "    .dataframe tbody tr th {\n",
       "        vertical-align: top;\n",
       "    }\n",
       "\n",
       "    .dataframe thead th {\n",
       "        text-align: right;\n",
       "    }\n",
       "</style>\n",
       "<table border=\"1\" class=\"dataframe\">\n",
       "  <thead>\n",
       "    <tr style=\"text-align: right;\">\n",
       "      <th></th>\n",
       "      <th>error_type</th>\n",
       "      <th>baseline</th>\n",
       "      <th>lin_reg</th>\n",
       "      <th>ridge_cv</th>\n",
       "    </tr>\n",
       "  </thead>\n",
       "  <tbody>\n",
       "    <tr>\n",
       "      <th>0</th>\n",
       "      <td>MAE</td>\n",
       "      <td>68.637295</td>\n",
       "      <td>73.624338</td>\n",
       "      <td>73.509228</td>\n",
       "    </tr>\n",
       "    <tr>\n",
       "      <th>1</th>\n",
       "      <td>RMSE</td>\n",
       "      <td>127.353484</td>\n",
       "      <td>113.573407</td>\n",
       "      <td>113.439553</td>\n",
       "    </tr>\n",
       "    <tr>\n",
       "      <th>2</th>\n",
       "      <td>R2</td>\n",
       "      <td>-0.106683</td>\n",
       "      <td>0.119853</td>\n",
       "      <td>0.121927</td>\n",
       "    </tr>\n",
       "  </tbody>\n",
       "</table>\n",
       "</div>"
      ],
      "text/plain": [
       "  error_type    baseline     lin_reg    ridge_cv\n",
       "0        MAE   68.637295   73.624338   73.509228\n",
       "1       RMSE  127.353484  113.573407  113.439553\n",
       "2         R2   -0.106683    0.119853    0.121927"
      ]
     },
     "execution_count": 69,
     "metadata": {},
     "output_type": "execute_result"
    }
   ],
   "source": [
    "measured_metrics[\"ridge_cv\"] = dataframe_metrics(y_test, ridge_cv.predict(X_test_vect))\n",
    "measured_metrics"
   ]
  },
  {
   "cell_type": "markdown",
   "metadata": {},
   "source": [
    "По метрикам совсем незначительно улучшение по сравнению с обычной линейной регрессией."
   ]
  },
  {
   "cell_type": "code",
   "execution_count": 71,
   "metadata": {},
   "outputs": [
    {
     "data": {
      "image/png": "[encoded data removed]",
      "text/plain": [
       "<Figure size 1440x432 with 1 Axes>"
      ]
     },
     "metadata": {
      "needs_background": "light"
     },
     "output_type": "display_data"
    }
   ],
   "source": [
    "featureImportance = pd.DataFrame({'feature': X_train_vect.columns, \n",
    "                                  'importance': ridge_cv.coef_})\n",
    "\n",
    "featureImportance.set_index('feature', inplace=True)\n",
    "featureImportance.sort_values(['importance'], ascending=False, inplace=True)\n",
    "featureImportance['importance'][:50].plot.bar(figsize=(20, 6));"
   ]
  },
  {
   "cell_type": "markdown",
   "metadata": {},
   "source": [
    "По важности признаков картина аналогична линейной регрессии."
   ]
  },
  {
   "cell_type": "markdown",
   "metadata": {},
   "source": [
    "### LassoCV"
   ]
  },
  {
   "cell_type": "code",
   "execution_count": 70,
   "metadata": {},
   "outputs": [
    {
     "name": "stderr",
     "output_type": "stream",
     "text": [
      "C:\\Users\\andsi\\anaconda3\\lib\\site-packages\\sklearn\\linear_model\\_coordinate_descent.py:529: ConvergenceWarning: Objective did not converge. You might want to increase the number of iterations. Duality gap: 13880.570455162553, tolerance: 6208.115024465355\n",
      "  model = cd_fast.enet_coordinate_descent(\n",
      "C:\\Users\\andsi\\anaconda3\\lib\\site-packages\\sklearn\\linear_model\\_coordinate_descent.py:529: ConvergenceWarning: Objective did not converge. You might want to increase the number of iterations. Duality gap: 26846.05337070569, tolerance: 6208.115024465355\n",
      "  model = cd_fast.enet_coordinate_descent(\n",
      "C:\\Users\\andsi\\anaconda3\\lib\\site-packages\\sklearn\\linear_model\\_coordinate_descent.py:529: ConvergenceWarning: Objective did not converge. You might want to increase the number of iterations. Duality gap: 26394.99756036885, tolerance: 6208.115024465355\n",
      "  model = cd_fast.enet_coordinate_descent(\n",
      "C:\\Users\\andsi\\anaconda3\\lib\\site-packages\\sklearn\\linear_model\\_coordinate_descent.py:529: ConvergenceWarning: Objective did not converge. You might want to increase the number of iterations. Duality gap: 23540.37831460545, tolerance: 6208.115024465355\n",
      "  model = cd_fast.enet_coordinate_descent(\n",
      "C:\\Users\\andsi\\anaconda3\\lib\\site-packages\\sklearn\\linear_model\\_coordinate_descent.py:529: ConvergenceWarning: Objective did not converge. You might want to increase the number of iterations. Duality gap: 18261.642695236835, tolerance: 6208.115024465355\n",
      "  model = cd_fast.enet_coordinate_descent(\n",
      "C:\\Users\\andsi\\anaconda3\\lib\\site-packages\\sklearn\\linear_model\\_coordinate_descent.py:529: ConvergenceWarning: Objective did not converge. You might want to increase the number of iterations. Duality gap: 14235.210605650675, tolerance: 6208.115024465355\n",
      "  model = cd_fast.enet_coordinate_descent(\n",
      "C:\\Users\\andsi\\anaconda3\\lib\\site-packages\\sklearn\\linear_model\\_coordinate_descent.py:529: ConvergenceWarning: Objective did not converge. You might want to increase the number of iterations. Duality gap: 9395.12476922758, tolerance: 8194.682721984602\n",
      "  model = cd_fast.enet_coordinate_descent(\n",
      "C:\\Users\\andsi\\anaconda3\\lib\\site-packages\\sklearn\\linear_model\\_coordinate_descent.py:529: ConvergenceWarning: Objective did not converge. You might want to increase the number of iterations. Duality gap: 11564.179492466617, tolerance: 8194.682721984602\n",
      "  model = cd_fast.enet_coordinate_descent(\n",
      "C:\\Users\\andsi\\anaconda3\\lib\\site-packages\\sklearn\\linear_model\\_coordinate_descent.py:529: ConvergenceWarning: Objective did not converge. You might want to increase the number of iterations. Duality gap: 10669.091863196576, tolerance: 8194.682721984602\n",
      "  model = cd_fast.enet_coordinate_descent(\n",
      "C:\\Users\\andsi\\anaconda3\\lib\\site-packages\\sklearn\\linear_model\\_coordinate_descent.py:529: ConvergenceWarning: Objective did not converge. You might want to increase the number of iterations. Duality gap: 12173.59933924023, tolerance: 8194.682721984602\n",
      "  model = cd_fast.enet_coordinate_descent(\n",
      "C:\\Users\\andsi\\anaconda3\\lib\\site-packages\\sklearn\\linear_model\\_coordinate_descent.py:529: ConvergenceWarning: Objective did not converge. You might want to increase the number of iterations. Duality gap: 10511.336696928134, tolerance: 8194.682721984602\n",
      "  model = cd_fast.enet_coordinate_descent(\n",
      "C:\\Users\\andsi\\anaconda3\\lib\\site-packages\\sklearn\\linear_model\\_coordinate_descent.py:529: ConvergenceWarning: Objective did not converge. You might want to increase the number of iterations. Duality gap: 10442.53653976135, tolerance: 8194.682721984602\n",
      "  model = cd_fast.enet_coordinate_descent(\n"
     ]
    },
    {
     "data": {
      "text/plain": [
       "LassoCV()"
      ]
     },
     "execution_count": 70,
     "metadata": {},
     "output_type": "execute_result"
    }
   ],
   "source": [
    "lasso_cv = LassoCV()\n",
    "\n",
    "lasso_cv.fit(X_train_vect, y_train)"
   ]
  },
  {
   "cell_type": "code",
   "execution_count": 72,
   "metadata": {},
   "outputs": [
    {
     "data": {
      "text/html": [
       "<div>\n",
       "<style scoped>\n",
       "    .dataframe tbody tr th:only-of-type {\n",
       "        vertical-align: middle;\n",
       "    }\n",
       "\n",
       "    .dataframe tbody tr th {\n",
       "        vertical-align: top;\n",
       "    }\n",
       "\n",
       "    .dataframe thead th {\n",
       "        text-align: right;\n",
       "    }\n",
       "</style>\n",
       "<table border=\"1\" class=\"dataframe\">\n",
       "  <thead>\n",
       "    <tr style=\"text-align: right;\">\n",
       "      <th></th>\n",
       "      <th>error_type</th>\n",
       "      <th>baseline</th>\n",
       "      <th>lin_reg</th>\n",
       "      <th>ridge_cv</th>\n",
       "      <th>lasso_cv</th>\n",
       "    </tr>\n",
       "  </thead>\n",
       "  <tbody>\n",
       "    <tr>\n",
       "      <th>0</th>\n",
       "      <td>MAE</td>\n",
       "      <td>68.637295</td>\n",
       "      <td>73.624338</td>\n",
       "      <td>73.509228</td>\n",
       "      <td>70.511135</td>\n",
       "    </tr>\n",
       "    <tr>\n",
       "      <th>1</th>\n",
       "      <td>RMSE</td>\n",
       "      <td>127.353484</td>\n",
       "      <td>113.573407</td>\n",
       "      <td>113.439553</td>\n",
       "      <td>116.972355</td>\n",
       "    </tr>\n",
       "    <tr>\n",
       "      <th>2</th>\n",
       "      <td>R2</td>\n",
       "      <td>-0.106683</td>\n",
       "      <td>0.119853</td>\n",
       "      <td>0.121927</td>\n",
       "      <td>0.066384</td>\n",
       "    </tr>\n",
       "  </tbody>\n",
       "</table>\n",
       "</div>"
      ],
      "text/plain": [
       "  error_type    baseline     lin_reg    ridge_cv    lasso_cv\n",
       "0        MAE   68.637295   73.624338   73.509228   70.511135\n",
       "1       RMSE  127.353484  113.573407  113.439553  116.972355\n",
       "2         R2   -0.106683    0.119853    0.121927    0.066384"
      ]
     },
     "execution_count": 72,
     "metadata": {},
     "output_type": "execute_result"
    }
   ],
   "source": [
    "measured_metrics[\"lasso_cv\"] = dataframe_metrics(y_test, lasso_cv.predict(X_test_vect))\n",
    "measured_metrics"
   ]
  },
  {
   "cell_type": "markdown",
   "metadata": {},
   "source": [
    "По MAE небольшое улучшение в сравнении с обычной линейной регрессией, но по-прежнему хуже baseline. По RMSE и R2 хуже, чем обычная линейная регрессия."
   ]
  },
  {
   "cell_type": "code",
   "execution_count": 73,
   "metadata": {},
   "outputs": [
    {
     "data": {
      "image/png": "[encoded data removed]",
      "text/plain": [
       "<Figure size 1440x432 with 1 Axes>"
      ]
     },
     "metadata": {
      "needs_background": "light"
     },
     "output_type": "display_data"
    }
   ],
   "source": [
    "featureImportance = pd.DataFrame({'feature': X_train_vect.columns, \n",
    "                                  'importance': lasso_cv.coef_})\n",
    "\n",
    "featureImportance.set_index('feature', inplace=True)\n",
    "featureImportance.sort_values(['importance'], ascending=False, inplace=True)\n",
    "featureImportance['importance'][:50].plot.bar(figsize=(20, 6));"
   ]
  },
  {
   "cell_type": "markdown",
   "metadata": {},
   "source": [
    "В лассо-регрессии выделяется только небольшое количество важных признаков. В самом топе *матч текстовый* и *арена превью*. Из остальных признаков, которые обладают хотя бы небольшой важностью, большинство являются фамилиями конкретных футболистов."
   ]
  },
  {
   "cell_type": "markdown",
   "metadata": {},
   "source": [
    "### ElasticNetCV"
   ]
  },
  {
   "cell_type": "code",
   "execution_count": 74,
   "metadata": {},
   "outputs": [
    {
     "name": "stderr",
     "output_type": "stream",
     "text": [
      "C:\\Users\\andsi\\anaconda3\\lib\\site-packages\\sklearn\\linear_model\\_coordinate_descent.py:529: ConvergenceWarning: Objective did not converge. You might want to increase the number of iterations. Duality gap: 95716.47912359331, tolerance: 11441.31264404925\n",
      "  model = cd_fast.enet_coordinate_descent(\n"
     ]
    },
    {
     "data": {
      "text/plain": [
       "ElasticNetCV()"
      ]
     },
     "execution_count": 74,
     "metadata": {},
     "output_type": "execute_result"
    }
   ],
   "source": [
    "elastic_net = ElasticNetCV()\n",
    "\n",
    "elastic_net.fit(X_train_vect, y_train)"
   ]
  },
  {
   "cell_type": "code",
   "execution_count": 75,
   "metadata": {},
   "outputs": [
    {
     "data": {
      "text/html": [
       "<div>\n",
       "<style scoped>\n",
       "    .dataframe tbody tr th:only-of-type {\n",
       "        vertical-align: middle;\n",
       "    }\n",
       "\n",
       "    .dataframe tbody tr th {\n",
       "        vertical-align: top;\n",
       "    }\n",
       "\n",
       "    .dataframe thead th {\n",
       "        text-align: right;\n",
       "    }\n",
       "</style>\n",
       "<table border=\"1\" class=\"dataframe\">\n",
       "  <thead>\n",
       "    <tr style=\"text-align: right;\">\n",
       "      <th></th>\n",
       "      <th>error_type</th>\n",
       "      <th>baseline</th>\n",
       "      <th>lin_reg</th>\n",
       "      <th>ridge_cv</th>\n",
       "      <th>lasso_cv</th>\n",
       "      <th>elastic_net</th>\n",
       "    </tr>\n",
       "  </thead>\n",
       "  <tbody>\n",
       "    <tr>\n",
       "      <th>0</th>\n",
       "      <td>MAE</td>\n",
       "      <td>68.637295</td>\n",
       "      <td>73.624338</td>\n",
       "      <td>73.509228</td>\n",
       "      <td>70.511135</td>\n",
       "      <td>65.956784</td>\n",
       "    </tr>\n",
       "    <tr>\n",
       "      <th>1</th>\n",
       "      <td>RMSE</td>\n",
       "      <td>127.353484</td>\n",
       "      <td>113.573407</td>\n",
       "      <td>113.439553</td>\n",
       "      <td>116.972355</td>\n",
       "      <td>100.704393</td>\n",
       "    </tr>\n",
       "    <tr>\n",
       "      <th>2</th>\n",
       "      <td>R2</td>\n",
       "      <td>-0.106683</td>\n",
       "      <td>0.119853</td>\n",
       "      <td>0.121927</td>\n",
       "      <td>0.066384</td>\n",
       "      <td>0.308012</td>\n",
       "    </tr>\n",
       "  </tbody>\n",
       "</table>\n",
       "</div>"
      ],
      "text/plain": [
       "  error_type    baseline     lin_reg    ridge_cv    lasso_cv  elastic_net\n",
       "0        MAE   68.637295   73.624338   73.509228   70.511135    65.956784\n",
       "1       RMSE  127.353484  113.573407  113.439553  116.972355   100.704393\n",
       "2         R2   -0.106683    0.119853    0.121927    0.066384     0.308012"
      ]
     },
     "execution_count": 75,
     "metadata": {},
     "output_type": "execute_result"
    }
   ],
   "source": [
    "measured_metrics[\"elastic_net\"] = dataframe_metrics(y_test, elastic_net.predict(X_test_vect))\n",
    "measured_metrics"
   ]
  },
  {
   "cell_type": "markdown",
   "metadata": {},
   "source": [
    "В этой модели все метрики качества значительно улучшились."
   ]
  },
  {
   "cell_type": "code",
   "execution_count": 76,
   "metadata": {},
   "outputs": [
    {
     "data": {
      "image/png": "[encoded data removed]",
      "text/plain": [
       "<Figure size 1440x432 with 1 Axes>"
      ]
     },
     "metadata": {
      "needs_background": "light"
     },
     "output_type": "display_data"
    }
   ],
   "source": [
    "featureImportance = pd.DataFrame({'feature': X_train_vect.columns, \n",
    "                                  'importance': elastic_net.coef_})\n",
    "\n",
    "featureImportance.set_index('feature', inplace=True)\n",
    "featureImportance.sort_values(['importance'], ascending=False, inplace=True)\n",
    "featureImportance['importance'][:50].plot.bar(figsize=(20, 6));"
   ]
  },
  {
   "cell_type": "markdown",
   "metadata": {},
   "source": [
    "По важности признаков картина перекликается с обычной линейной регрессией."
   ]
  },
  {
   "cell_type": "markdown",
   "metadata": {},
   "source": [
    "### Выводы\n",
    "\n",
    "Для выбранной тематики спарсили новости и построили несколько моделей регрессии, попытавшись выявить зависимость между наличием определённых слов и биграмм и количеством комментов пользователей.\n",
    "\n",
    "Лучше всего себя показал алгоритм ElasticNet, хотя в текущей версии метрики качества недостаточно хороши. Возможно, они бы повысились при существенном увеличении базы текстов."
   ]
  }
 ],
 "metadata": {
  "kernelspec": {
   "display_name": "Python 3",
   "language": "python",
   "name": "python3"
  },
  "language_info": {
   "codemirror_mode": {
    "name": "ipython",
    "version": 3
   },
   "file_extension": ".py",
   "mimetype": "text/x-python",
   "name": "python",
   "nbconvert_exporter": "python",
   "pygments_lexer": "ipython3",
   "version": "3.8.5"
  }
 },
 "nbformat": 4,
 "nbformat_minor": 4
}
