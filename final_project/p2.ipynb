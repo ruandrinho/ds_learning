{
 "cells": [
  {
   "cell_type": "markdown",
   "metadata": {},
   "source": [
    "# Классификация изображений природы по времени года\n",
    "\n",
    "**Проектная работа Ситникова Андрея на курсе «Machine Learning. Professional»**\n",
    "\n",
    "## Часть 2. Выделение палитры"
   ]
  },
  {
   "cell_type": "code",
   "execution_count": 1,
   "metadata": {},
   "outputs": [],
   "source": [
    "import pandas as pd\n",
    "import numpy as np\n",
    "import matplotlib.pyplot as plt\n",
    "from PIL import Image\n",
    "from sklearn.cluster import KMeans\n",
    "from tqdm import tqdm\n",
    "from IPython.display import HTML, display\n",
    "\n",
    "%matplotlib inline\n",
    "\n",
    "import warnings\n",
    "warnings.filterwarnings(\"ignore\")\n",
    "\n",
    "np.random.seed(100)"
   ]
  },
  {
   "cell_type": "markdown",
   "metadata": {},
   "source": [
    "Для обработки изображения воспользуемся библиотекой PIL.\n",
    "\n",
    "Сначала попробуем загрузить одну картинку, считать информацию о каждом пикселе и составить датафрейм с координатами пикселей (*x*, *y*) и их цветами (*r*, *g*, *b*)."
   ]
  },
  {
   "cell_type": "code",
   "execution_count": 2,
   "metadata": {},
   "outputs": [
    {
     "data": {
      "text/html": [
       "<div>\n",
       "<style scoped>\n",
       "    .dataframe tbody tr th:only-of-type {\n",
       "        vertical-align: middle;\n",
       "    }\n",
       "\n",
       "    .dataframe tbody tr th {\n",
       "        vertical-align: top;\n",
       "    }\n",
       "\n",
       "    .dataframe thead th {\n",
       "        text-align: right;\n",
       "    }\n",
       "</style>\n",
       "<table border=\"1\" class=\"dataframe\">\n",
       "  <thead>\n",
       "    <tr style=\"text-align: right;\">\n",
       "      <th></th>\n",
       "      <th>x</th>\n",
       "      <th>y</th>\n",
       "      <th>r</th>\n",
       "      <th>g</th>\n",
       "      <th>b</th>\n",
       "    </tr>\n",
       "  </thead>\n",
       "  <tbody>\n",
       "    <tr>\n",
       "      <th>0</th>\n",
       "      <td>0</td>\n",
       "      <td>0</td>\n",
       "      <td>2</td>\n",
       "      <td>77</td>\n",
       "      <td>220</td>\n",
       "    </tr>\n",
       "    <tr>\n",
       "      <th>1</th>\n",
       "      <td>0</td>\n",
       "      <td>1</td>\n",
       "      <td>2</td>\n",
       "      <td>77</td>\n",
       "      <td>220</td>\n",
       "    </tr>\n",
       "    <tr>\n",
       "      <th>2</th>\n",
       "      <td>0</td>\n",
       "      <td>2</td>\n",
       "      <td>2</td>\n",
       "      <td>77</td>\n",
       "      <td>220</td>\n",
       "    </tr>\n",
       "    <tr>\n",
       "      <th>3</th>\n",
       "      <td>0</td>\n",
       "      <td>3</td>\n",
       "      <td>2</td>\n",
       "      <td>77</td>\n",
       "      <td>220</td>\n",
       "    </tr>\n",
       "    <tr>\n",
       "      <th>4</th>\n",
       "      <td>0</td>\n",
       "      <td>4</td>\n",
       "      <td>2</td>\n",
       "      <td>77</td>\n",
       "      <td>220</td>\n",
       "    </tr>\n",
       "    <tr>\n",
       "      <th>...</th>\n",
       "      <td>...</td>\n",
       "      <td>...</td>\n",
       "      <td>...</td>\n",
       "      <td>...</td>\n",
       "      <td>...</td>\n",
       "    </tr>\n",
       "    <tr>\n",
       "      <th>268155</th>\n",
       "      <td>639</td>\n",
       "      <td>414</td>\n",
       "      <td>95</td>\n",
       "      <td>178</td>\n",
       "      <td>254</td>\n",
       "    </tr>\n",
       "    <tr>\n",
       "      <th>268156</th>\n",
       "      <td>639</td>\n",
       "      <td>415</td>\n",
       "      <td>95</td>\n",
       "      <td>178</td>\n",
       "      <td>254</td>\n",
       "    </tr>\n",
       "    <tr>\n",
       "      <th>268157</th>\n",
       "      <td>639</td>\n",
       "      <td>416</td>\n",
       "      <td>92</td>\n",
       "      <td>178</td>\n",
       "      <td>255</td>\n",
       "    </tr>\n",
       "    <tr>\n",
       "      <th>268158</th>\n",
       "      <td>639</td>\n",
       "      <td>417</td>\n",
       "      <td>92</td>\n",
       "      <td>178</td>\n",
       "      <td>255</td>\n",
       "    </tr>\n",
       "    <tr>\n",
       "      <th>268159</th>\n",
       "      <td>639</td>\n",
       "      <td>418</td>\n",
       "      <td>92</td>\n",
       "      <td>178</td>\n",
       "      <td>255</td>\n",
       "    </tr>\n",
       "  </tbody>\n",
       "</table>\n",
       "<p>268160 rows × 5 columns</p>\n",
       "</div>"
      ],
      "text/plain": [
       "          x    y   r    g    b\n",
       "0         0    0   2   77  220\n",
       "1         0    1   2   77  220\n",
       "2         0    2   2   77  220\n",
       "3         0    3   2   77  220\n",
       "4         0    4   2   77  220\n",
       "...     ...  ...  ..  ...  ...\n",
       "268155  639  414  95  178  254\n",
       "268156  639  415  95  178  254\n",
       "268157  639  416  92  178  255\n",
       "268158  639  417  92  178  255\n",
       "268159  639  418  92  178  255\n",
       "\n",
       "[268160 rows x 5 columns]"
      ]
     },
     "execution_count": 2,
     "metadata": {},
     "output_type": "execute_result"
    }
   ],
   "source": [
    "with Image.open('img/summer/1536088.jpg') as im:\n",
    "    px = im.load()\n",
    "arr = []\n",
    "# Пробегаем вложенным циклом по двум измерениям картинки\n",
    "for i in range(im.size[0]):\n",
    "    for j in range(im.size[1]):\n",
    "        r, g, b = px[i,j]\n",
    "        arr.append([i, j, r, g, b])\n",
    "df = pd.DataFrame(arr, columns=['x', 'y', 'r', 'g', 'b'])\n",
    "df"
   ]
  },
  {
   "cell_type": "markdown",
   "metadata": {},
   "source": [
    "Вот наша картинка.\n",
    "\n",
    "![Image](img/summer/1536088.jpg)\n",
    "\n",
    "В палитре данной картинки ожидаем увидеть жёлтый, синий, зелёный и какой-нибудь тёмный цвет.\n",
    "\n",
    "### Кластеризация\n",
    "\n",
    "**Гипотеза**: если в датафрейме на основе картинки выделить несколько кластеров и получить значения их центров, это и будут искомые цвета палитры.\n",
    "\n",
    "Нужно найти оптимальное число кластеров.\n",
    "\n",
    "Также нужно ответить на вопрос, стоит ли учитывать координаты пикселей для кластеризации или отбросить их.\n",
    "\n",
    "Воспользуемся алгоритмом KMeans и построим график зависимости критерия инерции (функции потерь) от числа кластеров."
   ]
  },
  {
   "cell_type": "code",
   "execution_count": 3,
   "metadata": {},
   "outputs": [
    {
     "name": "stderr",
     "output_type": "stream",
     "text": [
      "100%|██████████| 14/14 [01:25<00:00,  6.12s/it]\n"
     ]
    },
    {
     "data": {
      "image/png": "[encoded data removed]",
      "text/plain": [
       "<Figure size 432x288 with 1 Axes>"
      ]
     },
     "metadata": {
      "needs_background": "light"
     },
     "output_type": "display_data"
    }
   ],
   "source": [
    "inertia = []\n",
    "for i in tqdm(range(1,15)):\n",
    "    kmeans = KMeans(n_clusters=i, n_jobs=-1, random_state=100).fit(df)\n",
    "    labels = kmeans.labels_\n",
    "    inertia_i = kmeans.inertia_\n",
    "    inertia.append(inertia_i)\n",
    "plt.plot(range(1,15), inertia, marker='o');"
   ]
  },
  {
   "cell_type": "markdown",
   "metadata": {},
   "source": [
    "Очевидного локтя нет, построим график переломного момента."
   ]
  },
  {
   "cell_type": "code",
   "execution_count": 4,
   "metadata": {},
   "outputs": [
    {
     "data": {
      "image/png": "[encoded data removed]",
      "text/plain": [
       "<Figure size 432x288 with 1 Axes>"
      ]
     },
     "metadata": {
      "needs_background": "light"
     },
     "output_type": "display_data"
    }
   ],
   "source": [
    "D = []\n",
    "for i in range(1,13):\n",
    "    Di = (inertia[i] - inertia[i+1])/(inertia[i-1] - inertia[i])\n",
    "    D.append(Di)\n",
    "plt.plot(range(2,14), D, marker='o');"
   ]
  },
  {
   "cell_type": "markdown",
   "metadata": {},
   "source": [
    "Как видно из графика, прежде всего целесообразно рассмотреть число кластеров 2 и 5.\n",
    "\n",
    "Снова настроим алгоритм KMeans с 2 кластерами и выведем получившиеся центры."
   ]
  },
  {
   "cell_type": "code",
   "execution_count": 5,
   "metadata": {},
   "outputs": [
    {
     "data": {
      "text/html": [
       "<div>\n",
       "<style scoped>\n",
       "    .dataframe tbody tr th:only-of-type {\n",
       "        vertical-align: middle;\n",
       "    }\n",
       "\n",
       "    .dataframe tbody tr th {\n",
       "        vertical-align: top;\n",
       "    }\n",
       "\n",
       "    .dataframe thead th {\n",
       "        text-align: right;\n",
       "    }\n",
       "</style>\n",
       "<table border=\"1\" class=\"dataframe\">\n",
       "  <thead>\n",
       "    <tr style=\"text-align: right;\">\n",
       "      <th></th>\n",
       "      <th>x</th>\n",
       "      <th>y</th>\n",
       "      <th>r</th>\n",
       "      <th>g</th>\n",
       "      <th>b</th>\n",
       "    </tr>\n",
       "  </thead>\n",
       "  <tbody>\n",
       "    <tr>\n",
       "      <th>0</th>\n",
       "      <td>188.0</td>\n",
       "      <td>215.0</td>\n",
       "      <td>116.0</td>\n",
       "      <td>142.0</td>\n",
       "      <td>138.0</td>\n",
       "    </tr>\n",
       "    <tr>\n",
       "      <th>1</th>\n",
       "      <td>502.0</td>\n",
       "      <td>201.0</td>\n",
       "      <td>39.0</td>\n",
       "      <td>117.0</td>\n",
       "      <td>225.0</td>\n",
       "    </tr>\n",
       "  </tbody>\n",
       "</table>\n",
       "</div>"
      ],
      "text/plain": [
       "       x      y      r      g      b\n",
       "0  188.0  215.0  116.0  142.0  138.0\n",
       "1  502.0  201.0   39.0  117.0  225.0"
      ]
     },
     "execution_count": 5,
     "metadata": {},
     "output_type": "execute_result"
    }
   ],
   "source": [
    "kmeans = KMeans(n_clusters=2, n_jobs=-1, random_state=100).fit(df)\n",
    "centers = kmeans.cluster_centers_\n",
    "centers = np.around(centers, decimals=0)\n",
    "centers_df = pd.DataFrame(centers, columns=['x', 'y', 'r', 'g', 'b'])\n",
    "centers_df"
   ]
  },
  {
   "cell_type": "markdown",
   "metadata": {},
   "source": [
    "А какие цвета у точек с этими координатами?"
   ]
  },
  {
   "cell_type": "code",
   "execution_count": 6,
   "metadata": {},
   "outputs": [
    {
     "data": {
      "text/plain": [
       "(41, 57, 20)"
      ]
     },
     "execution_count": 6,
     "metadata": {},
     "output_type": "execute_result"
    }
   ],
   "source": [
    "px[188,215]"
   ]
  },
  {
   "cell_type": "code",
   "execution_count": 7,
   "metadata": {},
   "outputs": [
    {
     "data": {
      "text/plain": [
       "(31, 123, 250)"
      ]
     },
     "execution_count": 7,
     "metadata": {},
     "output_type": "execute_result"
    }
   ],
   "source": [
    "px[502,201]"
   ]
  },
  {
   "cell_type": "markdown",
   "metadata": {},
   "source": [
    "Отобразим нашу палитру."
   ]
  },
  {
   "cell_type": "code",
   "execution_count": 8,
   "metadata": {},
   "outputs": [
    {
     "data": {
      "text/html": [
       "<div style=\"float: left; width: 50px; height: 50px; background-color: rgb(116.0, 142.0, 138.0); border: 1px solid black; margin-right: 1px\"></div><div style=\"float: left; width: 50px; height: 50px; background-color: rgb(39.0, 117.0, 225.0); border: 1px solid black; margin-right: 1px\"></div>"
      ],
      "text/plain": [
       "<IPython.core.display.HTML object>"
      ]
     },
     "metadata": {},
     "output_type": "display_data"
    }
   ],
   "source": [
    "html = ''\n",
    "for center in centers:\n",
    "    R, G, B = center[2:5]\n",
    "    html += f'<div style=\"float: left; width: 50px; height: 50px; background-color: rgb({R}, {G}, {B}); border: 1px solid black; margin-right: 1px\"></div>'\n",
    "display(HTML(html))"
   ]
  },
  {
   "cell_type": "markdown",
   "metadata": {},
   "source": [
    "Отобразим координаты центров на самой картинке."
   ]
  },
  {
   "cell_type": "code",
   "execution_count": 9,
   "metadata": {},
   "outputs": [
    {
     "data": {
      "text/html": [
       "<div style=\"width: 640px; height: 419px\"><img src=\"img/summer/1536088.jpg\" style=\"position: absolute\"><div style=\"position: absolute; width: 15px; height: 15px; border: 2px solid white; left: 178.0px; top: 205.0px; background-color: rgb(116.0, 142.0, 138.0)\"></div><div style=\"position: absolute; width: 15px; height: 15px; border: 2px solid white; left: 492.0px; top: 191.0px; background-color: rgb(39.0, 117.0, 225.0)\"></div></div>"
      ],
      "text/plain": [
       "<IPython.core.display.HTML object>"
      ]
     },
     "metadata": {},
     "output_type": "display_data"
    }
   ],
   "source": [
    "html = f'<div style=\"width: {im.size[0]}px; height: {im.size[1]}px\">'\n",
    "html += '<img src=\"img/summer/1536088.jpg\" style=\"position: absolute\">'\n",
    "for center in centers:\n",
    "    X, Y, R, G, B = center\n",
    "    html += f'<div style=\"position: absolute; width: 15px; height: 15px; border: 2px solid white; left: {X-10}px; top: {Y-10}px; background-color: rgb({R}, {G}, {B})\"></div>'\n",
    "html += '</div>'\n",
    "display(HTML(html))"
   ]
  },
  {
   "cell_type": "markdown",
   "metadata": {},
   "source": [
    "Как видно, 2 кластера недостаточно. Повторим всё то же для 5 кластеров."
   ]
  },
  {
   "cell_type": "code",
   "execution_count": 10,
   "metadata": {},
   "outputs": [
    {
     "data": {
      "text/html": [
       "<div>\n",
       "<style scoped>\n",
       "    .dataframe tbody tr th:only-of-type {\n",
       "        vertical-align: middle;\n",
       "    }\n",
       "\n",
       "    .dataframe tbody tr th {\n",
       "        vertical-align: top;\n",
       "    }\n",
       "\n",
       "    .dataframe thead th {\n",
       "        text-align: right;\n",
       "    }\n",
       "</style>\n",
       "<table border=\"1\" class=\"dataframe\">\n",
       "  <thead>\n",
       "    <tr style=\"text-align: right;\">\n",
       "      <th></th>\n",
       "      <th>x</th>\n",
       "      <th>y</th>\n",
       "      <th>r</th>\n",
       "      <th>g</th>\n",
       "      <th>b</th>\n",
       "    </tr>\n",
       "  </thead>\n",
       "  <tbody>\n",
       "    <tr>\n",
       "      <th>0</th>\n",
       "      <td>294.0</td>\n",
       "      <td>203.0</td>\n",
       "      <td>168.0</td>\n",
       "      <td>139.0</td>\n",
       "      <td>28.0</td>\n",
       "    </tr>\n",
       "    <tr>\n",
       "      <th>1</th>\n",
       "      <td>502.0</td>\n",
       "      <td>102.0</td>\n",
       "      <td>5.0</td>\n",
       "      <td>88.0</td>\n",
       "      <td>229.0</td>\n",
       "    </tr>\n",
       "    <tr>\n",
       "      <th>2</th>\n",
       "      <td>122.0</td>\n",
       "      <td>305.0</td>\n",
       "      <td>120.0</td>\n",
       "      <td>171.0</td>\n",
       "      <td>191.0</td>\n",
       "    </tr>\n",
       "    <tr>\n",
       "      <th>3</th>\n",
       "      <td>500.0</td>\n",
       "      <td>331.0</td>\n",
       "      <td>82.0</td>\n",
       "      <td>156.0</td>\n",
       "      <td>230.0</td>\n",
       "    </tr>\n",
       "    <tr>\n",
       "      <th>4</th>\n",
       "      <td>123.0</td>\n",
       "      <td>70.0</td>\n",
       "      <td>17.0</td>\n",
       "      <td>93.0</td>\n",
       "      <td>229.0</td>\n",
       "    </tr>\n",
       "  </tbody>\n",
       "</table>\n",
       "</div>"
      ],
      "text/plain": [
       "       x      y      r      g      b\n",
       "0  294.0  203.0  168.0  139.0   28.0\n",
       "1  502.0  102.0    5.0   88.0  229.0\n",
       "2  122.0  305.0  120.0  171.0  191.0\n",
       "3  500.0  331.0   82.0  156.0  230.0\n",
       "4  123.0   70.0   17.0   93.0  229.0"
      ]
     },
     "execution_count": 10,
     "metadata": {},
     "output_type": "execute_result"
    }
   ],
   "source": [
    "kmeans = KMeans(n_clusters=5, n_jobs=-1, random_state=100).fit(df)\n",
    "centers = kmeans.cluster_centers_\n",
    "centers = np.around(centers, decimals=0)\n",
    "centers_df = pd.DataFrame(centers, columns=['x', 'y', 'r', 'g', 'b'])\n",
    "centers_df"
   ]
  },
  {
   "cell_type": "code",
   "execution_count": 11,
   "metadata": {},
   "outputs": [
    {
     "data": {
      "text/html": [
       "<div style=\"float: left; width: 50px; height: 50px; background-color: rgb(168.0, 139.0, 28.0); border: 1px solid black; margin-right: 1px\"></div><div style=\"float: left; width: 50px; height: 50px; background-color: rgb(5.0, 88.0, 229.0); border: 1px solid black; margin-right: 1px\"></div><div style=\"float: left; width: 50px; height: 50px; background-color: rgb(120.0, 171.0, 191.0); border: 1px solid black; margin-right: 1px\"></div><div style=\"float: left; width: 50px; height: 50px; background-color: rgb(82.0, 156.0, 230.0); border: 1px solid black; margin-right: 1px\"></div><div style=\"float: left; width: 50px; height: 50px; background-color: rgb(17.0, 93.0, 229.0); border: 1px solid black; margin-right: 1px\"></div>"
      ],
      "text/plain": [
       "<IPython.core.display.HTML object>"
      ]
     },
     "metadata": {},
     "output_type": "display_data"
    }
   ],
   "source": [
    "html = ''\n",
    "for center in centers:\n",
    "    R, G, B = center[2:5]\n",
    "    html += f'<div style=\"float: left; width: 50px; height: 50px; background-color: rgb({R}, {G}, {B}); border: 1px solid black; margin-right: 1px\"></div>'\n",
    "display(HTML(html))"
   ]
  },
  {
   "cell_type": "code",
   "execution_count": 12,
   "metadata": {},
   "outputs": [
    {
     "data": {
      "text/html": [
       "<div style=\"width: 640px; height: 419px\"><img src=\"img/summer/1536088.jpg\" style=\"position: absolute\"><div style=\"position: absolute; width: 15px; height: 15px; border: 2px solid white; left: 284.0px; top: 193.0px; background-color: rgb(168.0, 139.0, 28.0)\"></div><div style=\"position: absolute; width: 15px; height: 15px; border: 2px solid white; left: 492.0px; top: 92.0px; background-color: rgb(5.0, 88.0, 229.0)\"></div><div style=\"position: absolute; width: 15px; height: 15px; border: 2px solid white; left: 112.0px; top: 295.0px; background-color: rgb(120.0, 171.0, 191.0)\"></div><div style=\"position: absolute; width: 15px; height: 15px; border: 2px solid white; left: 490.0px; top: 321.0px; background-color: rgb(82.0, 156.0, 230.0)\"></div><div style=\"position: absolute; width: 15px; height: 15px; border: 2px solid white; left: 113.0px; top: 60.0px; background-color: rgb(17.0, 93.0, 229.0)\"></div></div>"
      ],
      "text/plain": [
       "<IPython.core.display.HTML object>"
      ]
     },
     "metadata": {},
     "output_type": "display_data"
    }
   ],
   "source": [
    "html = f'<div style=\"width: {im.size[0]}px; height: {im.size[1]}px\">'\n",
    "html += '<img src=\"img/summer/1536088.jpg\" style=\"position: absolute\">'\n",
    "for center in centers:\n",
    "    X, Y, R, G, B = center\n",
    "    html += f'<div style=\"position: absolute; width: 15px; height: 15px; border: 2px solid white; left: {X-10}px; top: {Y-10}px; background-color: rgb({R}, {G}, {B})\"></div>'\n",
    "html += '</div>'\n",
    "display(HTML(html))"
   ]
  },
  {
   "cell_type": "markdown",
   "metadata": {},
   "source": [
    "Результат по-прежнему неудовлетворительный. Попробуем взять 10 кластеров."
   ]
  },
  {
   "cell_type": "code",
   "execution_count": 13,
   "metadata": {},
   "outputs": [
    {
     "data": {
      "text/html": [
       "<div>\n",
       "<style scoped>\n",
       "    .dataframe tbody tr th:only-of-type {\n",
       "        vertical-align: middle;\n",
       "    }\n",
       "\n",
       "    .dataframe tbody tr th {\n",
       "        vertical-align: top;\n",
       "    }\n",
       "\n",
       "    .dataframe thead th {\n",
       "        text-align: right;\n",
       "    }\n",
       "</style>\n",
       "<table border=\"1\" class=\"dataframe\">\n",
       "  <thead>\n",
       "    <tr style=\"text-align: right;\">\n",
       "      <th></th>\n",
       "      <th>x</th>\n",
       "      <th>y</th>\n",
       "      <th>r</th>\n",
       "      <th>g</th>\n",
       "      <th>b</th>\n",
       "    </tr>\n",
       "  </thead>\n",
       "  <tbody>\n",
       "    <tr>\n",
       "      <th>0</th>\n",
       "      <td>551.0</td>\n",
       "      <td>116.0</td>\n",
       "      <td>5.0</td>\n",
       "      <td>88.0</td>\n",
       "      <td>230.0</td>\n",
       "    </tr>\n",
       "    <tr>\n",
       "      <th>1</th>\n",
       "      <td>149.0</td>\n",
       "      <td>375.0</td>\n",
       "      <td>143.0</td>\n",
       "      <td>176.0</td>\n",
       "      <td>116.0</td>\n",
       "    </tr>\n",
       "    <tr>\n",
       "      <th>2</th>\n",
       "      <td>280.0</td>\n",
       "      <td>262.0</td>\n",
       "      <td>78.0</td>\n",
       "      <td>52.0</td>\n",
       "      <td>25.0</td>\n",
       "    </tr>\n",
       "    <tr>\n",
       "      <th>3</th>\n",
       "      <td>355.0</td>\n",
       "      <td>370.0</td>\n",
       "      <td>108.0</td>\n",
       "      <td>178.0</td>\n",
       "      <td>243.0</td>\n",
       "    </tr>\n",
       "    <tr>\n",
       "      <th>4</th>\n",
       "      <td>216.0</td>\n",
       "      <td>136.0</td>\n",
       "      <td>193.0</td>\n",
       "      <td>168.0</td>\n",
       "      <td>32.0</td>\n",
       "    </tr>\n",
       "    <tr>\n",
       "      <th>5</th>\n",
       "      <td>383.0</td>\n",
       "      <td>242.0</td>\n",
       "      <td>201.0</td>\n",
       "      <td>183.0</td>\n",
       "      <td>38.0</td>\n",
       "    </tr>\n",
       "    <tr>\n",
       "      <th>6</th>\n",
       "      <td>89.0</td>\n",
       "      <td>270.0</td>\n",
       "      <td>104.0</td>\n",
       "      <td>165.0</td>\n",
       "      <td>241.0</td>\n",
       "    </tr>\n",
       "    <tr>\n",
       "      <th>7</th>\n",
       "      <td>378.0</td>\n",
       "      <td>60.0</td>\n",
       "      <td>6.0</td>\n",
       "      <td>86.0</td>\n",
       "      <td>227.0</td>\n",
       "    </tr>\n",
       "    <tr>\n",
       "      <th>8</th>\n",
       "      <td>98.0</td>\n",
       "      <td>70.0</td>\n",
       "      <td>14.0</td>\n",
       "      <td>92.0</td>\n",
       "      <td>230.0</td>\n",
       "    </tr>\n",
       "    <tr>\n",
       "      <th>9</th>\n",
       "      <td>543.0</td>\n",
       "      <td>312.0</td>\n",
       "      <td>68.0</td>\n",
       "      <td>146.0</td>\n",
       "      <td>241.0</td>\n",
       "    </tr>\n",
       "  </tbody>\n",
       "</table>\n",
       "</div>"
      ],
      "text/plain": [
       "       x      y      r      g      b\n",
       "0  551.0  116.0    5.0   88.0  230.0\n",
       "1  149.0  375.0  143.0  176.0  116.0\n",
       "2  280.0  262.0   78.0   52.0   25.0\n",
       "3  355.0  370.0  108.0  178.0  243.0\n",
       "4  216.0  136.0  193.0  168.0   32.0\n",
       "5  383.0  242.0  201.0  183.0   38.0\n",
       "6   89.0  270.0  104.0  165.0  241.0\n",
       "7  378.0   60.0    6.0   86.0  227.0\n",
       "8   98.0   70.0   14.0   92.0  230.0\n",
       "9  543.0  312.0   68.0  146.0  241.0"
      ]
     },
     "execution_count": 13,
     "metadata": {},
     "output_type": "execute_result"
    }
   ],
   "source": [
    "kmeans = KMeans(n_clusters=10, n_jobs=-1, random_state=100).fit(df)\n",
    "centers = kmeans.cluster_centers_\n",
    "centers = np.around(centers, decimals=0)\n",
    "centers_df = pd.DataFrame(centers, columns=['x', 'y', 'r', 'g', 'b'])\n",
    "centers_df"
   ]
  },
  {
   "cell_type": "code",
   "execution_count": 14,
   "metadata": {},
   "outputs": [
    {
     "data": {
      "text/html": [
       "<div style=\"float: left; width: 50px; height: 50px; background-color: rgb(5.0, 88.0, 230.0); border: 1px solid black; margin-right: 1px\"></div><div style=\"float: left; width: 50px; height: 50px; background-color: rgb(143.0, 176.0, 116.0); border: 1px solid black; margin-right: 1px\"></div><div style=\"float: left; width: 50px; height: 50px; background-color: rgb(78.0, 52.0, 25.0); border: 1px solid black; margin-right: 1px\"></div><div style=\"float: left; width: 50px; height: 50px; background-color: rgb(108.0, 178.0, 243.0); border: 1px solid black; margin-right: 1px\"></div><div style=\"float: left; width: 50px; height: 50px; background-color: rgb(193.0, 168.0, 32.0); border: 1px solid black; margin-right: 1px\"></div><div style=\"float: left; width: 50px; height: 50px; background-color: rgb(201.0, 183.0, 38.0); border: 1px solid black; margin-right: 1px\"></div><div style=\"float: left; width: 50px; height: 50px; background-color: rgb(104.0, 165.0, 241.0); border: 1px solid black; margin-right: 1px\"></div><div style=\"float: left; width: 50px; height: 50px; background-color: rgb(6.0, 86.0, 227.0); border: 1px solid black; margin-right: 1px\"></div><div style=\"float: left; width: 50px; height: 50px; background-color: rgb(14.0, 92.0, 230.0); border: 1px solid black; margin-right: 1px\"></div><div style=\"float: left; width: 50px; height: 50px; background-color: rgb(68.0, 146.0, 241.0); border: 1px solid black; margin-right: 1px\"></div>"
      ],
      "text/plain": [
       "<IPython.core.display.HTML object>"
      ]
     },
     "metadata": {},
     "output_type": "display_data"
    }
   ],
   "source": [
    "html = ''\n",
    "for center in centers:\n",
    "    R, G, B = center[2:5]\n",
    "    html += f'<div style=\"float: left; width: 50px; height: 50px; background-color: rgb({R}, {G}, {B}); border: 1px solid black; margin-right: 1px\"></div>'\n",
    "display(HTML(html))"
   ]
  },
  {
   "cell_type": "code",
   "execution_count": 15,
   "metadata": {},
   "outputs": [
    {
     "data": {
      "text/html": [
       "<div style=\"width: 640px; height: 419px\"><img src=\"img/summer/1536088.jpg\" style=\"position: absolute\"><div style=\"position: absolute; width: 15px; height: 15px; border: 2px solid white; left: 541.0px; top: 106.0px; background-color: rgb(5.0, 88.0, 230.0)\"></div><div style=\"position: absolute; width: 15px; height: 15px; border: 2px solid white; left: 139.0px; top: 365.0px; background-color: rgb(143.0, 176.0, 116.0)\"></div><div style=\"position: absolute; width: 15px; height: 15px; border: 2px solid white; left: 270.0px; top: 252.0px; background-color: rgb(78.0, 52.0, 25.0)\"></div><div style=\"position: absolute; width: 15px; height: 15px; border: 2px solid white; left: 345.0px; top: 360.0px; background-color: rgb(108.0, 178.0, 243.0)\"></div><div style=\"position: absolute; width: 15px; height: 15px; border: 2px solid white; left: 206.0px; top: 126.0px; background-color: rgb(193.0, 168.0, 32.0)\"></div><div style=\"position: absolute; width: 15px; height: 15px; border: 2px solid white; left: 373.0px; top: 232.0px; background-color: rgb(201.0, 183.0, 38.0)\"></div><div style=\"position: absolute; width: 15px; height: 15px; border: 2px solid white; left: 79.0px; top: 260.0px; background-color: rgb(104.0, 165.0, 241.0)\"></div><div style=\"position: absolute; width: 15px; height: 15px; border: 2px solid white; left: 368.0px; top: 50.0px; background-color: rgb(6.0, 86.0, 227.0)\"></div><div style=\"position: absolute; width: 15px; height: 15px; border: 2px solid white; left: 88.0px; top: 60.0px; background-color: rgb(14.0, 92.0, 230.0)\"></div><div style=\"position: absolute; width: 15px; height: 15px; border: 2px solid white; left: 533.0px; top: 302.0px; background-color: rgb(68.0, 146.0, 241.0)\"></div></div>"
      ],
      "text/plain": [
       "<IPython.core.display.HTML object>"
      ]
     },
     "metadata": {},
     "output_type": "display_data"
    }
   ],
   "source": [
    "html = f'<div style=\"width: {im.size[0]}px; height: {im.size[1]}px\">'\n",
    "html += '<img src=\"img/summer/1536088.jpg\" style=\"position: absolute\">'\n",
    "for center in centers:\n",
    "    X, Y, R, G, B = center\n",
    "    html += f'<div style=\"position: absolute; width: 15px; height: 15px; border: 2px solid white; left: {X-10}px; top: {Y-10}px; background-color: rgb({R}, {G}, {B})\"></div>'\n",
    "html += '</div>'\n",
    "display(HTML(html))"
   ]
  },
  {
   "cell_type": "markdown",
   "metadata": {},
   "source": [
    "Что ж, уже лучше. Попробуем избавиться от координат."
   ]
  },
  {
   "cell_type": "code",
   "execution_count": 16,
   "metadata": {},
   "outputs": [
    {
     "data": {
      "text/html": [
       "<div>\n",
       "<style scoped>\n",
       "    .dataframe tbody tr th:only-of-type {\n",
       "        vertical-align: middle;\n",
       "    }\n",
       "\n",
       "    .dataframe tbody tr th {\n",
       "        vertical-align: top;\n",
       "    }\n",
       "\n",
       "    .dataframe thead th {\n",
       "        text-align: right;\n",
       "    }\n",
       "</style>\n",
       "<table border=\"1\" class=\"dataframe\">\n",
       "  <thead>\n",
       "    <tr style=\"text-align: right;\">\n",
       "      <th></th>\n",
       "      <th>r</th>\n",
       "      <th>g</th>\n",
       "      <th>b</th>\n",
       "    </tr>\n",
       "  </thead>\n",
       "  <tbody>\n",
       "    <tr>\n",
       "      <th>0</th>\n",
       "      <td>2</td>\n",
       "      <td>77</td>\n",
       "      <td>220</td>\n",
       "    </tr>\n",
       "    <tr>\n",
       "      <th>1</th>\n",
       "      <td>2</td>\n",
       "      <td>77</td>\n",
       "      <td>220</td>\n",
       "    </tr>\n",
       "    <tr>\n",
       "      <th>2</th>\n",
       "      <td>2</td>\n",
       "      <td>77</td>\n",
       "      <td>220</td>\n",
       "    </tr>\n",
       "    <tr>\n",
       "      <th>3</th>\n",
       "      <td>2</td>\n",
       "      <td>77</td>\n",
       "      <td>220</td>\n",
       "    </tr>\n",
       "    <tr>\n",
       "      <th>4</th>\n",
       "      <td>2</td>\n",
       "      <td>77</td>\n",
       "      <td>220</td>\n",
       "    </tr>\n",
       "    <tr>\n",
       "      <th>...</th>\n",
       "      <td>...</td>\n",
       "      <td>...</td>\n",
       "      <td>...</td>\n",
       "    </tr>\n",
       "    <tr>\n",
       "      <th>268155</th>\n",
       "      <td>95</td>\n",
       "      <td>178</td>\n",
       "      <td>254</td>\n",
       "    </tr>\n",
       "    <tr>\n",
       "      <th>268156</th>\n",
       "      <td>95</td>\n",
       "      <td>178</td>\n",
       "      <td>254</td>\n",
       "    </tr>\n",
       "    <tr>\n",
       "      <th>268157</th>\n",
       "      <td>92</td>\n",
       "      <td>178</td>\n",
       "      <td>255</td>\n",
       "    </tr>\n",
       "    <tr>\n",
       "      <th>268158</th>\n",
       "      <td>92</td>\n",
       "      <td>178</td>\n",
       "      <td>255</td>\n",
       "    </tr>\n",
       "    <tr>\n",
       "      <th>268159</th>\n",
       "      <td>92</td>\n",
       "      <td>178</td>\n",
       "      <td>255</td>\n",
       "    </tr>\n",
       "  </tbody>\n",
       "</table>\n",
       "<p>268160 rows × 3 columns</p>\n",
       "</div>"
      ],
      "text/plain": [
       "         r    g    b\n",
       "0        2   77  220\n",
       "1        2   77  220\n",
       "2        2   77  220\n",
       "3        2   77  220\n",
       "4        2   77  220\n",
       "...     ..  ...  ...\n",
       "268155  95  178  254\n",
       "268156  95  178  254\n",
       "268157  92  178  255\n",
       "268158  92  178  255\n",
       "268159  92  178  255\n",
       "\n",
       "[268160 rows x 3 columns]"
      ]
     },
     "execution_count": 16,
     "metadata": {},
     "output_type": "execute_result"
    }
   ],
   "source": [
    "df_noxy = df[['r', 'g', 'b']]\n",
    "df_noxy"
   ]
  },
  {
   "cell_type": "markdown",
   "metadata": {},
   "source": [
    "Посчитаем KMeans для усечённого датасета с 5 кластерами."
   ]
  },
  {
   "cell_type": "code",
   "execution_count": 17,
   "metadata": {},
   "outputs": [
    {
     "data": {
      "text/html": [
       "<div>\n",
       "<style scoped>\n",
       "    .dataframe tbody tr th:only-of-type {\n",
       "        vertical-align: middle;\n",
       "    }\n",
       "\n",
       "    .dataframe tbody tr th {\n",
       "        vertical-align: top;\n",
       "    }\n",
       "\n",
       "    .dataframe thead th {\n",
       "        text-align: right;\n",
       "    }\n",
       "</style>\n",
       "<table border=\"1\" class=\"dataframe\">\n",
       "  <thead>\n",
       "    <tr style=\"text-align: right;\">\n",
       "      <th></th>\n",
       "      <th>r</th>\n",
       "      <th>g</th>\n",
       "      <th>b</th>\n",
       "    </tr>\n",
       "  </thead>\n",
       "  <tbody>\n",
       "    <tr>\n",
       "      <th>0</th>\n",
       "      <td>86.0</td>\n",
       "      <td>69.0</td>\n",
       "      <td>28.0</td>\n",
       "    </tr>\n",
       "    <tr>\n",
       "      <th>1</th>\n",
       "      <td>11.0</td>\n",
       "      <td>93.0</td>\n",
       "      <td>232.0</td>\n",
       "    </tr>\n",
       "    <tr>\n",
       "      <th>2</th>\n",
       "      <td>197.0</td>\n",
       "      <td>177.0</td>\n",
       "      <td>29.0</td>\n",
       "    </tr>\n",
       "    <tr>\n",
       "      <th>3</th>\n",
       "      <td>168.0</td>\n",
       "      <td>199.0</td>\n",
       "      <td>153.0</td>\n",
       "    </tr>\n",
       "    <tr>\n",
       "      <th>4</th>\n",
       "      <td>96.0</td>\n",
       "      <td>166.0</td>\n",
       "      <td>249.0</td>\n",
       "    </tr>\n",
       "  </tbody>\n",
       "</table>\n",
       "</div>"
      ],
      "text/plain": [
       "       r      g      b\n",
       "0   86.0   69.0   28.0\n",
       "1   11.0   93.0  232.0\n",
       "2  197.0  177.0   29.0\n",
       "3  168.0  199.0  153.0\n",
       "4   96.0  166.0  249.0"
      ]
     },
     "execution_count": 17,
     "metadata": {},
     "output_type": "execute_result"
    }
   ],
   "source": [
    "kmeans = KMeans(n_clusters=5, n_jobs=-1, random_state=100).fit(df_noxy)\n",
    "centers = kmeans.cluster_centers_\n",
    "centers = np.around(centers, decimals=0)\n",
    "centers_df = pd.DataFrame(centers, columns=['r', 'g', 'b'])\n",
    "centers_df"
   ]
  },
  {
   "cell_type": "code",
   "execution_count": 18,
   "metadata": {},
   "outputs": [
    {
     "data": {
      "text/html": [
       "<div style=\"float: left; width: 50px; height: 50px; background-color: rgb(86.0, 69.0, 28.0); border: 1px solid black; margin-right: 1px\"></div><div style=\"float: left; width: 50px; height: 50px; background-color: rgb(11.0, 93.0, 232.0); border: 1px solid black; margin-right: 1px\"></div><div style=\"float: left; width: 50px; height: 50px; background-color: rgb(197.0, 177.0, 29.0); border: 1px solid black; margin-right: 1px\"></div><div style=\"float: left; width: 50px; height: 50px; background-color: rgb(168.0, 199.0, 153.0); border: 1px solid black; margin-right: 1px\"></div><div style=\"float: left; width: 50px; height: 50px; background-color: rgb(96.0, 166.0, 249.0); border: 1px solid black; margin-right: 1px\"></div>"
      ],
      "text/plain": [
       "<IPython.core.display.HTML object>"
      ]
     },
     "metadata": {},
     "output_type": "display_data"
    }
   ],
   "source": [
    "html = ''\n",
    "for center in centers:\n",
    "    R, G, B = center\n",
    "    html += f'<div style=\"float: left; width: 50px; height: 50px; background-color: rgb({R}, {G}, {B}); border: 1px solid black; margin-right: 1px\"></div>'\n",
    "display(HTML(html))"
   ]
  },
  {
   "cell_type": "markdown",
   "metadata": {},
   "source": [
    "Чисто визуально палитра смотрится лучше. Повторим для 10 кластеров."
   ]
  },
  {
   "cell_type": "code",
   "execution_count": 19,
   "metadata": {},
   "outputs": [
    {
     "data": {
      "text/html": [
       "<div>\n",
       "<style scoped>\n",
       "    .dataframe tbody tr th:only-of-type {\n",
       "        vertical-align: middle;\n",
       "    }\n",
       "\n",
       "    .dataframe tbody tr th {\n",
       "        vertical-align: top;\n",
       "    }\n",
       "\n",
       "    .dataframe thead th {\n",
       "        text-align: right;\n",
       "    }\n",
       "</style>\n",
       "<table border=\"1\" class=\"dataframe\">\n",
       "  <thead>\n",
       "    <tr style=\"text-align: right;\">\n",
       "      <th></th>\n",
       "      <th>r</th>\n",
       "      <th>g</th>\n",
       "      <th>b</th>\n",
       "    </tr>\n",
       "  </thead>\n",
       "  <tbody>\n",
       "    <tr>\n",
       "      <th>0</th>\n",
       "      <td>131.0</td>\n",
       "      <td>191.0</td>\n",
       "      <td>246.0</td>\n",
       "    </tr>\n",
       "    <tr>\n",
       "      <th>1</th>\n",
       "      <td>4.0</td>\n",
       "      <td>86.0</td>\n",
       "      <td>228.0</td>\n",
       "    </tr>\n",
       "    <tr>\n",
       "      <th>2</th>\n",
       "      <td>172.0</td>\n",
       "      <td>109.0</td>\n",
       "      <td>11.0</td>\n",
       "    </tr>\n",
       "    <tr>\n",
       "      <th>3</th>\n",
       "      <td>126.0</td>\n",
       "      <td>157.0</td>\n",
       "      <td>60.0</td>\n",
       "    </tr>\n",
       "    <tr>\n",
       "      <th>4</th>\n",
       "      <td>62.0</td>\n",
       "      <td>46.0</td>\n",
       "      <td>25.0</td>\n",
       "    </tr>\n",
       "    <tr>\n",
       "      <th>5</th>\n",
       "      <td>41.0</td>\n",
       "      <td>121.0</td>\n",
       "      <td>246.0</td>\n",
       "    </tr>\n",
       "    <tr>\n",
       "      <th>6</th>\n",
       "      <td>214.0</td>\n",
       "      <td>175.0</td>\n",
       "      <td>12.0</td>\n",
       "    </tr>\n",
       "    <tr>\n",
       "      <th>7</th>\n",
       "      <td>171.0</td>\n",
       "      <td>203.0</td>\n",
       "      <td>154.0</td>\n",
       "    </tr>\n",
       "    <tr>\n",
       "      <th>8</th>\n",
       "      <td>245.0</td>\n",
       "      <td>236.0</td>\n",
       "      <td>49.0</td>\n",
       "    </tr>\n",
       "    <tr>\n",
       "      <th>9</th>\n",
       "      <td>88.0</td>\n",
       "      <td>160.0</td>\n",
       "      <td>250.0</td>\n",
       "    </tr>\n",
       "  </tbody>\n",
       "</table>\n",
       "</div>"
      ],
      "text/plain": [
       "       r      g      b\n",
       "0  131.0  191.0  246.0\n",
       "1    4.0   86.0  228.0\n",
       "2  172.0  109.0   11.0\n",
       "3  126.0  157.0   60.0\n",
       "4   62.0   46.0   25.0\n",
       "5   41.0  121.0  246.0\n",
       "6  214.0  175.0   12.0\n",
       "7  171.0  203.0  154.0\n",
       "8  245.0  236.0   49.0\n",
       "9   88.0  160.0  250.0"
      ]
     },
     "execution_count": 19,
     "metadata": {},
     "output_type": "execute_result"
    }
   ],
   "source": [
    "kmeans = KMeans(n_clusters=10, n_jobs=-1, random_state=100).fit(df_noxy)\n",
    "centers = kmeans.cluster_centers_\n",
    "centers = np.around(centers, decimals=0)\n",
    "centers_df = pd.DataFrame(centers, columns=['r', 'g', 'b'])\n",
    "centers_df"
   ]
  },
  {
   "cell_type": "code",
   "execution_count": 20,
   "metadata": {},
   "outputs": [
    {
     "data": {
      "text/html": [
       "<div style=\"float: left; width: 50px; height: 50px; background-color: rgb(131.0, 191.0, 246.0); border: 1px solid black; margin-right: 1px\"></div><div style=\"float: left; width: 50px; height: 50px; background-color: rgb(4.0, 86.0, 228.0); border: 1px solid black; margin-right: 1px\"></div><div style=\"float: left; width: 50px; height: 50px; background-color: rgb(172.0, 109.0, 11.0); border: 1px solid black; margin-right: 1px\"></div><div style=\"float: left; width: 50px; height: 50px; background-color: rgb(126.0, 157.0, 60.0); border: 1px solid black; margin-right: 1px\"></div><div style=\"float: left; width: 50px; height: 50px; background-color: rgb(62.0, 46.0, 25.0); border: 1px solid black; margin-right: 1px\"></div><div style=\"float: left; width: 50px; height: 50px; background-color: rgb(41.0, 121.0, 246.0); border: 1px solid black; margin-right: 1px\"></div><div style=\"float: left; width: 50px; height: 50px; background-color: rgb(214.0, 175.0, 12.0); border: 1px solid black; margin-right: 1px\"></div><div style=\"float: left; width: 50px; height: 50px; background-color: rgb(171.0, 203.0, 154.0); border: 1px solid black; margin-right: 1px\"></div><div style=\"float: left; width: 50px; height: 50px; background-color: rgb(245.0, 236.0, 49.0); border: 1px solid black; margin-right: 1px\"></div><div style=\"float: left; width: 50px; height: 50px; background-color: rgb(88.0, 160.0, 250.0); border: 1px solid black; margin-right: 1px\"></div>"
      ],
      "text/plain": [
       "<IPython.core.display.HTML object>"
      ]
     },
     "metadata": {},
     "output_type": "display_data"
    }
   ],
   "source": [
    "html = ''\n",
    "for center in centers:\n",
    "    R, G, B = center\n",
    "    html += f'<div style=\"float: left; width: 50px; height: 50px; background-color: rgb({R}, {G}, {B}); border: 1px solid black; margin-right: 1px\"></div>'\n",
    "display(HTML(html))"
   ]
  },
  {
   "cell_type": "markdown",
   "metadata": {},
   "source": [
    "Пожалуй, для 10 кластеров и без учёта координат пикселей самый приемлемый результат. Возьмём эти параметры как основные для дальнейшей работы, но при недостаточном качестве обучения моделей нужно будет подумать, что поменять.\n",
    "\n",
    "### Усечение цветовой гаммы\n",
    "\n",
    "Выявленные в картинках цвета должны служить признаками для обучения итоговой модели. В RGB-модели общее число цветов — 16 777 216, что слишком много. Попробуем оставить только 6 вариантов каждого цвета, тогда у нас получится 6×6×6 = 216 признаков (это так называемая Web Safe Colors палитра)."
   ]
  },
  {
   "cell_type": "code",
   "execution_count": 21,
   "metadata": {},
   "outputs": [],
   "source": [
    "# Функция приводит компоненту цвета к ближайшему safe-значению\n",
    "def get_safe_color(color):\n",
    "    return int(round((color / 255) * 5) * 51)\n",
    "\n",
    "# Векторизуем функцию для применения к numpy-массивам\n",
    "get_safe_color_vec = np.vectorize(get_safe_color)"
   ]
  },
  {
   "cell_type": "code",
   "execution_count": 22,
   "metadata": {},
   "outputs": [
    {
     "data": {
      "text/html": [
       "<div>\n",
       "<style scoped>\n",
       "    .dataframe tbody tr th:only-of-type {\n",
       "        vertical-align: middle;\n",
       "    }\n",
       "\n",
       "    .dataframe tbody tr th {\n",
       "        vertical-align: top;\n",
       "    }\n",
       "\n",
       "    .dataframe thead th {\n",
       "        text-align: right;\n",
       "    }\n",
       "</style>\n",
       "<table border=\"1\" class=\"dataframe\">\n",
       "  <thead>\n",
       "    <tr style=\"text-align: right;\">\n",
       "      <th></th>\n",
       "      <th>r</th>\n",
       "      <th>g</th>\n",
       "      <th>b</th>\n",
       "    </tr>\n",
       "  </thead>\n",
       "  <tbody>\n",
       "    <tr>\n",
       "      <th>0</th>\n",
       "      <td>153</td>\n",
       "      <td>204</td>\n",
       "      <td>255</td>\n",
       "    </tr>\n",
       "    <tr>\n",
       "      <th>1</th>\n",
       "      <td>0</td>\n",
       "      <td>102</td>\n",
       "      <td>204</td>\n",
       "    </tr>\n",
       "    <tr>\n",
       "      <th>2</th>\n",
       "      <td>153</td>\n",
       "      <td>102</td>\n",
       "      <td>0</td>\n",
       "    </tr>\n",
       "    <tr>\n",
       "      <th>3</th>\n",
       "      <td>102</td>\n",
       "      <td>153</td>\n",
       "      <td>51</td>\n",
       "    </tr>\n",
       "    <tr>\n",
       "      <th>4</th>\n",
       "      <td>51</td>\n",
       "      <td>51</td>\n",
       "      <td>0</td>\n",
       "    </tr>\n",
       "    <tr>\n",
       "      <th>5</th>\n",
       "      <td>51</td>\n",
       "      <td>102</td>\n",
       "      <td>255</td>\n",
       "    </tr>\n",
       "    <tr>\n",
       "      <th>6</th>\n",
       "      <td>204</td>\n",
       "      <td>153</td>\n",
       "      <td>0</td>\n",
       "    </tr>\n",
       "    <tr>\n",
       "      <th>7</th>\n",
       "      <td>153</td>\n",
       "      <td>204</td>\n",
       "      <td>153</td>\n",
       "    </tr>\n",
       "    <tr>\n",
       "      <th>8</th>\n",
       "      <td>255</td>\n",
       "      <td>255</td>\n",
       "      <td>51</td>\n",
       "    </tr>\n",
       "    <tr>\n",
       "      <th>9</th>\n",
       "      <td>102</td>\n",
       "      <td>153</td>\n",
       "      <td>255</td>\n",
       "    </tr>\n",
       "  </tbody>\n",
       "</table>\n",
       "</div>"
      ],
      "text/plain": [
       "     r    g    b\n",
       "0  153  204  255\n",
       "1    0  102  204\n",
       "2  153  102    0\n",
       "3  102  153   51\n",
       "4   51   51    0\n",
       "5   51  102  255\n",
       "6  204  153    0\n",
       "7  153  204  153\n",
       "8  255  255   51\n",
       "9  102  153  255"
      ]
     },
     "execution_count": 22,
     "metadata": {},
     "output_type": "execute_result"
    }
   ],
   "source": [
    "centers_safe = get_safe_color_vec(centers)\n",
    "centers_df = pd.DataFrame(centers_safe, columns=['r', 'g', 'b'])\n",
    "centers_df"
   ]
  },
  {
   "cell_type": "code",
   "execution_count": 23,
   "metadata": {},
   "outputs": [
    {
     "data": {
      "text/html": [
       "<div style=\"float: left; width: 50px; height: 50px; background-color: rgb(153, 204, 255); border: 1px solid black; margin-right: 1px\"></div><div style=\"float: left; width: 50px; height: 50px; background-color: rgb(0, 102, 204); border: 1px solid black; margin-right: 1px\"></div><div style=\"float: left; width: 50px; height: 50px; background-color: rgb(153, 102, 0); border: 1px solid black; margin-right: 1px\"></div><div style=\"float: left; width: 50px; height: 50px; background-color: rgb(102, 153, 51); border: 1px solid black; margin-right: 1px\"></div><div style=\"float: left; width: 50px; height: 50px; background-color: rgb(51, 51, 0); border: 1px solid black; margin-right: 1px\"></div><div style=\"float: left; width: 50px; height: 50px; background-color: rgb(51, 102, 255); border: 1px solid black; margin-right: 1px\"></div><div style=\"float: left; width: 50px; height: 50px; background-color: rgb(204, 153, 0); border: 1px solid black; margin-right: 1px\"></div><div style=\"float: left; width: 50px; height: 50px; background-color: rgb(153, 204, 153); border: 1px solid black; margin-right: 1px\"></div><div style=\"float: left; width: 50px; height: 50px; background-color: rgb(255, 255, 51); border: 1px solid black; margin-right: 1px\"></div><div style=\"float: left; width: 50px; height: 50px; background-color: rgb(102, 153, 255); border: 1px solid black; margin-right: 1px\"></div>"
      ],
      "text/plain": [
       "<IPython.core.display.HTML object>"
      ]
     },
     "metadata": {},
     "output_type": "display_data"
    }
   ],
   "source": [
    "html = ''\n",
    "for center in centers_safe:\n",
    "    R, G, B = center\n",
    "    html += f'<div style=\"float: left; width: 50px; height: 50px; background-color: rgb({R}, {G}, {B}); border: 1px solid black; margin-right: 1px\"></div>'\n",
    "display(HTML(html))"
   ]
  },
  {
   "cell_type": "markdown",
   "metadata": {},
   "source": [
    "Мы получили 10 цветов картинки, которые теперь входят в множество безопасной палитры из 216 цветов. Визуально от прошлого варианта ряд почти не отличается.\n",
    "\n",
    "Протестируем полученный алгоритм на нескольких картинках. Добавим удаление повторяющихся цветов в палитре одной картинки."
   ]
  },
  {
   "cell_type": "code",
   "execution_count": 24,
   "metadata": {},
   "outputs": [
    {
     "name": "stderr",
     "output_type": "stream",
     "text": [
      "  0%|          | 0/10 [00:00<?, ?it/s]"
     ]
    },
    {
     "data": {
      "text/html": [
       "<div>'<img src='img/summer/1001679.jpg' style='float: left; width: 20%; height: 20%; margin-right: 1px'><div style='float: left; width: 50px; height: 50px; background-color: rgb(0, 0, 0); border: 1px solid black; margin-right: 1px'></div><div style='float: left; width: 50px; height: 50px; background-color: rgb(51, 51, 0); border: 1px solid black; margin-right: 1px'></div><div style='float: left; width: 50px; height: 50px; background-color: rgb(51, 102, 0); border: 1px solid black; margin-right: 1px'></div><div style='float: left; width: 50px; height: 50px; background-color: rgb(102, 153, 0); border: 1px solid black; margin-right: 1px'></div><div style='float: left; width: 50px; height: 50px; background-color: rgb(102, 153, 51); border: 1px solid black; margin-right: 1px'></div><div style='float: left; width: 50px; height: 50px; background-color: rgb(153, 153, 0); border: 1px solid black; margin-right: 1px'></div><div style='float: left; width: 50px; height: 50px; background-color: rgb(153, 204, 0); border: 1px solid black; margin-right: 1px'></div><div style='float: left; width: 50px; height: 50px; background-color: rgb(153, 204, 51); border: 1px solid black; margin-right: 1px'></div><div style='float: left; width: 50px; height: 50px; background-color: rgb(204, 204, 51); border: 1px solid black; margin-right: 1px'></div><div style='float: left; width: 50px; height: 50px; background-color: rgb(204, 255, 102); border: 1px solid black; margin-right: 1px'></div></div>"
      ],
      "text/plain": [
       "<IPython.core.display.HTML object>"
      ]
     },
     "metadata": {},
     "output_type": "display_data"
    },
    {
     "name": "stderr",
     "output_type": "stream",
     "text": [
      " 10%|█         | 1/10 [00:12<01:50, 12.30s/it]"
     ]
    },
    {
     "data": {
      "text/html": [
       "<div>'<img src='img/summer/1014712.jpg' style='float: left; width: 20%; height: 20%; margin-right: 1px'><div style='float: left; width: 50px; height: 50px; background-color: rgb(0, 0, 51); border: 1px solid black; margin-right: 1px'></div><div style='float: left; width: 50px; height: 50px; background-color: rgb(0, 102, 204); border: 1px solid black; margin-right: 1px'></div><div style='float: left; width: 50px; height: 50px; background-color: rgb(51, 51, 102); border: 1px solid black; margin-right: 1px'></div><div style='float: left; width: 50px; height: 50px; background-color: rgb(102, 51, 102); border: 1px solid black; margin-right: 1px'></div><div style='float: left; width: 50px; height: 50px; background-color: rgb(102, 102, 204); border: 1px solid black; margin-right: 1px'></div><div style='float: left; width: 50px; height: 50px; background-color: rgb(153, 102, 153); border: 1px solid black; margin-right: 1px'></div><div style='float: left; width: 50px; height: 50px; background-color: rgb(153, 153, 204); border: 1px solid black; margin-right: 1px'></div><div style='float: left; width: 50px; height: 50px; background-color: rgb(204, 102, 153); border: 1px solid black; margin-right: 1px'></div><div style='float: left; width: 50px; height: 50px; background-color: rgb(204, 153, 204); border: 1px solid black; margin-right: 1px'></div><div style='float: left; width: 50px; height: 50px; background-color: rgb(255, 204, 204); border: 1px solid black; margin-right: 1px'></div></div>"
      ],
      "text/plain": [
       "<IPython.core.display.HTML object>"
      ]
     },
     "metadata": {},
     "output_type": "display_data"
    },
    {
     "name": "stderr",
     "output_type": "stream",
     "text": [
      " 20%|██        | 2/10 [00:21<01:31, 11.40s/it]"
     ]
    },
    {
     "data": {
      "text/html": [
       "<div>'<img src='img/summer/1031159.jpg' style='float: left; width: 20%; height: 20%; margin-right: 1px'><div style='float: left; width: 50px; height: 50px; background-color: rgb(0, 102, 51); border: 1px solid black; margin-right: 1px'></div><div style='float: left; width: 50px; height: 50px; background-color: rgb(0, 102, 102); border: 1px solid black; margin-right: 1px'></div><div style='float: left; width: 50px; height: 50px; background-color: rgb(51, 51, 51); border: 1px solid black; margin-right: 1px'></div><div style='float: left; width: 50px; height: 50px; background-color: rgb(102, 102, 51); border: 1px solid black; margin-right: 1px'></div><div style='float: left; width: 50px; height: 50px; background-color: rgb(102, 153, 102); border: 1px solid black; margin-right: 1px'></div><div style='float: left; width: 50px; height: 50px; background-color: rgb(153, 153, 51); border: 1px solid black; margin-right: 1px'></div><div style='float: left; width: 50px; height: 50px; background-color: rgb(153, 153, 153); border: 1px solid black; margin-right: 1px'></div><div style='float: left; width: 50px; height: 50px; background-color: rgb(204, 204, 204); border: 1px solid black; margin-right: 1px'></div></div>"
      ],
      "text/plain": [
       "<IPython.core.display.HTML object>"
      ]
     },
     "metadata": {},
     "output_type": "display_data"
    },
    {
     "name": "stderr",
     "output_type": "stream",
     "text": [
      " 30%|███       | 3/10 [00:34<01:22, 11.85s/it]"
     ]
    },
    {
     "data": {
      "text/html": [
       "<div>'<img src='img/summer/1031719.jpg' style='float: left; width: 20%; height: 20%; margin-right: 1px'><div style='float: left; width: 50px; height: 50px; background-color: rgb(0, 0, 51); border: 1px solid black; margin-right: 1px'></div><div style='float: left; width: 50px; height: 50px; background-color: rgb(51, 51, 51); border: 1px solid black; margin-right: 1px'></div><div style='float: left; width: 50px; height: 50px; background-color: rgb(51, 153, 153); border: 1px solid black; margin-right: 1px'></div><div style='float: left; width: 50px; height: 50px; background-color: rgb(102, 51, 51); border: 1px solid black; margin-right: 1px'></div><div style='float: left; width: 50px; height: 50px; background-color: rgb(102, 102, 102); border: 1px solid black; margin-right: 1px'></div><div style='float: left; width: 50px; height: 50px; background-color: rgb(153, 153, 153); border: 1px solid black; margin-right: 1px'></div><div style='float: left; width: 50px; height: 50px; background-color: rgb(204, 102, 51); border: 1px solid black; margin-right: 1px'></div><div style='float: left; width: 50px; height: 50px; background-color: rgb(255, 153, 51); border: 1px solid black; margin-right: 1px'></div><div style='float: left; width: 50px; height: 50px; background-color: rgb(255, 204, 153); border: 1px solid black; margin-right: 1px'></div></div>"
      ],
      "text/plain": [
       "<IPython.core.display.HTML object>"
      ]
     },
     "metadata": {},
     "output_type": "display_data"
    },
    {
     "name": "stderr",
     "output_type": "stream",
     "text": [
      " 40%|████      | 4/10 [00:45<01:09, 11.58s/it]"
     ]
    },
    {
     "data": {
      "text/html": [
       "<div>'<img src='img/summer/1038148.jpg' style='float: left; width: 20%; height: 20%; margin-right: 1px'><div style='float: left; width: 50px; height: 50px; background-color: rgb(51, 51, 51); border: 1px solid black; margin-right: 1px'></div><div style='float: left; width: 50px; height: 50px; background-color: rgb(51, 51, 102); border: 1px solid black; margin-right: 1px'></div><div style='float: left; width: 50px; height: 50px; background-color: rgb(51, 102, 204); border: 1px solid black; margin-right: 1px'></div><div style='float: left; width: 50px; height: 50px; background-color: rgb(102, 102, 51); border: 1px solid black; margin-right: 1px'></div><div style='float: left; width: 50px; height: 50px; background-color: rgb(102, 153, 204); border: 1px solid black; margin-right: 1px'></div><div style='float: left; width: 50px; height: 50px; background-color: rgb(153, 102, 153); border: 1px solid black; margin-right: 1px'></div><div style='float: left; width: 50px; height: 50px; background-color: rgb(153, 153, 102); border: 1px solid black; margin-right: 1px'></div><div style='float: left; width: 50px; height: 50px; background-color: rgb(204, 153, 153); border: 1px solid black; margin-right: 1px'></div><div style='float: left; width: 50px; height: 50px; background-color: rgb(204, 153, 204); border: 1px solid black; margin-right: 1px'></div></div>"
      ],
      "text/plain": [
       "<IPython.core.display.HTML object>"
      ]
     },
     "metadata": {},
     "output_type": "display_data"
    },
    {
     "name": "stderr",
     "output_type": "stream",
     "text": [
      " 50%|█████     | 5/10 [00:56<00:57, 11.48s/it]"
     ]
    },
    {
     "data": {
      "text/html": [
       "<div>'<img src='img/summer/1046475.jpg' style='float: left; width: 20%; height: 20%; margin-right: 1px'><div style='float: left; width: 50px; height: 50px; background-color: rgb(0, 0, 0); border: 1px solid black; margin-right: 1px'></div><div style='float: left; width: 50px; height: 50px; background-color: rgb(51, 51, 0); border: 1px solid black; margin-right: 1px'></div><div style='float: left; width: 50px; height: 50px; background-color: rgb(102, 51, 0); border: 1px solid black; margin-right: 1px'></div><div style='float: left; width: 50px; height: 50px; background-color: rgb(153, 51, 0); border: 1px solid black; margin-right: 1px'></div><div style='float: left; width: 50px; height: 50px; background-color: rgb(153, 51, 51); border: 1px solid black; margin-right: 1px'></div><div style='float: left; width: 50px; height: 50px; background-color: rgb(204, 102, 0); border: 1px solid black; margin-right: 1px'></div><div style='float: left; width: 50px; height: 50px; background-color: rgb(255, 102, 51); border: 1px solid black; margin-right: 1px'></div><div style='float: left; width: 50px; height: 50px; background-color: rgb(255, 153, 51); border: 1px solid black; margin-right: 1px'></div><div style='float: left; width: 50px; height: 50px; background-color: rgb(255, 204, 102); border: 1px solid black; margin-right: 1px'></div></div>"
      ],
      "text/plain": [
       "<IPython.core.display.HTML object>"
      ]
     },
     "metadata": {},
     "output_type": "display_data"
    },
    {
     "name": "stderr",
     "output_type": "stream",
     "text": [
      " 60%|██████    | 6/10 [01:05<00:42, 10.57s/it]"
     ]
    },
    {
     "data": {
      "text/html": [
       "<div>'<img src='img/summer/1050828.jpg' style='float: left; width: 20%; height: 20%; margin-right: 1px'><div style='float: left; width: 50px; height: 50px; background-color: rgb(0, 0, 0); border: 1px solid black; margin-right: 1px'></div><div style='float: left; width: 50px; height: 50px; background-color: rgb(51, 51, 51); border: 1px solid black; margin-right: 1px'></div><div style='float: left; width: 50px; height: 50px; background-color: rgb(102, 51, 51); border: 1px solid black; margin-right: 1px'></div><div style='float: left; width: 50px; height: 50px; background-color: rgb(102, 102, 102); border: 1px solid black; margin-right: 1px'></div><div style='float: left; width: 50px; height: 50px; background-color: rgb(153, 102, 51); border: 1px solid black; margin-right: 1px'></div><div style='float: left; width: 50px; height: 50px; background-color: rgb(153, 153, 153); border: 1px solid black; margin-right: 1px'></div><div style='float: left; width: 50px; height: 50px; background-color: rgb(204, 153, 102); border: 1px solid black; margin-right: 1px'></div><div style='float: left; width: 50px; height: 50px; background-color: rgb(204, 153, 153); border: 1px solid black; margin-right: 1px'></div></div>"
      ],
      "text/plain": [
       "<IPython.core.display.HTML object>"
      ]
     },
     "metadata": {},
     "output_type": "display_data"
    },
    {
     "name": "stderr",
     "output_type": "stream",
     "text": [
      " 70%|███████   | 7/10 [01:16<00:32, 10.70s/it]"
     ]
    },
    {
     "data": {
      "text/html": [
       "<div>'<img src='img/summer/1074997.jpg' style='float: left; width: 20%; height: 20%; margin-right: 1px'><div style='float: left; width: 50px; height: 50px; background-color: rgb(102, 51, 0); border: 1px solid black; margin-right: 1px'></div><div style='float: left; width: 50px; height: 50px; background-color: rgb(153, 51, 0); border: 1px solid black; margin-right: 1px'></div><div style='float: left; width: 50px; height: 50px; background-color: rgb(153, 102, 51); border: 1px solid black; margin-right: 1px'></div><div style='float: left; width: 50px; height: 50px; background-color: rgb(204, 102, 0); border: 1px solid black; margin-right: 1px'></div><div style='float: left; width: 50px; height: 50px; background-color: rgb(204, 102, 51); border: 1px solid black; margin-right: 1px'></div><div style='float: left; width: 50px; height: 50px; background-color: rgb(204, 153, 102); border: 1px solid black; margin-right: 1px'></div><div style='float: left; width: 50px; height: 50px; background-color: rgb(255, 153, 0); border: 1px solid black; margin-right: 1px'></div><div style='float: left; width: 50px; height: 50px; background-color: rgb(255, 204, 102); border: 1px solid black; margin-right: 1px'></div><div style='float: left; width: 50px; height: 50px; background-color: rgb(255, 204, 153); border: 1px solid black; margin-right: 1px'></div><div style='float: left; width: 50px; height: 50px; background-color: rgb(255, 255, 255); border: 1px solid black; margin-right: 1px'></div></div>"
      ],
      "text/plain": [
       "<IPython.core.display.HTML object>"
      ]
     },
     "metadata": {},
     "output_type": "display_data"
    },
    {
     "name": "stderr",
     "output_type": "stream",
     "text": [
      " 80%|████████  | 8/10 [01:26<00:21, 10.71s/it]"
     ]
    },
    {
     "data": {
      "text/html": [
       "<div>'<img src='img/summer/1081972.jpg' style='float: left; width: 20%; height: 20%; margin-right: 1px'><div style='float: left; width: 50px; height: 50px; background-color: rgb(51, 51, 51); border: 1px solid black; margin-right: 1px'></div><div style='float: left; width: 50px; height: 50px; background-color: rgb(51, 51, 102); border: 1px solid black; margin-right: 1px'></div><div style='float: left; width: 50px; height: 50px; background-color: rgb(51, 102, 102); border: 1px solid black; margin-right: 1px'></div><div style='float: left; width: 50px; height: 50px; background-color: rgb(102, 102, 102); border: 1px solid black; margin-right: 1px'></div><div style='float: left; width: 50px; height: 50px; background-color: rgb(102, 102, 153); border: 1px solid black; margin-right: 1px'></div><div style='float: left; width: 50px; height: 50px; background-color: rgb(153, 153, 153); border: 1px solid black; margin-right: 1px'></div><div style='float: left; width: 50px; height: 50px; background-color: rgb(153, 153, 204); border: 1px solid black; margin-right: 1px'></div><div style='float: left; width: 50px; height: 50px; background-color: rgb(204, 204, 204); border: 1px solid black; margin-right: 1px'></div></div>"
      ],
      "text/plain": [
       "<IPython.core.display.HTML object>"
      ]
     },
     "metadata": {},
     "output_type": "display_data"
    },
    {
     "name": "stderr",
     "output_type": "stream",
     "text": [
      " 90%|█████████ | 9/10 [01:37<00:10, 10.75s/it]"
     ]
    },
    {
     "data": {
      "text/html": [
       "<div>'<img src='img/summer/1115428.jpg' style='float: left; width: 20%; height: 20%; margin-right: 1px'><div style='float: left; width: 50px; height: 50px; background-color: rgb(51, 0, 0); border: 1px solid black; margin-right: 1px'></div><div style='float: left; width: 50px; height: 50px; background-color: rgb(102, 51, 0); border: 1px solid black; margin-right: 1px'></div><div style='float: left; width: 50px; height: 50px; background-color: rgb(153, 51, 0); border: 1px solid black; margin-right: 1px'></div><div style='float: left; width: 50px; height: 50px; background-color: rgb(153, 102, 0); border: 1px solid black; margin-right: 1px'></div><div style='float: left; width: 50px; height: 50px; background-color: rgb(204, 102, 0); border: 1px solid black; margin-right: 1px'></div><div style='float: left; width: 50px; height: 50px; background-color: rgb(255, 153, 0); border: 1px solid black; margin-right: 1px'></div><div style='float: left; width: 50px; height: 50px; background-color: rgb(255, 204, 51); border: 1px solid black; margin-right: 1px'></div><div style='float: left; width: 50px; height: 50px; background-color: rgb(255, 204, 102); border: 1px solid black; margin-right: 1px'></div><div style='float: left; width: 50px; height: 50px; background-color: rgb(255, 255, 204); border: 1px solid black; margin-right: 1px'></div></div>"
      ],
      "text/plain": [
       "<IPython.core.display.HTML object>"
      ]
     },
     "metadata": {},
     "output_type": "display_data"
    },
    {
     "name": "stderr",
     "output_type": "stream",
     "text": [
      "100%|██████████| 10/10 [01:42<00:00, 10.22s/it]\n"
     ]
    }
   ],
   "source": [
    "import os\n",
    "\n",
    "# Считываем файлы из папки\n",
    "files = os.listdir('img/summer')\n",
    "files = files[:10]\n",
    "for file in tqdm(files):\n",
    "    # Загружаем картинку, создаём датафрейм из пикселей\n",
    "    with Image.open(f\"img/summer/{file}\") as im:\n",
    "        px = im.load()\n",
    "    arr = []\n",
    "    for i in range(im.size[0]):\n",
    "        for j in range(im.size[1]):\n",
    "            r, g, b = px[i,j]\n",
    "            arr.append([r, g, b])\n",
    "    df = pd.DataFrame(arr, columns=['r', 'g', 'b'])\n",
    "    # Делаем кластеризацию\n",
    "    kmeans = KMeans(n_clusters=10, n_jobs=-1).fit(df)\n",
    "    centers = kmeans.cluster_centers_\n",
    "    # Приводим цвета к безопасной гамме, удаляем повторы\n",
    "    centers = get_safe_color_vec(centers)\n",
    "    centers = np.unique(centers, axis=0)\n",
    "    # Выводим картинку и цветовую гамму.\n",
    "    html = '<div>'\n",
    "    html += f\"'<img src='img/summer/{file}' style='float: left; width: 20%; height: 20%; margin-right: 1px'>\"\n",
    "    for center in centers:\n",
    "        R, G, B = center\n",
    "        html += f\"<div style='float: left; width: 50px; height: 50px; background-color: rgb({R}, {G}, {B}); border: 1px solid black; margin-right: 1px'></div>\"\n",
    "    html += '</div>'\n",
    "    display(HTML(html))"
   ]
  }
 ],
 "metadata": {
  "kernelspec": {
   "display_name": "Python 3",
   "language": "python",
   "name": "python3"
  },
  "language_info": {
   "codemirror_mode": {
    "name": "ipython",
    "version": 3
   },
   "file_extension": ".py",
   "mimetype": "text/x-python",
   "name": "python",
   "nbconvert_exporter": "python",
   "pygments_lexer": "ipython3",
   "version": "3.8.5"
  }
 },
 "nbformat": 4,
 "nbformat_minor": 4
}
