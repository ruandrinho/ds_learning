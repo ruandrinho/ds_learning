{
 "cells": [
  {
   "cell_type": "markdown",
   "metadata": {},
   "source": [
    "# Симуляция распространения болезни по авиарейсам"
   ]
  },
  {
   "cell_type": "markdown",
   "metadata": {},
   "source": [
    "Импорт необходимых библиотек."
   ]
  },
  {
   "cell_type": "code",
   "execution_count": 2,
   "metadata": {
    "colab": {
     "autoexec": {
      "startup": false,
      "wait_interval": 0
     }
    },
    "colab_type": "code",
    "id": "JA_Lq-3mWJpx"
   },
   "outputs": [],
   "source": [
    "import numpy as np\n",
    "import pandas as pd\n",
    "import matplotlib.pyplot as plt\n",
    "%matplotlib inline\n",
    "plt.rcParams[\"figure.figsize\"] = [15, 12]\n",
    "\n",
    "import networkx as nx\n",
    "from networkx.readwrite import json_graph\n",
    "from networkx.algorithms import community"
   ]
  },
  {
   "cell_type": "markdown",
   "metadata": {},
   "source": [
    "Загрузка датасета аэропортов."
   ]
  },
  {
   "cell_type": "code",
   "execution_count": 3,
   "metadata": {},
   "outputs": [
    {
     "data": {
      "text/html": [
       "<div>\n",
       "<style scoped>\n",
       "    .dataframe tbody tr th:only-of-type {\n",
       "        vertical-align: middle;\n",
       "    }\n",
       "\n",
       "    .dataframe tbody tr th {\n",
       "        vertical-align: top;\n",
       "    }\n",
       "\n",
       "    .dataframe thead th {\n",
       "        text-align: right;\n",
       "    }\n",
       "</style>\n",
       "<table border=\"1\" class=\"dataframe\">\n",
       "  <thead>\n",
       "    <tr style=\"text-align: right;\">\n",
       "      <th></th>\n",
       "      <th>id</th>\n",
       "      <th>symbol</th>\n",
       "      <th>airport name</th>\n",
       "      <th>city</th>\n",
       "      <th>latitude</th>\n",
       "      <th>longitude</th>\n",
       "      <th>xcoordviz</th>\n",
       "      <th>ycoordviz</th>\n",
       "    </tr>\n",
       "  </thead>\n",
       "  <tbody>\n",
       "    <tr>\n",
       "      <th>0</th>\n",
       "      <td>0</td>\n",
       "      <td>ABE</td>\n",
       "      <td>Lehigh Valley Intl</td>\n",
       "      <td>Allentown</td>\n",
       "      <td>40.652083</td>\n",
       "      <td>-75.440806</td>\n",
       "      <td>1.926093e+06</td>\n",
       "      <td>337357.529978</td>\n",
       "    </tr>\n",
       "    <tr>\n",
       "      <th>1</th>\n",
       "      <td>1</td>\n",
       "      <td>CLE</td>\n",
       "      <td>Cleveland Hopkins Intl</td>\n",
       "      <td>Cleveland</td>\n",
       "      <td>41.411689</td>\n",
       "      <td>-81.849794</td>\n",
       "      <td>1.384469e+06</td>\n",
       "      <td>302554.338074</td>\n",
       "    </tr>\n",
       "    <tr>\n",
       "      <th>2</th>\n",
       "      <td>2</td>\n",
       "      <td>CLT</td>\n",
       "      <td>Charlotte Douglas Intl</td>\n",
       "      <td>Charlotte</td>\n",
       "      <td>35.214000</td>\n",
       "      <td>-80.943139</td>\n",
       "      <td>1.590611e+06</td>\n",
       "      <td>-355004.415565</td>\n",
       "    </tr>\n",
       "    <tr>\n",
       "      <th>3</th>\n",
       "      <td>3</td>\n",
       "      <td>ORD</td>\n",
       "      <td>Chicago Ohare Intl</td>\n",
       "      <td>Chicago</td>\n",
       "      <td>41.978603</td>\n",
       "      <td>-87.904842</td>\n",
       "      <td>8.790187e+05</td>\n",
       "      <td>289127.727396</td>\n",
       "    </tr>\n",
       "    <tr>\n",
       "      <th>4</th>\n",
       "      <td>4</td>\n",
       "      <td>ATL</td>\n",
       "      <td>Hartsfield Jackson Atlanta Intl</td>\n",
       "      <td>Atlanta</td>\n",
       "      <td>33.636719</td>\n",
       "      <td>-84.428067</td>\n",
       "      <td>1.306257e+06</td>\n",
       "      <td>-582505.812325</td>\n",
       "    </tr>\n",
       "    <tr>\n",
       "      <th>...</th>\n",
       "      <td>...</td>\n",
       "      <td>...</td>\n",
       "      <td>...</td>\n",
       "      <td>...</td>\n",
       "      <td>...</td>\n",
       "      <td>...</td>\n",
       "      <td>...</td>\n",
       "      <td>...</td>\n",
       "    </tr>\n",
       "    <tr>\n",
       "      <th>274</th>\n",
       "      <td>274</td>\n",
       "      <td>RDD</td>\n",
       "      <td>Redding Muni</td>\n",
       "      <td>Redding</td>\n",
       "      <td>40.509000</td>\n",
       "      <td>-122.293389</td>\n",
       "      <td>-1.976890e+06</td>\n",
       "      <td>334403.078441</td>\n",
       "    </tr>\n",
       "    <tr>\n",
       "      <th>275</th>\n",
       "      <td>275</td>\n",
       "      <td>SUN</td>\n",
       "      <td>Friedman Mem</td>\n",
       "      <td>Hailey</td>\n",
       "      <td>43.504444</td>\n",
       "      <td>-114.296194</td>\n",
       "      <td>-1.261565e+06</td>\n",
       "      <td>515731.793677</td>\n",
       "    </tr>\n",
       "    <tr>\n",
       "      <th>276</th>\n",
       "      <td>276</td>\n",
       "      <td>TWF</td>\n",
       "      <td>Magic Valley Regional Airport</td>\n",
       "      <td>Twin Falls</td>\n",
       "      <td>42.481803</td>\n",
       "      <td>-114.487733</td>\n",
       "      <td>-1.296508e+06</td>\n",
       "      <td>406881.420680</td>\n",
       "    </tr>\n",
       "    <tr>\n",
       "      <th>277</th>\n",
       "      <td>277</td>\n",
       "      <td>RHI</td>\n",
       "      <td>Rhinelander Oneida County Airport</td>\n",
       "      <td>Rhinelander</td>\n",
       "      <td>45.631200</td>\n",
       "      <td>-89.467500</td>\n",
       "      <td>7.102613e+05</td>\n",
       "      <td>678171.825235</td>\n",
       "    </tr>\n",
       "    <tr>\n",
       "      <th>278</th>\n",
       "      <td>278</td>\n",
       "      <td>TEX</td>\n",
       "      <td>Telluride</td>\n",
       "      <td>Telluride</td>\n",
       "      <td>37.953759</td>\n",
       "      <td>-107.908480</td>\n",
       "      <td>-8.141072e+05</td>\n",
       "      <td>-165339.105983</td>\n",
       "    </tr>\n",
       "  </tbody>\n",
       "</table>\n",
       "<p>279 rows × 8 columns</p>\n",
       "</div>"
      ],
      "text/plain": [
       "      id symbol                       airport name         city   latitude  \\\n",
       "0      0    ABE                 Lehigh Valley Intl    Allentown  40.652083   \n",
       "1      1    CLE             Cleveland Hopkins Intl    Cleveland  41.411689   \n",
       "2      2    CLT             Charlotte Douglas Intl    Charlotte  35.214000   \n",
       "3      3    ORD                 Chicago Ohare Intl      Chicago  41.978603   \n",
       "4      4    ATL    Hartsfield Jackson Atlanta Intl      Atlanta  33.636719   \n",
       "..   ...    ...                                ...          ...        ...   \n",
       "274  274    RDD                       Redding Muni      Redding  40.509000   \n",
       "275  275    SUN                       Friedman Mem       Hailey  43.504444   \n",
       "276  276    TWF      Magic Valley Regional Airport   Twin Falls  42.481803   \n",
       "277  277    RHI  Rhinelander Oneida County Airport  Rhinelander  45.631200   \n",
       "278  278    TEX                          Telluride    Telluride  37.953759   \n",
       "\n",
       "      longitude     xcoordviz      ycoordviz  \n",
       "0    -75.440806  1.926093e+06  337357.529978  \n",
       "1    -81.849794  1.384469e+06  302554.338074  \n",
       "2    -80.943139  1.590611e+06 -355004.415565  \n",
       "3    -87.904842  8.790187e+05  289127.727396  \n",
       "4    -84.428067  1.306257e+06 -582505.812325  \n",
       "..          ...           ...            ...  \n",
       "274 -122.293389 -1.976890e+06  334403.078441  \n",
       "275 -114.296194 -1.261565e+06  515731.793677  \n",
       "276 -114.487733 -1.296508e+06  406881.420680  \n",
       "277  -89.467500  7.102613e+05  678171.825235  \n",
       "278 -107.908480 -8.141072e+05 -165339.105983  \n",
       "\n",
       "[279 rows x 8 columns]"
      ]
     },
     "execution_count": 3,
     "metadata": {},
     "output_type": "execute_result"
    }
   ],
   "source": [
    "airports = pd.read_csv('US_airport_id_info-1801-b70d72.csv')\n",
    "airports"
   ]
  },
  {
   "cell_type": "markdown",
   "metadata": {},
   "source": [
    "Загрузка датасета рейсов."
   ]
  },
  {
   "cell_type": "code",
   "execution_count": 4,
   "metadata": {},
   "outputs": [
    {
     "data": {
      "text/html": [
       "<div>\n",
       "<style scoped>\n",
       "    .dataframe tbody tr th:only-of-type {\n",
       "        vertical-align: middle;\n",
       "    }\n",
       "\n",
       "    .dataframe tbody tr th {\n",
       "        vertical-align: top;\n",
       "    }\n",
       "\n",
       "    .dataframe thead th {\n",
       "        text-align: right;\n",
       "    }\n",
       "</style>\n",
       "<table border=\"1\" class=\"dataframe\">\n",
       "  <thead>\n",
       "    <tr style=\"text-align: right;\">\n",
       "      <th></th>\n",
       "      <th>Source</th>\n",
       "      <th>Destination</th>\n",
       "      <th>StartTime</th>\n",
       "      <th>EndTime</th>\n",
       "      <th>Duration</th>\n",
       "    </tr>\n",
       "  </thead>\n",
       "  <tbody>\n",
       "    <tr>\n",
       "      <th>0</th>\n",
       "      <td>0</td>\n",
       "      <td>1</td>\n",
       "      <td>1229286900</td>\n",
       "      <td>1.229292e+09</td>\n",
       "      <td>4620.0</td>\n",
       "    </tr>\n",
       "    <tr>\n",
       "      <th>1</th>\n",
       "      <td>0</td>\n",
       "      <td>1</td>\n",
       "      <td>1229272800</td>\n",
       "      <td>1.229277e+09</td>\n",
       "      <td>4500.0</td>\n",
       "    </tr>\n",
       "    <tr>\n",
       "      <th>2</th>\n",
       "      <td>0</td>\n",
       "      <td>2</td>\n",
       "      <td>1229285640</td>\n",
       "      <td>1.229292e+09</td>\n",
       "      <td>5880.0</td>\n",
       "    </tr>\n",
       "    <tr>\n",
       "      <th>3</th>\n",
       "      <td>0</td>\n",
       "      <td>3</td>\n",
       "      <td>1229268060</td>\n",
       "      <td>1.229276e+09</td>\n",
       "      <td>7980.0</td>\n",
       "    </tr>\n",
       "    <tr>\n",
       "      <th>4</th>\n",
       "      <td>0</td>\n",
       "      <td>3</td>\n",
       "      <td>1229284740</td>\n",
       "      <td>1.229293e+09</td>\n",
       "      <td>8400.0</td>\n",
       "    </tr>\n",
       "    <tr>\n",
       "      <th>...</th>\n",
       "      <td>...</td>\n",
       "      <td>...</td>\n",
       "      <td>...</td>\n",
       "      <td>...</td>\n",
       "      <td>...</td>\n",
       "    </tr>\n",
       "    <tr>\n",
       "      <th>61367</th>\n",
       "      <td>31</td>\n",
       "      <td>142</td>\n",
       "      <td>1229538300</td>\n",
       "      <td>1.229543e+09</td>\n",
       "      <td>5100.0</td>\n",
       "    </tr>\n",
       "    <tr>\n",
       "      <th>61368</th>\n",
       "      <td>31</td>\n",
       "      <td>16</td>\n",
       "      <td>1229528100</td>\n",
       "      <td>1.229541e+09</td>\n",
       "      <td>13080.0</td>\n",
       "    </tr>\n",
       "    <tr>\n",
       "      <th>61369</th>\n",
       "      <td>31</td>\n",
       "      <td>24</td>\n",
       "      <td>1229528100</td>\n",
       "      <td>1.229539e+09</td>\n",
       "      <td>10560.0</td>\n",
       "    </tr>\n",
       "    <tr>\n",
       "      <th>61370</th>\n",
       "      <td>31</td>\n",
       "      <td>23</td>\n",
       "      <td>1229518200</td>\n",
       "      <td>1.229535e+09</td>\n",
       "      <td>16740.0</td>\n",
       "    </tr>\n",
       "    <tr>\n",
       "      <th>61371</th>\n",
       "      <td>31</td>\n",
       "      <td>95</td>\n",
       "      <td>1229512500</td>\n",
       "      <td>NaN</td>\n",
       "      <td>NaN</td>\n",
       "    </tr>\n",
       "  </tbody>\n",
       "</table>\n",
       "<p>61372 rows × 5 columns</p>\n",
       "</div>"
      ],
      "text/plain": [
       "       Source  Destination   StartTime       EndTime  Duration\n",
       "0           0            1  1229286900  1.229292e+09    4620.0\n",
       "1           0            1  1229272800  1.229277e+09    4500.0\n",
       "2           0            2  1229285640  1.229292e+09    5880.0\n",
       "3           0            3  1229268060  1.229276e+09    7980.0\n",
       "4           0            3  1229284740  1.229293e+09    8400.0\n",
       "...       ...          ...         ...           ...       ...\n",
       "61367      31          142  1229538300  1.229543e+09    5100.0\n",
       "61368      31           16  1229528100  1.229541e+09   13080.0\n",
       "61369      31           24  1229528100  1.229539e+09   10560.0\n",
       "61370      31           23  1229518200  1.229535e+09   16740.0\n",
       "61371      31           95  1229512500           NaN       NaN\n",
       "\n",
       "[61372 rows x 5 columns]"
      ]
     },
     "execution_count": 4,
     "metadata": {},
     "output_type": "execute_result"
    }
   ],
   "source": [
    "flights = pd.read_csv('events_US_air_traffic_GMT-1801-4d20a3.txt', sep=' ')\n",
    "flights"
   ]
  },
  {
   "cell_type": "markdown",
   "metadata": {},
   "source": [
    "Подсчитаем пропуски и удалим рейсы с ними."
   ]
  },
  {
   "cell_type": "code",
   "execution_count": 5,
   "metadata": {},
   "outputs": [
    {
     "data": {
      "text/plain": [
       "2"
      ]
     },
     "execution_count": 5,
     "metadata": {},
     "output_type": "execute_result"
    }
   ],
   "source": [
    "flights.isna().sum().sum()"
   ]
  },
  {
   "cell_type": "code",
   "execution_count": 6,
   "metadata": {},
   "outputs": [
    {
     "data": {
      "text/plain": [
       "0"
      ]
     },
     "execution_count": 6,
     "metadata": {},
     "output_type": "execute_result"
    }
   ],
   "source": [
    "flights.dropna(inplace = True)\n",
    "flights.isna().sum().sum()"
   ]
  },
  {
   "cell_type": "markdown",
   "metadata": {},
   "source": [
    "Создадим колонку для времени заражения аэропорта."
   ]
  },
  {
   "cell_type": "code",
   "execution_count": 7,
   "metadata": {},
   "outputs": [
    {
     "data": {
      "text/html": [
       "<div>\n",
       "<style scoped>\n",
       "    .dataframe tbody tr th:only-of-type {\n",
       "        vertical-align: middle;\n",
       "    }\n",
       "\n",
       "    .dataframe tbody tr th {\n",
       "        vertical-align: top;\n",
       "    }\n",
       "\n",
       "    .dataframe thead th {\n",
       "        text-align: right;\n",
       "    }\n",
       "</style>\n",
       "<table border=\"1\" class=\"dataframe\">\n",
       "  <thead>\n",
       "    <tr style=\"text-align: right;\">\n",
       "      <th></th>\n",
       "      <th>id</th>\n",
       "      <th>symbol</th>\n",
       "      <th>airport name</th>\n",
       "      <th>city</th>\n",
       "      <th>latitude</th>\n",
       "      <th>longitude</th>\n",
       "      <th>xcoordviz</th>\n",
       "      <th>ycoordviz</th>\n",
       "      <th>infection time</th>\n",
       "    </tr>\n",
       "  </thead>\n",
       "  <tbody>\n",
       "    <tr>\n",
       "      <th>0</th>\n",
       "      <td>0</td>\n",
       "      <td>ABE</td>\n",
       "      <td>Lehigh Valley Intl</td>\n",
       "      <td>Allentown</td>\n",
       "      <td>40.652083</td>\n",
       "      <td>-75.440806</td>\n",
       "      <td>1.926093e+06</td>\n",
       "      <td>337357.529978</td>\n",
       "      <td>0</td>\n",
       "    </tr>\n",
       "    <tr>\n",
       "      <th>1</th>\n",
       "      <td>1</td>\n",
       "      <td>CLE</td>\n",
       "      <td>Cleveland Hopkins Intl</td>\n",
       "      <td>Cleveland</td>\n",
       "      <td>41.411689</td>\n",
       "      <td>-81.849794</td>\n",
       "      <td>1.384469e+06</td>\n",
       "      <td>302554.338074</td>\n",
       "      <td>0</td>\n",
       "    </tr>\n",
       "    <tr>\n",
       "      <th>2</th>\n",
       "      <td>2</td>\n",
       "      <td>CLT</td>\n",
       "      <td>Charlotte Douglas Intl</td>\n",
       "      <td>Charlotte</td>\n",
       "      <td>35.214000</td>\n",
       "      <td>-80.943139</td>\n",
       "      <td>1.590611e+06</td>\n",
       "      <td>-355004.415565</td>\n",
       "      <td>0</td>\n",
       "    </tr>\n",
       "    <tr>\n",
       "      <th>3</th>\n",
       "      <td>3</td>\n",
       "      <td>ORD</td>\n",
       "      <td>Chicago Ohare Intl</td>\n",
       "      <td>Chicago</td>\n",
       "      <td>41.978603</td>\n",
       "      <td>-87.904842</td>\n",
       "      <td>8.790187e+05</td>\n",
       "      <td>289127.727396</td>\n",
       "      <td>0</td>\n",
       "    </tr>\n",
       "    <tr>\n",
       "      <th>4</th>\n",
       "      <td>4</td>\n",
       "      <td>ATL</td>\n",
       "      <td>Hartsfield Jackson Atlanta Intl</td>\n",
       "      <td>Atlanta</td>\n",
       "      <td>33.636719</td>\n",
       "      <td>-84.428067</td>\n",
       "      <td>1.306257e+06</td>\n",
       "      <td>-582505.812325</td>\n",
       "      <td>0</td>\n",
       "    </tr>\n",
       "    <tr>\n",
       "      <th>...</th>\n",
       "      <td>...</td>\n",
       "      <td>...</td>\n",
       "      <td>...</td>\n",
       "      <td>...</td>\n",
       "      <td>...</td>\n",
       "      <td>...</td>\n",
       "      <td>...</td>\n",
       "      <td>...</td>\n",
       "      <td>...</td>\n",
       "    </tr>\n",
       "    <tr>\n",
       "      <th>274</th>\n",
       "      <td>274</td>\n",
       "      <td>RDD</td>\n",
       "      <td>Redding Muni</td>\n",
       "      <td>Redding</td>\n",
       "      <td>40.509000</td>\n",
       "      <td>-122.293389</td>\n",
       "      <td>-1.976890e+06</td>\n",
       "      <td>334403.078441</td>\n",
       "      <td>0</td>\n",
       "    </tr>\n",
       "    <tr>\n",
       "      <th>275</th>\n",
       "      <td>275</td>\n",
       "      <td>SUN</td>\n",
       "      <td>Friedman Mem</td>\n",
       "      <td>Hailey</td>\n",
       "      <td>43.504444</td>\n",
       "      <td>-114.296194</td>\n",
       "      <td>-1.261565e+06</td>\n",
       "      <td>515731.793677</td>\n",
       "      <td>0</td>\n",
       "    </tr>\n",
       "    <tr>\n",
       "      <th>276</th>\n",
       "      <td>276</td>\n",
       "      <td>TWF</td>\n",
       "      <td>Magic Valley Regional Airport</td>\n",
       "      <td>Twin Falls</td>\n",
       "      <td>42.481803</td>\n",
       "      <td>-114.487733</td>\n",
       "      <td>-1.296508e+06</td>\n",
       "      <td>406881.420680</td>\n",
       "      <td>0</td>\n",
       "    </tr>\n",
       "    <tr>\n",
       "      <th>277</th>\n",
       "      <td>277</td>\n",
       "      <td>RHI</td>\n",
       "      <td>Rhinelander Oneida County Airport</td>\n",
       "      <td>Rhinelander</td>\n",
       "      <td>45.631200</td>\n",
       "      <td>-89.467500</td>\n",
       "      <td>7.102613e+05</td>\n",
       "      <td>678171.825235</td>\n",
       "      <td>0</td>\n",
       "    </tr>\n",
       "    <tr>\n",
       "      <th>278</th>\n",
       "      <td>278</td>\n",
       "      <td>TEX</td>\n",
       "      <td>Telluride</td>\n",
       "      <td>Telluride</td>\n",
       "      <td>37.953759</td>\n",
       "      <td>-107.908480</td>\n",
       "      <td>-8.141072e+05</td>\n",
       "      <td>-165339.105983</td>\n",
       "      <td>0</td>\n",
       "    </tr>\n",
       "  </tbody>\n",
       "</table>\n",
       "<p>279 rows × 9 columns</p>\n",
       "</div>"
      ],
      "text/plain": [
       "      id symbol                       airport name         city   latitude  \\\n",
       "0      0    ABE                 Lehigh Valley Intl    Allentown  40.652083   \n",
       "1      1    CLE             Cleveland Hopkins Intl    Cleveland  41.411689   \n",
       "2      2    CLT             Charlotte Douglas Intl    Charlotte  35.214000   \n",
       "3      3    ORD                 Chicago Ohare Intl      Chicago  41.978603   \n",
       "4      4    ATL    Hartsfield Jackson Atlanta Intl      Atlanta  33.636719   \n",
       "..   ...    ...                                ...          ...        ...   \n",
       "274  274    RDD                       Redding Muni      Redding  40.509000   \n",
       "275  275    SUN                       Friedman Mem       Hailey  43.504444   \n",
       "276  276    TWF      Magic Valley Regional Airport   Twin Falls  42.481803   \n",
       "277  277    RHI  Rhinelander Oneida County Airport  Rhinelander  45.631200   \n",
       "278  278    TEX                          Telluride    Telluride  37.953759   \n",
       "\n",
       "      longitude     xcoordviz      ycoordviz  infection time  \n",
       "0    -75.440806  1.926093e+06  337357.529978               0  \n",
       "1    -81.849794  1.384469e+06  302554.338074               0  \n",
       "2    -80.943139  1.590611e+06 -355004.415565               0  \n",
       "3    -87.904842  8.790187e+05  289127.727396               0  \n",
       "4    -84.428067  1.306257e+06 -582505.812325               0  \n",
       "..          ...           ...            ...             ...  \n",
       "274 -122.293389 -1.976890e+06  334403.078441               0  \n",
       "275 -114.296194 -1.261565e+06  515731.793677               0  \n",
       "276 -114.487733 -1.296508e+06  406881.420680               0  \n",
       "277  -89.467500  7.102613e+05  678171.825235               0  \n",
       "278 -107.908480 -8.141072e+05 -165339.105983               0  \n",
       "\n",
       "[279 rows x 9 columns]"
      ]
     },
     "execution_count": 7,
     "metadata": {},
     "output_type": "execute_result"
    }
   ],
   "source": [
    "airports['infection time'] = 0\n",
    "airports"
   ]
  },
  {
   "cell_type": "markdown",
   "metadata": {},
   "source": [
    "Отсортируем датасет рейсов по времени вылета."
   ]
  },
  {
   "cell_type": "code",
   "execution_count": 8,
   "metadata": {},
   "outputs": [
    {
     "data": {
      "text/html": [
       "<div>\n",
       "<style scoped>\n",
       "    .dataframe tbody tr th:only-of-type {\n",
       "        vertical-align: middle;\n",
       "    }\n",
       "\n",
       "    .dataframe tbody tr th {\n",
       "        vertical-align: top;\n",
       "    }\n",
       "\n",
       "    .dataframe thead th {\n",
       "        text-align: right;\n",
       "    }\n",
       "</style>\n",
       "<table border=\"1\" class=\"dataframe\">\n",
       "  <thead>\n",
       "    <tr style=\"text-align: right;\">\n",
       "      <th></th>\n",
       "      <th>Source</th>\n",
       "      <th>Destination</th>\n",
       "      <th>StartTime</th>\n",
       "      <th>EndTime</th>\n",
       "      <th>Duration</th>\n",
       "    </tr>\n",
       "  </thead>\n",
       "  <tbody>\n",
       "    <tr>\n",
       "      <th>16150</th>\n",
       "      <td>27</td>\n",
       "      <td>49</td>\n",
       "      <td>1229231100</td>\n",
       "      <td>1.229247e+09</td>\n",
       "      <td>15660.0</td>\n",
       "    </tr>\n",
       "    <tr>\n",
       "      <th>16997</th>\n",
       "      <td>30</td>\n",
       "      <td>2</td>\n",
       "      <td>1229233200</td>\n",
       "      <td>1.229246e+09</td>\n",
       "      <td>12780.0</td>\n",
       "    </tr>\n",
       "    <tr>\n",
       "      <th>14055</th>\n",
       "      <td>251</td>\n",
       "      <td>20</td>\n",
       "      <td>1229235000</td>\n",
       "      <td>1.229246e+09</td>\n",
       "      <td>11340.0</td>\n",
       "    </tr>\n",
       "    <tr>\n",
       "      <th>4463</th>\n",
       "      <td>12</td>\n",
       "      <td>4</td>\n",
       "      <td>1229235300</td>\n",
       "      <td>1.229245e+09</td>\n",
       "      <td>9660.0</td>\n",
       "    </tr>\n",
       "    <tr>\n",
       "      <th>2160</th>\n",
       "      <td>180</td>\n",
       "      <td>20</td>\n",
       "      <td>1229235300</td>\n",
       "      <td>1.229246e+09</td>\n",
       "      <td>10200.0</td>\n",
       "    </tr>\n",
       "    <tr>\n",
       "      <th>...</th>\n",
       "      <td>...</td>\n",
       "      <td>...</td>\n",
       "      <td>...</td>\n",
       "      <td>...</td>\n",
       "      <td>...</td>\n",
       "    </tr>\n",
       "    <tr>\n",
       "      <th>60367</th>\n",
       "      <td>55</td>\n",
       "      <td>12</td>\n",
       "      <td>1229584500</td>\n",
       "      <td>1.229609e+09</td>\n",
       "      <td>24660.0</td>\n",
       "    </tr>\n",
       "    <tr>\n",
       "      <th>60474</th>\n",
       "      <td>55</td>\n",
       "      <td>16</td>\n",
       "      <td>1229584800</td>\n",
       "      <td>1.229605e+09</td>\n",
       "      <td>19800.0</td>\n",
       "    </tr>\n",
       "    <tr>\n",
       "      <th>60378</th>\n",
       "      <td>55</td>\n",
       "      <td>16</td>\n",
       "      <td>1229584800</td>\n",
       "      <td>1.229604e+09</td>\n",
       "      <td>19200.0</td>\n",
       "    </tr>\n",
       "    <tr>\n",
       "      <th>60471</th>\n",
       "      <td>55</td>\n",
       "      <td>23</td>\n",
       "      <td>1229586600</td>\n",
       "      <td>1.229606e+09</td>\n",
       "      <td>19740.0</td>\n",
       "    </tr>\n",
       "    <tr>\n",
       "      <th>60374</th>\n",
       "      <td>55</td>\n",
       "      <td>24</td>\n",
       "      <td>1229586900</td>\n",
       "      <td>1.229609e+09</td>\n",
       "      <td>21900.0</td>\n",
       "    </tr>\n",
       "  </tbody>\n",
       "</table>\n",
       "<p>61371 rows × 5 columns</p>\n",
       "</div>"
      ],
      "text/plain": [
       "       Source  Destination   StartTime       EndTime  Duration\n",
       "16150      27           49  1229231100  1.229247e+09   15660.0\n",
       "16997      30            2  1229233200  1.229246e+09   12780.0\n",
       "14055     251           20  1229235000  1.229246e+09   11340.0\n",
       "4463       12            4  1229235300  1.229245e+09    9660.0\n",
       "2160      180           20  1229235300  1.229246e+09   10200.0\n",
       "...       ...          ...         ...           ...       ...\n",
       "60367      55           12  1229584500  1.229609e+09   24660.0\n",
       "60474      55           16  1229584800  1.229605e+09   19800.0\n",
       "60378      55           16  1229584800  1.229604e+09   19200.0\n",
       "60471      55           23  1229586600  1.229606e+09   19740.0\n",
       "60374      55           24  1229586900  1.229609e+09   21900.0\n",
       "\n",
       "[61371 rows x 5 columns]"
      ]
     },
     "execution_count": 8,
     "metadata": {},
     "output_type": "execute_result"
    }
   ],
   "source": [
    "flights.sort_values('StartTime', inplace=True)\n",
    "flights"
   ]
  },
  {
   "cell_type": "markdown",
   "metadata": {},
   "source": [
    "## Симуляция"
   ]
  },
  {
   "cell_type": "code",
   "execution_count": 9,
   "metadata": {},
   "outputs": [],
   "source": [
    "# Функция симуляции принимает на вход id начального города и вероятность заражения\n",
    "def simulate_infection(start_city = 0, P = 0.5):\n",
    "    \n",
    "    # Работаем с копией датасета аэропортов\n",
    "    ap = airports.copy()\n",
    "    \n",
    "    # Ставим время заражения начального города в минимальное значение времени из датасета рейсов\n",
    "    ap.loc[start_city,'infection time'] = flights['StartTime'].min()\n",
    "    \n",
    "    for flight in flights.itertuples():\n",
    "        \n",
    "        # Если город вылета ещё не заражён, следующий шаг цикла\n",
    "        if ap.loc[getattr(flight,'Source'),'infection time'] == 0: continue\n",
    "            \n",
    "        # Если город прибытия уже заражён, следующий шаг цикла\n",
    "        if ap.loc[getattr(flight,'Destination'),'infection time'] > 0: continue\n",
    "            \n",
    "        # Если время вылета меньше, чем время заражения города вылета, следующий шаг цикла\n",
    "        if getattr(flight,'StartTime') < ap.loc[getattr(flight,'Source'),'infection time']: continue\n",
    "            \n",
    "        # Если случайное число больше порога, следующий шаг цикла\n",
    "        if np.random.random() > P: continue\n",
    "            \n",
    "        # Ставим городу прибытия время заражения как время прибытия рейса\n",
    "        ap.loc[getattr(flight,'Destination'),'infection time'] = getattr(flight,'EndTime')\n",
    "           \n",
    "    # Возвращаем словарь: ключ — id аэропорта, значение — время заражения. Выбираем только те аэропорты, которые заразились\n",
    "    return dict(ap[ap['infection time'] > 0][['id','infection time']].values)"
   ]
  },
  {
   "cell_type": "markdown",
   "metadata": {},
   "source": [
    "## Как инфекционность (вероятность заражения) болезни влияет на скорость распространения?\n",
    "\n",
    "Прогоним по 10 симуляций для разных вероятностей, сохранив результаты."
   ]
  },
  {
   "cell_type": "code",
   "execution_count": 10,
   "metadata": {},
   "outputs": [
    {
     "name": "stderr",
     "output_type": "stream",
     "text": [
      "100%|██████████| 10/10 [00:07<00:00,  1.30it/s]\n",
      "100%|██████████| 10/10 [00:10<00:00,  1.10s/it]\n",
      "100%|██████████| 10/10 [00:11<00:00,  1.11s/it]\n",
      "100%|██████████| 10/10 [00:12<00:00,  1.24s/it]\n",
      "100%|██████████| 10/10 [00:15<00:00,  1.51s/it]\n"
     ]
    }
   ],
   "source": [
    "from tqdm import tqdm\n",
    "\n",
    "res = {}\n",
    "probs = [0.01, 0.05, 0.1, 0.5, 1]\n",
    "for p in probs:\n",
    "    res[p] = []\n",
    "    for i in tqdm(range(10)):\n",
    "        res[p].append(simulate_infection(0,p))"
   ]
  },
  {
   "cell_type": "markdown",
   "metadata": {},
   "source": [
    "Пройдёмся в цикле от времени начала первого рейса до времени окончания последнего с шагом в 12 часов.\n",
    "\n",
    "Посчитаем долю заражённых аэропортов на каждом отрезке времени для разных вероятностей, сохраним вычисления в словаре contamination."
   ]
  },
  {
   "cell_type": "code",
   "execution_count": 11,
   "metadata": {},
   "outputs": [
    {
     "name": "stderr",
     "output_type": "stream",
     "text": [
      "100%|██████████| 9/9 [00:00<00:00, 192.01it/s]\n"
     ]
    }
   ],
   "source": [
    "infection_start_time = int(flights['StartTime'].min())\n",
    "infection_end_time = int(flights['EndTime'].max())\n",
    "airports_total = airports.shape[0]\n",
    "\n",
    "contamination = {}\n",
    "for p in res:\n",
    "    contamination[p] = {}\n",
    "    \n",
    "for t in tqdm(range(infection_start_time, infection_end_time, 12*60*60)):\n",
    "    for p in res:\n",
    "        s = 0\n",
    "        for d in res[p]:\n",
    "            s += len([x for x in d.values() if x <= t])\n",
    "        h = int((t - infection_start_time) / 60 / 60)\n",
    "        contamination[p][h] = s / len(res[p]) / airports_total"
   ]
  },
  {
   "cell_type": "code",
   "execution_count": 12,
   "metadata": {},
   "outputs": [
    {
     "data": {
      "text/plain": [
       "{0.01: {0: 0.0035842293906810036,\n",
       "  12: 0.003942652329749104,\n",
       "  24: 0.006093189964157706,\n",
       "  36: 0.007168458781362007,\n",
       "  48: 0.02043010752688172,\n",
       "  60: 0.03655913978494624,\n",
       "  72: 0.07025089605734768,\n",
       "  84: 0.08100358422939069,\n",
       "  96: 0.10215053763440861},\n",
       " 0.05: {0: 0.0035842293906810036,\n",
       "  12: 0.025806451612903226,\n",
       "  24: 0.2025089605734767,\n",
       "  36: 0.2885304659498208,\n",
       "  48: 0.4017921146953405,\n",
       "  60: 0.43476702508960574,\n",
       "  72: 0.5455197132616487,\n",
       "  84: 0.574910394265233,\n",
       "  96: 0.6225806451612903},\n",
       " 0.1: {0: 0.0035842293906810036,\n",
       "  12: 0.027240143369175625,\n",
       "  24: 0.23584229390681002,\n",
       "  36: 0.3265232974910394,\n",
       "  48: 0.5311827956989247,\n",
       "  60: 0.5666666666666667,\n",
       "  72: 0.6652329749103942,\n",
       "  84: 0.6899641577060932,\n",
       "  96: 0.7530465949820788},\n",
       " 0.5: {0: 0.0035842293906810036,\n",
       "  12: 0.3129032258064516,\n",
       "  24: 0.8734767025089605,\n",
       "  36: 0.9150537634408602,\n",
       "  48: 0.9688172043010753,\n",
       "  60: 0.974910394265233,\n",
       "  72: 0.9853046594982078,\n",
       "  84: 0.9860215053763441,\n",
       "  96: 0.9888888888888888},\n",
       " 1: {0: 0.0035842293906810036,\n",
       "  12: 0.5985663082437276,\n",
       "  24: 0.982078853046595,\n",
       "  36: 0.989247311827957,\n",
       "  48: 0.992831541218638,\n",
       "  60: 0.992831541218638,\n",
       "  72: 0.992831541218638,\n",
       "  84: 0.992831541218638,\n",
       "  96: 0.992831541218638}}"
      ]
     },
     "execution_count": 12,
     "metadata": {},
     "output_type": "execute_result"
    }
   ],
   "source": [
    "contamination"
   ]
  },
  {
   "cell_type": "markdown",
   "metadata": {},
   "source": [
    "Построим графики распространения инфекции для разных вероятностей."
   ]
  },
  {
   "cell_type": "code",
   "execution_count": 13,
   "metadata": {},
   "outputs": [
    {
     "data": {
      "text/plain": [
       "<matplotlib.legend.Legend at 0x126d54969a0>"
      ]
     },
     "execution_count": 13,
     "metadata": {},
     "output_type": "execute_result"
    },
    {
     "data": {
      "image/png": "[encoded data removed]",
      "text/plain": [
       "<Figure size 1080x864 with 1 Axes>"
      ]
     },
     "metadata": {
      "needs_background": "light"
     },
     "output_type": "display_data"
    }
   ],
   "source": [
    "plt.title('Распространение инфекции')\n",
    "plt.xlabel(\"Время, час\")\n",
    "plt.ylabel(\"Доля аэропортов\")\n",
    "for p in contamination:\n",
    "    plt.plot(*zip(*sorted(contamination[p].items())), label=f\"p={p}\")\n",
    "plt.legend()"
   ]
  },
  {
   "cell_type": "markdown",
   "metadata": {},
   "source": [
    "Графики соответствуют ожиданиям: при вероятности заражения 1% доля инфицированных аэропортов не превысит 10%, при вероятности заражения 100% почти все аэропорты инфицируются уже за 20 часов.\n",
    "\n",
    "## Может ли информация о сети помочь предсказать, кто будет заражен?\n",
    "\n",
    "Построим граф, пробежав по датасету рейсов. Каждый рейс между двумя аэропортами увеличивает вес ребра между ними."
   ]
  },
  {
   "cell_type": "code",
   "execution_count": 16,
   "metadata": {},
   "outputs": [
    {
     "data": {
      "text/plain": [
       "(278, 2017)"
      ]
     },
     "execution_count": 16,
     "metadata": {},
     "output_type": "execute_result"
    }
   ],
   "source": [
    "G = nx.Graph()\n",
    "for flight in flights.itertuples():\n",
    "    if G.has_edge(flight.Source, flight.Destination):\n",
    "        G[flight.Source][flight.Destination]['weight'] += 1\n",
    "    else:\n",
    "        G.add_edge(flight.Source, flight.Destination, weight=1)\n",
    "        \n",
    "G.number_of_nodes(), G.number_of_edges()"
   ]
  },
  {
   "cell_type": "markdown",
   "metadata": {},
   "source": [
    "Преобразуем веса в доли, разделив на общее количество рейсов."
   ]
  },
  {
   "cell_type": "code",
   "execution_count": 17,
   "metadata": {},
   "outputs": [],
   "source": [
    "total_flights = flights.shape[0]\n",
    "for e in G.edges.data(\"weight\", default=1):\n",
    "    G[e[0]][e[1]]['weight'] = e[2] / total_flights"
   ]
  },
  {
   "cell_type": "markdown",
   "metadata": {},
   "source": [
    "Если всё правильно, сумма весов графа должна быть равна 1."
   ]
  },
  {
   "cell_type": "code",
   "execution_count": 18,
   "metadata": {},
   "outputs": [
    {
     "data": {
      "text/plain": [
       "0.9999999999999998"
      ]
     },
     "execution_count": 18,
     "metadata": {},
     "output_type": "execute_result"
    }
   ],
   "source": [
    "G.size(weight='weight')"
   ]
  },
  {
   "cell_type": "markdown",
   "metadata": {},
   "source": [
    "Прогоним симуляцию 50 раз, сохранив результаты."
   ]
  },
  {
   "cell_type": "code",
   "execution_count": 19,
   "metadata": {},
   "outputs": [
    {
     "name": "stderr",
     "output_type": "stream",
     "text": [
      "100%|██████████| 50/50 [01:04<00:00,  1.28s/it]\n"
     ]
    }
   ],
   "source": [
    "res = []\n",
    "for i in tqdm(range(50)):\n",
    "    res.append(simulate_infection())"
   ]
  },
  {
   "cell_type": "markdown",
   "metadata": {},
   "source": [
    "Создадим датафрейм airports_analysis_data. Сначала запишем в него медианное время заражения."
   ]
  },
  {
   "cell_type": "code",
   "execution_count": 20,
   "metadata": {},
   "outputs": [
    {
     "data": {
      "text/html": [
       "<div>\n",
       "<style scoped>\n",
       "    .dataframe tbody tr th:only-of-type {\n",
       "        vertical-align: middle;\n",
       "    }\n",
       "\n",
       "    .dataframe tbody tr th {\n",
       "        vertical-align: top;\n",
       "    }\n",
       "\n",
       "    .dataframe thead th {\n",
       "        text-align: right;\n",
       "    }\n",
       "</style>\n",
       "<table border=\"1\" class=\"dataframe\">\n",
       "  <thead>\n",
       "    <tr style=\"text-align: right;\">\n",
       "      <th></th>\n",
       "      <th>id</th>\n",
       "      <th>median time</th>\n",
       "    </tr>\n",
       "  </thead>\n",
       "  <tbody>\n",
       "    <tr>\n",
       "      <th>0</th>\n",
       "      <td>0</td>\n",
       "      <td>0.0</td>\n",
       "    </tr>\n",
       "    <tr>\n",
       "      <th>1</th>\n",
       "      <td>1</td>\n",
       "      <td>35700.0</td>\n",
       "    </tr>\n",
       "    <tr>\n",
       "      <th>2</th>\n",
       "      <td>2</td>\n",
       "      <td>30960.0</td>\n",
       "    </tr>\n",
       "    <tr>\n",
       "      <th>3</th>\n",
       "      <td>3</td>\n",
       "      <td>35760.0</td>\n",
       "    </tr>\n",
       "    <tr>\n",
       "      <th>4</th>\n",
       "      <td>4</td>\n",
       "      <td>29340.0</td>\n",
       "    </tr>\n",
       "    <tr>\n",
       "      <th>...</th>\n",
       "      <td>...</td>\n",
       "      <td>...</td>\n",
       "    </tr>\n",
       "    <tr>\n",
       "      <th>271</th>\n",
       "      <td>273</td>\n",
       "      <td>79080.0</td>\n",
       "    </tr>\n",
       "    <tr>\n",
       "      <th>272</th>\n",
       "      <td>274</td>\n",
       "      <td>79440.0</td>\n",
       "    </tr>\n",
       "    <tr>\n",
       "      <th>273</th>\n",
       "      <td>275</td>\n",
       "      <td>66240.0</td>\n",
       "    </tr>\n",
       "    <tr>\n",
       "      <th>274</th>\n",
       "      <td>276</td>\n",
       "      <td>79800.0</td>\n",
       "    </tr>\n",
       "    <tr>\n",
       "      <th>275</th>\n",
       "      <td>277</td>\n",
       "      <td>140880.0</td>\n",
       "    </tr>\n",
       "  </tbody>\n",
       "</table>\n",
       "<p>277 rows × 2 columns</p>\n",
       "</div>"
      ],
      "text/plain": [
       "      id  median time\n",
       "0      0          0.0\n",
       "1      1      35700.0\n",
       "2      2      30960.0\n",
       "3      3      35760.0\n",
       "4      4      29340.0\n",
       "..   ...          ...\n",
       "271  273      79080.0\n",
       "272  274      79440.0\n",
       "273  275      66240.0\n",
       "274  276      79800.0\n",
       "275  277     140880.0\n",
       "\n",
       "[277 rows x 2 columns]"
      ]
     },
     "execution_count": 20,
     "metadata": {},
     "output_type": "execute_result"
    }
   ],
   "source": [
    "airports_analysis_data = {}\n",
    "\n",
    "# Для всех словарей из результатов\n",
    "for d in res:\n",
    "    # Бежим по словарю\n",
    "    for k, v in d.items():\n",
    "        # Формируем для каждого id список из значений времени заражения\n",
    "        if k not in airports_analysis_data:\n",
    "            airports_analysis_data[k] = []\n",
    "        airports_analysis_data[k].append(v)\n",
    "\n",
    "for id in airports_analysis_data:\n",
    "    # Если у какого-то аэропорта меньше 50 значений времени заражения,\n",
    "    # дополняем список самым высоким значением времени (иначе медианы для таких аэропортов будут посчитаны некорректно)\n",
    "    airports_analysis_data[id] += [infection_end_time + 1] * (50 - len(airports_analysis_data[id]))\n",
    "    # Заменяем для каждого аэропорта список на медианное значение времени от начала распространения инфекции\n",
    "    airports_analysis_data[id] = np.median(airports_analysis_data[id]) - infection_start_time\n",
    "\n",
    "airports_analysis_data = pd.DataFrame(airports_analysis_data.items(), columns=['id','median time'])\n",
    "airports_analysis_data.sort_values('id', inplace=True)\n",
    "airports_analysis_data"
   ]
  },
  {
   "cell_type": "markdown",
   "metadata": {},
   "source": [
    "Рассчитаем для всех узлов графа параметры Degree centrality, Betweenness centrality и Clustering (коэффициент кластеризации), запишем в датасет."
   ]
  },
  {
   "cell_type": "code",
   "execution_count": 22,
   "metadata": {},
   "outputs": [
    {
     "data": {
      "text/html": [
       "<div>\n",
       "<style scoped>\n",
       "    .dataframe tbody tr th:only-of-type {\n",
       "        vertical-align: middle;\n",
       "    }\n",
       "\n",
       "    .dataframe tbody tr th {\n",
       "        vertical-align: top;\n",
       "    }\n",
       "\n",
       "    .dataframe thead th {\n",
       "        text-align: right;\n",
       "    }\n",
       "</style>\n",
       "<table border=\"1\" class=\"dataframe\">\n",
       "  <thead>\n",
       "    <tr style=\"text-align: right;\">\n",
       "      <th></th>\n",
       "      <th>id</th>\n",
       "      <th>median time</th>\n",
       "      <th>degree centrality</th>\n",
       "      <th>betweenness centrality</th>\n",
       "      <th>clustering</th>\n",
       "    </tr>\n",
       "  </thead>\n",
       "  <tbody>\n",
       "    <tr>\n",
       "      <th>0</th>\n",
       "      <td>0</td>\n",
       "      <td>0.0</td>\n",
       "      <td>0.018051</td>\n",
       "      <td>0.000000</td>\n",
       "      <td>1.000000</td>\n",
       "    </tr>\n",
       "    <tr>\n",
       "      <th>1</th>\n",
       "      <td>1</td>\n",
       "      <td>35700.0</td>\n",
       "      <td>0.202166</td>\n",
       "      <td>0.004468</td>\n",
       "      <td>0.531818</td>\n",
       "    </tr>\n",
       "    <tr>\n",
       "      <th>2</th>\n",
       "      <td>2</td>\n",
       "      <td>30960.0</td>\n",
       "      <td>0.231047</td>\n",
       "      <td>0.011347</td>\n",
       "      <td>0.439980</td>\n",
       "    </tr>\n",
       "    <tr>\n",
       "      <th>3</th>\n",
       "      <td>3</td>\n",
       "      <td>35760.0</td>\n",
       "      <td>0.451264</td>\n",
       "      <td>0.114374</td>\n",
       "      <td>0.182710</td>\n",
       "    </tr>\n",
       "    <tr>\n",
       "      <th>4</th>\n",
       "      <td>4</td>\n",
       "      <td>29340.0</td>\n",
       "      <td>0.530686</td>\n",
       "      <td>0.213784</td>\n",
       "      <td>0.137639</td>\n",
       "    </tr>\n",
       "    <tr>\n",
       "      <th>...</th>\n",
       "      <td>...</td>\n",
       "      <td>...</td>\n",
       "      <td>...</td>\n",
       "      <td>...</td>\n",
       "      <td>...</td>\n",
       "    </tr>\n",
       "    <tr>\n",
       "      <th>271</th>\n",
       "      <td>273</td>\n",
       "      <td>79080.0</td>\n",
       "      <td>0.007220</td>\n",
       "      <td>0.000000</td>\n",
       "      <td>1.000000</td>\n",
       "    </tr>\n",
       "    <tr>\n",
       "      <th>272</th>\n",
       "      <td>274</td>\n",
       "      <td>79440.0</td>\n",
       "      <td>0.010830</td>\n",
       "      <td>0.000000</td>\n",
       "      <td>1.000000</td>\n",
       "    </tr>\n",
       "    <tr>\n",
       "      <th>273</th>\n",
       "      <td>275</td>\n",
       "      <td>66240.0</td>\n",
       "      <td>0.003610</td>\n",
       "      <td>0.000000</td>\n",
       "      <td>0.000000</td>\n",
       "    </tr>\n",
       "    <tr>\n",
       "      <th>274</th>\n",
       "      <td>276</td>\n",
       "      <td>79800.0</td>\n",
       "      <td>0.003610</td>\n",
       "      <td>0.000000</td>\n",
       "      <td>0.000000</td>\n",
       "    </tr>\n",
       "    <tr>\n",
       "      <th>275</th>\n",
       "      <td>277</td>\n",
       "      <td>140880.0</td>\n",
       "      <td>0.003610</td>\n",
       "      <td>0.000000</td>\n",
       "      <td>0.000000</td>\n",
       "    </tr>\n",
       "  </tbody>\n",
       "</table>\n",
       "<p>277 rows × 5 columns</p>\n",
       "</div>"
      ],
      "text/plain": [
       "      id  median time  degree centrality  betweenness centrality  clustering\n",
       "0      0          0.0           0.018051                0.000000    1.000000\n",
       "1      1      35700.0           0.202166                0.004468    0.531818\n",
       "2      2      30960.0           0.231047                0.011347    0.439980\n",
       "3      3      35760.0           0.451264                0.114374    0.182710\n",
       "4      4      29340.0           0.530686                0.213784    0.137639\n",
       "..   ...          ...                ...                     ...         ...\n",
       "271  273      79080.0           0.007220                0.000000    1.000000\n",
       "272  274      79440.0           0.010830                0.000000    1.000000\n",
       "273  275      66240.0           0.003610                0.000000    0.000000\n",
       "274  276      79800.0           0.003610                0.000000    0.000000\n",
       "275  277     140880.0           0.003610                0.000000    0.000000\n",
       "\n",
       "[277 rows x 5 columns]"
      ]
     },
     "execution_count": 22,
     "metadata": {},
     "output_type": "execute_result"
    }
   ],
   "source": [
    "degree_centrality = nx.degree_centrality(G)\n",
    "airports_analysis_data['degree centrality'] = pd.Series(degree_centrality)\n",
    "\n",
    "betweenness_centrality = nx.betweenness_centrality(G)\n",
    "airports_analysis_data['betweenness centrality'] = pd.Series(betweenness_centrality)\n",
    "\n",
    "clustering = nx.clustering(G)\n",
    "airports_analysis_data['clustering'] = pd.Series(clustering)\n",
    "\n",
    "airports_analysis_data"
   ]
  },
  {
   "cell_type": "markdown",
   "metadata": {},
   "source": [
    "Построим графики распределения этих параметров от медианного времени заражения."
   ]
  },
  {
   "cell_type": "code",
   "execution_count": 23,
   "metadata": {},
   "outputs": [
    {
     "data": {
      "text/plain": [
       "<matplotlib.collections.PathCollection at 0x126d5b1ea60>"
      ]
     },
     "execution_count": 23,
     "metadata": {},
     "output_type": "execute_result"
    },
    {
     "data": {
      "image/png": "[encoded data removed]",
      "text/plain": [
       "<Figure size 1440x360 with 3 Axes>"
      ]
     },
     "metadata": {
      "needs_background": "light"
     },
     "output_type": "display_data"
    }
   ],
   "source": [
    "fig, (ax1, ax2, ax3) = plt.subplots(1, 3, sharey=True)\n",
    "fig.set_size_inches(20, 5)\n",
    "fig.suptitle('Медианное время заражения аэропортов')\n",
    "ax1.set_ylabel('Degree centrality')\n",
    "ax1.scatter(airports_analysis_data['median time'],airports_analysis_data['degree centrality'])\n",
    "ax2.set_ylabel('Betweenness centrality')\n",
    "ax2.scatter(airports_analysis_data['median time'],airports_analysis_data['betweenness centrality'])\n",
    "ax3.set_ylabel('Clustering')\n",
    "ax3.scatter(airports_analysis_data['median time'],airports_analysis_data['clustering'])"
   ]
  },
  {
   "cell_type": "markdown",
   "metadata": {},
   "source": [
    "На левом графике можно увидеть определённую обратную зависимость, хотя значения центральности для многих узлов близки к 0.\n",
    "\n",
    "На центральном графике зависимость почти не выражена из-за того, что значения степени посредничества для большинства аэропортов близки к 0. То есть кратчайшие пути проходят через небольшое количество основных аэропортов.\n",
    "\n",
    "На правом графике наблюдается довольно хаотичное распределение.\n",
    "\n",
    "Построим матрицу корреляций Спирмена."
   ]
  },
  {
   "cell_type": "code",
   "execution_count": 24,
   "metadata": {},
   "outputs": [
    {
     "data": {
      "text/html": [
       "<div>\n",
       "<style scoped>\n",
       "    .dataframe tbody tr th:only-of-type {\n",
       "        vertical-align: middle;\n",
       "    }\n",
       "\n",
       "    .dataframe tbody tr th {\n",
       "        vertical-align: top;\n",
       "    }\n",
       "\n",
       "    .dataframe thead th {\n",
       "        text-align: right;\n",
       "    }\n",
       "</style>\n",
       "<table border=\"1\" class=\"dataframe\">\n",
       "  <thead>\n",
       "    <tr style=\"text-align: right;\">\n",
       "      <th></th>\n",
       "      <th>id</th>\n",
       "      <th>median time</th>\n",
       "      <th>degree centrality</th>\n",
       "      <th>betweenness centrality</th>\n",
       "      <th>clustering</th>\n",
       "    </tr>\n",
       "  </thead>\n",
       "  <tbody>\n",
       "    <tr>\n",
       "      <th>id</th>\n",
       "      <td>1.000000</td>\n",
       "      <td>0.609348</td>\n",
       "      <td>-0.661712</td>\n",
       "      <td>-0.642204</td>\n",
       "      <td>0.091032</td>\n",
       "    </tr>\n",
       "    <tr>\n",
       "      <th>median time</th>\n",
       "      <td>0.609348</td>\n",
       "      <td>1.000000</td>\n",
       "      <td>-0.579652</td>\n",
       "      <td>-0.433733</td>\n",
       "      <td>-0.060250</td>\n",
       "    </tr>\n",
       "    <tr>\n",
       "      <th>degree centrality</th>\n",
       "      <td>-0.661712</td>\n",
       "      <td>-0.579652</td>\n",
       "      <td>1.000000</td>\n",
       "      <td>0.848137</td>\n",
       "      <td>0.186619</td>\n",
       "    </tr>\n",
       "    <tr>\n",
       "      <th>betweenness centrality</th>\n",
       "      <td>-0.642204</td>\n",
       "      <td>-0.433733</td>\n",
       "      <td>0.848137</td>\n",
       "      <td>1.000000</td>\n",
       "      <td>-0.254992</td>\n",
       "    </tr>\n",
       "    <tr>\n",
       "      <th>clustering</th>\n",
       "      <td>0.091032</td>\n",
       "      <td>-0.060250</td>\n",
       "      <td>0.186619</td>\n",
       "      <td>-0.254992</td>\n",
       "      <td>1.000000</td>\n",
       "    </tr>\n",
       "  </tbody>\n",
       "</table>\n",
       "</div>"
      ],
      "text/plain": [
       "                              id  median time  degree centrality  \\\n",
       "id                      1.000000     0.609348          -0.661712   \n",
       "median time             0.609348     1.000000          -0.579652   \n",
       "degree centrality      -0.661712    -0.579652           1.000000   \n",
       "betweenness centrality -0.642204    -0.433733           0.848137   \n",
       "clustering              0.091032    -0.060250           0.186619   \n",
       "\n",
       "                        betweenness centrality  clustering  \n",
       "id                                   -0.642204    0.091032  \n",
       "median time                          -0.433733   -0.060250  \n",
       "degree centrality                     0.848137    0.186619  \n",
       "betweenness centrality                1.000000   -0.254992  \n",
       "clustering                           -0.254992    1.000000  "
      ]
     },
     "execution_count": 24,
     "metadata": {},
     "output_type": "execute_result"
    }
   ],
   "source": [
    "airports_analysis_data.corr('spearman')"
   ]
  },
  {
   "cell_type": "markdown",
   "metadata": {},
   "source": [
    "Как и предполагалось, наиболее сильная корреляция к медианному времени заражения существует у обычной центральности (Degree centrality). Чем больше соседей у аэропорта, тем быстрее он будет заражён."
   ]
  }
 ],
 "metadata": {
  "kernelspec": {
   "display_name": "Python 3",
   "language": "python",
   "name": "python3"
  },
  "language_info": {
   "codemirror_mode": {
    "name": "ipython",
    "version": 3
   },
   "file_extension": ".py",
   "mimetype": "text/x-python",
   "name": "python",
   "nbconvert_exporter": "python",
   "pygments_lexer": "ipython3",
   "version": "3.8.5"
  }
 },
 "nbformat": 4,
 "nbformat_minor": 4
}
